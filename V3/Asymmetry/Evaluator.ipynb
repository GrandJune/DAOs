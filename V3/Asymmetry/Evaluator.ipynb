{
 "cells": [
  {
   "cell_type": "code",
   "execution_count": 22,
   "metadata": {
    "collapsed": true
   },
   "outputs": [],
   "source": [
    "import matplotlib.pyplot as plt\n",
    "import pickle\n",
    "import numpy as np\n",
    "from matplotlib import container"
   ]
  },
  {
   "cell_type": "code",
   "execution_count": 23,
   "outputs": [],
   "source": [
    "data_folder = r\"E:\\data\\dao-0127\\DAO_2\\Asymmetry\"\n",
    "dao_performance_file = data_folder + r\"\\dao_performance\"\n",
    "consensus_performance_file = data_folder + r\"\\dao_consensus_performance\"\n",
    "dao_diversity_file = data_folder + r\"\\dao_diversity\"\n",
    "dao_variance_file = data_folder + r\"\\dao_variance\"\n",
    "dao_percentile_10_file = data_folder + r\"\\dao_percentile_10\"\n",
    "dao_percentile_90_file = data_folder + r\"\\dao_percentile_90\"\n",
    "\n",
    "dao_original_performance_file = data_folder + r\"\\dao_original_performance\"\n",
    "\n",
    "with open(dao_performance_file, 'rb') as infile:\n",
    "    dao_performance = pickle.load(infile)\n",
    "with open(dao_diversity_file, 'rb') as infile:\n",
    "    dao_diversity = pickle.load(infile)\n",
    "with open(dao_variance_file, 'rb') as infile:\n",
    "    dao_variance = pickle.load(infile)\n",
    "with open(dao_percentile_10_file, 'rb') as infile:\n",
    "    dao_percentile_10 = pickle.load(infile)\n",
    "with open(dao_percentile_90_file, 'rb') as infile:\n",
    "    dao_percentile_90 = pickle.load(infile)\n",
    "\n",
    "with open(consensus_performance_file, 'rb') as infile:\n",
    "    consensus_performance = pickle.load(infile)\n",
    "\n",
    "with open(dao_original_performance_file, 'rb') as infile:\n",
    "    dao_original_performance = pickle.load(infile)\n"
   ],
   "metadata": {
    "collapsed": false
   }
  },
  {
   "cell_type": "code",
   "execution_count": 24,
   "outputs": [
    {
     "name": "stdout",
     "output_type": "stream",
     "text": [
      "(5, 500)\n"
     ]
    }
   ],
   "source": [
    "print(np.array(dao_performance).shape)"
   ],
   "metadata": {
    "collapsed": false
   }
  },
  {
   "cell_type": "code",
   "execution_count": 25,
   "outputs": [
    {
     "data": {
      "text/plain": "<Figure size 432x288 with 1 Axes>",
      "image/png": "[encoded data removed]"
     },
     "metadata": {
      "needs_background": "light"
     },
     "output_type": "display_data"
    },
    {
     "data": {
      "text/plain": "<Figure size 432x288 with 0 Axes>"
     },
     "metadata": {},
     "output_type": "display_data"
    }
   ],
   "source": [
    "x = range(len(dao_performance[0]))\n",
    "plt.plot(x, dao_performance[0], \"r-\", label='$\\\\rho=0$')\n",
    "# plt.plot(x, dao_performance[1], \"y-\", label='$\\\\rho=1$')\n",
    "# plt.plot(x, dao_performance[2], \"g-\", label='$\\\\rho=2$')\n",
    "# plt.plot(x, dao_performance[3], \"b-\", label='$\\\\rho=3$')\n",
    "# plt.plot(x, dao_performance[4], \"k-\", label='$\\\\rho=4$')\n",
    "plt.xlabel('Time', fontweight='bold', fontsize=10)\n",
    "plt.ylabel('Performance', fontweight='bold', fontsize=10)\n",
    "# plt.xticks(x)\n",
    "plt.legend(frameon=False, ncol=1, fontsize=10)\n",
    "plt.savefig(data_folder + r\"\\DAO_asymmetry.png\", transparent=False, dpi=200)\n",
    "plt.show()\n",
    "plt.clf()"
   ],
   "metadata": {
    "collapsed": false
   }
  },
  {
   "cell_type": "code",
   "execution_count": 25,
   "outputs": [],
   "source": [],
   "metadata": {
    "collapsed": false
   }
  }
 ],
 "metadata": {
  "kernelspec": {
   "display_name": "Python 3",
   "language": "python",
   "name": "python3"
  },
  "language_info": {
   "codemirror_mode": {
    "name": "ipython",
    "version": 2
   },
   "file_extension": ".py",
   "mimetype": "text/x-python",
   "name": "python",
   "nbconvert_exporter": "python",
   "pygments_lexer": "ipython2",
   "version": "2.7.6"
  }
 },
 "nbformat": 4,
 "nbformat_minor": 0
}

{
 "cells": [
  {
   "cell_type": "code",
   "execution_count": 8,
   "metadata": {
    "collapsed": true
   },
   "outputs": [],
   "source": [
    "import matplotlib.pyplot as plt\n",
    "import pickle\n",
    "from matplotlib import container"
   ]
  },
  {
   "cell_type": "code",
   "execution_count": 9,
   "outputs": [],
   "source": [
    "data_folder = r\"E:\\data\\dao-0127\\DAO\\Turbulence\"\n",
    "dao_performance_file = data_folder + r\"\\dao_performance\"\n",
    "hierarchy_performance_file = data_folder + r\"\\hierarchy_performance\"\n",
    "autonomy_performance_file = data_folder + r\"\\autonomy_performance\"\n",
    "\n",
    "consensus_performance_file = data_folder + r\"\\dao_consensus_performance\"\n",
    "superior_performance_file = data_folder + r\"\\hierarchy_superior_performance\"\n",
    "\n",
    "dao_diversity_file = data_folder + r\"\\dao_diversity\"\n",
    "hierarchy_diversity_file = data_folder + r\"\\hierarchy_diversity\"\n",
    "autonomy_diversity_file = data_folder + r\"\\autonomy_diversity\"\n",
    "\n",
    "dao_variance_file = data_folder + r\"\\dao_variance\"\n",
    "hierarchy_variance_file = data_folder + r\"\\hierarchy_variance\"\n",
    "autonomy_variance_file = data_folder + r\"\\autonomy_variance\"\n",
    "\n",
    "dao_percentile_10_file = data_folder + r\"\\dao_percentile_10\"\n",
    "hierarchy_percentile_10_file = data_folder + r\"\\hierarchy_percentile_10\"\n",
    "autonomy_percentile_10_file = data_folder + r\"\\autonomy_percentile_10\"\n",
    "\n",
    "dao_percentile_90_file = data_folder + r\"\\dao_percentile_90\"\n",
    "hierarchy_percentile_90_file = data_folder + r\"\\hierarchy_percentile_90\"\n",
    "autonomy_percentile_90_file = data_folder + r\"\\autonomy_percentile_90\"\n",
    "\n",
    "dao_original_performance_file = data_folder + r\"\\dao_original_performance\"\n",
    "hierarchy_original_performance_file = data_folder + r\"\\hierarchy_original_performance\"\n",
    "autonomy_original_performance_file = data_folder + r\"\\autonomy_original_performance\"\n",
    "\n",
    "with open(dao_performance_file, 'rb') as infile:\n",
    "    dao_performance = pickle.load(infile)\n",
    "with open(hierarchy_performance_file, 'rb') as infile:\n",
    "    hierarchy_performance = pickle.load(infile)\n",
    "with open(autonomy_performance_file, 'rb') as infile:\n",
    "    autonomy_performance = pickle.load(infile)\n",
    "\n",
    "with open(dao_diversity_file, 'rb') as infile:\n",
    "    dao_diversity = pickle.load(infile)\n",
    "with open(hierarchy_diversity_file, 'rb') as infile:\n",
    "    hierarchy_diversity = pickle.load(infile)\n",
    "with open(autonomy_diversity_file, 'rb') as infile:\n",
    "    autonomy_diversity = pickle.load(infile)\n",
    "\n",
    "# with open(dao_variance_file, 'rb') as infile:\n",
    "#     dao_variance = pickle.load(infile)\n",
    "# with open(hierarchy_variance_file, 'rb') as infile:\n",
    "#     hierarchy_variance = pickle.load(infile)\n",
    "# with open(autonomy_variance_file, 'rb') as infile:\n",
    "#     autonomy_variance = pickle.load(infile)\n",
    "#\n",
    "# with open(dao_percentile_10_file, 'rb') as infile:\n",
    "#     dao_percentile_10 = pickle.load(infile)\n",
    "# with open(hierarchy_percentile_10_file, 'rb') as infile:\n",
    "#     hierarchy_percentile_10 = pickle.load(infile)\n",
    "# with open(autonomy_percentile_10_file, 'rb') as infile:\n",
    "#     autonomy_percentile_10 = pickle.load(infile)\n",
    "#\n",
    "# with open(dao_percentile_90_file, 'rb') as infile:\n",
    "#     dao_percentile_90 = pickle.load(infile)\n",
    "# with open(hierarchy_percentile_90_file, 'rb') as infile:\n",
    "#     hierarchy_percentile_90 = pickle.load(infile)\n",
    "# with open(autonomy_percentile_90_file, 'rb') as infile:\n",
    "#     autonomy_percentile_90 = pickle.load(infile)\n",
    "#\n",
    "with open(consensus_performance_file, 'rb') as infile:\n",
    "    consensus_performance = pickle.load(infile)\n",
    "with open(superior_performance_file, 'rb') as infile:\n",
    "    superior_performance = pickle.load(infile)\n",
    "\n",
    "with open(dao_original_performance_file, 'rb') as infile:\n",
    "    dao_original_performance = pickle.load(infile)\n",
    "with open(hierarchy_original_performance_file, 'rb') as infile:\n",
    "    hierarchy_original_performance = pickle.load(infile)\n",
    "with open(autonomy_original_performance_file, 'rb') as infile:\n",
    "    autonomy_original_performance = pickle.load(infile)"
   ],
   "metadata": {
    "collapsed": false
   }
  },
  {
   "cell_type": "code",
   "execution_count": 10,
   "outputs": [
    {
     "data": {
      "text/plain": "<Figure size 432x288 with 1 Axes>",
      "image/png": "[encoded data removed]"
     },
     "metadata": {
      "needs_background": "light"
     },
     "output_type": "display_data"
    },
    {
     "data": {
      "text/plain": "<Figure size 432x288 with 0 Axes>"
     },
     "metadata": {},
     "output_type": "display_data"
    }
   ],
   "source": [
    "# x = range(len(dao_performance))\n",
    "x = range(0, 501)\n",
    "plt.plot(x, dao_performance[0:501], \"r-\", label=\"DAO\")\n",
    "# plt.plot(x, consensus_performance, \"r--\", label=\"Consensus\")\n",
    "plt.plot(x, hierarchy_performance[0:501], \"b-\", label=\"Hierarchy\")\n",
    "# plt.plot(x, superior_performance, \"b--\", label=\"Superior\")\n",
    "# plt.plot(x, autonomy_performance, \"k-\", label=\"Autonomy\")\n",
    "plt.xlabel('Time', fontweight='bold', fontsize=10)\n",
    "plt.ylabel('Performance', fontweight='bold', fontsize=10)\n",
    "# plt.xticks(x)\n",
    "plt.legend(frameon=False, ncol=1, fontsize=10)\n",
    "plt.savefig(data_folder + r\"\\DHA_performance.png\", transparent=False, dpi=200)\n",
    "plt.show()\n",
    "plt.clf()"
   ],
   "metadata": {
    "collapsed": false
   }
  },
  {
   "cell_type": "code",
   "execution_count": 11,
   "outputs": [
    {
     "name": "stdout",
     "output_type": "stream",
     "text": [
      "2000\n",
      "0.5281904761904775\n",
      "0.4779047619047613\n",
      "0.45422222222222086\n",
      "0.5088888888888886\n"
     ]
    }
   ],
   "source": [
    "print(len(dao_original_performance[0]))\n",
    "print(dao_original_performance[0][-1])\n",
    "print(dao_original_performance[1][-1])\n",
    "print(dao_original_performance[5][-1])\n",
    "print(dao_original_performance[10][-1])"
   ],
   "metadata": {
    "collapsed": false
   }
  },
  {
   "cell_type": "code",
   "execution_count": 12,
   "outputs": [
    {
     "data": {
      "text/plain": "<Figure size 432x288 with 1 Axes>",
      "image/png": "[encoded data removed]"
     },
     "metadata": {
      "needs_background": "light"
     },
     "output_type": "display_data"
    },
    {
     "data": {
      "text/plain": "<Figure size 432x288 with 0 Axes>"
     },
     "metadata": {},
     "output_type": "display_data"
    }
   ],
   "source": [
    "# Diversity\n",
    "x = range(len(dao_performance))\n",
    "plt.plot(range(len(dao_diversity)), dao_diversity, \"r-\", label=\"DAO\")\n",
    "plt.plot(range(len(hierarchy_diversity)), hierarchy_diversity, \"b-\", label=\"Hierarchy\")\n",
    "plt.plot(range(len(autonomy_diversity)), autonomy_diversity, \"k-\", label=\"Autonomy\")\n",
    "plt.xlabel('Time', fontweight='bold', fontsize=10)\n",
    "plt.ylabel('Diversity', fontweight='bold', fontsize=10)\n",
    "# plt.xticks(x)\n",
    "plt.legend(frameon=False, ncol=1, fontsize=10)\n",
    "plt.savefig(data_folder + r\"\\DHA_diversity.png\", transparent=False, dpi=200)\n",
    "plt.show()\n",
    "plt.clf()"
   ],
   "metadata": {
    "collapsed": false
   }
  },
  {
   "cell_type": "code",
   "execution_count": 12,
   "outputs": [],
   "source": [],
   "metadata": {
    "collapsed": false
   }
  }
 ],
 "metadata": {
  "kernelspec": {
   "display_name": "Python 3",
   "language": "python",
   "name": "python3"
  },
  "language_info": {
   "codemirror_mode": {
    "name": "ipython",
    "version": 2
   },
   "file_extension": ".py",
   "mimetype": "text/x-python",
   "name": "python",
   "nbconvert_exporter": "python",
   "pygments_lexer": "ipython2",
   "version": "2.7.6"
  }
 },
 "nbformat": 4,
 "nbformat_minor": 0
}

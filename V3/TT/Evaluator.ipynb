{
 "cells": [
  {
   "cell_type": "code",
   "execution_count": 13,
   "metadata": {
    "collapsed": true
   },
   "outputs": [],
   "source": [
    "import matplotlib.pyplot as plt\n",
    "import pickle\n",
    "from matplotlib import container"
   ]
  },
  {
   "cell_type": "code",
   "execution_count": 14,
   "outputs": [
    {
     "ename": "FileNotFoundError",
     "evalue": "[Errno 2] No such file or directory: 'E:\\\\data\\\\dao-0127\\\\DAO_2\\\\one_run\\\\TT\\\\dao_performance'",
     "output_type": "error",
     "traceback": [
      "\u001B[1;31m---------------------------------------------------------------------------\u001B[0m",
      "\u001B[1;31mFileNotFoundError\u001B[0m                         Traceback (most recent call last)",
      "\u001B[1;32m<ipython-input-14-1fd54365991c>\u001B[0m in \u001B[0;36m<module>\u001B[1;34m\u001B[0m\n\u001B[0;32m     28\u001B[0m \u001B[0mautonomy_original_performance_file\u001B[0m \u001B[1;33m=\u001B[0m \u001B[0mdata_folder\u001B[0m \u001B[1;33m+\u001B[0m \u001B[1;34mr\"\\autonomy_original_performance\"\u001B[0m\u001B[1;33m\u001B[0m\u001B[1;33m\u001B[0m\u001B[0m\n\u001B[0;32m     29\u001B[0m \u001B[1;33m\u001B[0m\u001B[0m\n\u001B[1;32m---> 30\u001B[1;33m \u001B[1;32mwith\u001B[0m \u001B[0mopen\u001B[0m\u001B[1;33m(\u001B[0m\u001B[0mdao_performance_file\u001B[0m\u001B[1;33m,\u001B[0m \u001B[1;34m'rb'\u001B[0m\u001B[1;33m)\u001B[0m \u001B[1;32mas\u001B[0m \u001B[0minfile\u001B[0m\u001B[1;33m:\u001B[0m\u001B[1;33m\u001B[0m\u001B[1;33m\u001B[0m\u001B[0m\n\u001B[0m\u001B[0;32m     31\u001B[0m     \u001B[0mdao_performance\u001B[0m \u001B[1;33m=\u001B[0m \u001B[0mpickle\u001B[0m\u001B[1;33m.\u001B[0m\u001B[0mload\u001B[0m\u001B[1;33m(\u001B[0m\u001B[0minfile\u001B[0m\u001B[1;33m)\u001B[0m\u001B[1;33m\u001B[0m\u001B[1;33m\u001B[0m\u001B[0m\n\u001B[0;32m     32\u001B[0m \u001B[1;32mwith\u001B[0m \u001B[0mopen\u001B[0m\u001B[1;33m(\u001B[0m\u001B[0mhierarchy_performance_file\u001B[0m\u001B[1;33m,\u001B[0m \u001B[1;34m'rb'\u001B[0m\u001B[1;33m)\u001B[0m \u001B[1;32mas\u001B[0m \u001B[0minfile\u001B[0m\u001B[1;33m:\u001B[0m\u001B[1;33m\u001B[0m\u001B[1;33m\u001B[0m\u001B[0m\n",
      "\u001B[1;31mFileNotFoundError\u001B[0m: [Errno 2] No such file or directory: 'E:\\\\data\\\\dao-0127\\\\DAO_2\\\\one_run\\\\TT\\\\dao_performance'"
     ]
    }
   ],
   "source": [
    "data_folder = r\"E:\\data\\dao-0127\\DAO_2\\one_run\\TT\"\n",
    "\n",
    "dao_performance_file = data_folder + r\"\\dao_performance\"\n",
    "hierarchy_performance_file = data_folder + r\"\\hierarchy_performance\"\n",
    "autonomy_performance_file = data_folder + r\"\\autonomy_performance\"\n",
    "\n",
    "consensus_performance_file = data_folder + r\"\\dao_consensus_performance\"\n",
    "superior_performance_file = data_folder + r\"\\hierarchy_superior_performance\"\n",
    "\n",
    "dao_diversity_file = data_folder + r\"\\dao_diversity\"\n",
    "hierarchy_diversity_file = data_folder + r\"\\hierarchy_diversity\"\n",
    "autonomy_diversity_file = data_folder + r\"\\autonomy_diversity\"\n",
    "\n",
    "dao_variance_file = data_folder + r\"\\dao_variance\"\n",
    "hierarchy_variance_file = data_folder + r\"\\hierarchy_variance\"\n",
    "autonomy_variance_file = data_folder + r\"\\autonomy_variance\"\n",
    "\n",
    "dao_percentile_10_file = data_folder + r\"\\dao_percentile_10\"\n",
    "hierarchy_percentile_10_file = data_folder + r\"\\hierarchy_percentile_10\"\n",
    "autonomy_percentile_10_file = data_folder + r\"\\autonomy_percentile_10\"\n",
    "\n",
    "dao_percentile_90_file = data_folder + r\"\\dao_percentile_90\"\n",
    "hierarchy_percentile_90_file = data_folder + r\"\\hierarchy_percentile_90\"\n",
    "autonomy_percentile_90_file = data_folder + r\"\\autonomy_percentile_90\"\n",
    "\n",
    "dao_original_performance_file = data_folder + r\"\\dao_original_performance\"\n",
    "hierarchy_original_performance_file = data_folder + r\"\\hierarchy_original_performance\"\n",
    "autonomy_original_performance_file = data_folder + r\"\\autonomy_original_performance\"\n",
    "\n",
    "with open(dao_performance_file, 'rb') as infile:\n",
    "    dao_performance = pickle.load(infile)\n",
    "with open(hierarchy_performance_file, 'rb') as infile:\n",
    "    hierarchy_performance = pickle.load(infile)\n",
    "with open(autonomy_performance_file, 'rb') as infile:\n",
    "    autonomy_performance = pickle.load(infile)\n",
    "\n",
    "with open(dao_diversity_file, 'rb') as infile:\n",
    "    dao_diversity = pickle.load(infile)\n",
    "with open(hierarchy_diversity_file, 'rb') as infile:\n",
    "    hierarchy_diversity = pickle.load(infile)\n",
    "with open(autonomy_diversity_file, 'rb') as infile:\n",
    "    autonomy_diversity = pickle.load(infile)\n",
    "\n",
    "with open(dao_variance_file, 'rb') as infile:\n",
    "    dao_variance = pickle.load(infile)\n",
    "with open(hierarchy_variance_file, 'rb') as infile:\n",
    "    hierarchy_variance = pickle.load(infile)\n",
    "with open(autonomy_variance_file, 'rb') as infile:\n",
    "    autonomy_variance = pickle.load(infile)\n",
    "\n",
    "with open(dao_percentile_10_file, 'rb') as infile:\n",
    "    dao_percentile_10 = pickle.load(infile)\n",
    "with open(hierarchy_percentile_10_file, 'rb') as infile:\n",
    "    hierarchy_percentile_10 = pickle.load(infile)\n",
    "with open(autonomy_percentile_10_file, 'rb') as infile:\n",
    "    autonomy_percentile_10 = pickle.load(infile)\n",
    "\n",
    "with open(dao_percentile_90_file, 'rb') as infile:\n",
    "    dao_percentile_90 = pickle.load(infile)\n",
    "with open(hierarchy_percentile_90_file, 'rb') as infile:\n",
    "    hierarchy_percentile_90 = pickle.load(infile)\n",
    "with open(autonomy_percentile_90_file, 'rb') as infile:\n",
    "    autonomy_percentile_90 = pickle.load(infile)\n",
    "\n",
    "with open(consensus_performance_file, 'rb') as infile:\n",
    "    consensus_performance = pickle.load(infile)\n",
    "with open(superior_performance_file, 'rb') as infile:\n",
    "    superior_performance = pickle.load(infile)\n",
    "\n",
    "with open(dao_original_performance_file, 'rb') as infile:\n",
    "    dao_original_performance = pickle.load(infile)\n",
    "with open(hierarchy_original_performance_file, 'rb') as infile:\n",
    "    hierarchy_original_performance = pickle.load(infile)\n",
    "with open(autonomy_original_performance_file, 'rb') as infile:\n",
    "    autonomy_original_performance = pickle.load(infile)"
   ],
   "metadata": {
    "collapsed": false
   }
  },
  {
   "cell_type": "code",
   "execution_count": null,
   "outputs": [],
   "source": [
    "x = range(len(dao_performance))\n",
    "# x = range(500)\n",
    "plt.plot(x, dao_performance[:len(x)], \"r-\", label=\"DAO\")\n",
    "plt.plot(x, hierarchy_performance[:len(x)], \"b-\", label=\"Hierarchy\")\n",
    "plt.plot(x, autonomy_performance[:len(x)], \"k-\", label=\"Autonomy\")\n",
    "plt.xlabel('Time', fontweight='bold', fontsize=10)\n",
    "plt.ylabel('Performance', fontweight='bold', fontsize=10)\n",
    "plt.title(\"Performance\")\n",
    "# plt.xticks(x)\n",
    "plt.legend(frameon=False, ncol=1, fontsize=10)\n",
    "plt.savefig(data_folder + r\"\\DHA_performance.png\", transparent=False, dpi=1200)\n",
    "plt.show()\n",
    "plt.clf()"
   ],
   "metadata": {
    "collapsed": false
   }
  },
  {
   "cell_type": "code",
   "execution_count": null,
   "outputs": [],
   "source": [
    "# x = range(len(dao_performance))\n",
    "x = range(500)\n",
    "plt.plot(x, consensus_performance[:len(x)], \"r-\", label=\"Consensus\")\n",
    "plt.plot(x, superior_performance[:len(x)], \"b-\", label=\"Superior\")\n",
    "plt.xlabel('Time', fontweight='bold', fontsize=10)\n",
    "plt.ylabel('Performance', fontweight='bold', fontsize=10)\n",
    "plt.title(\"Policy Performance\")\n",
    "# plt.xticks(x)\n",
    "plt.legend(frameon=False, ncol=1, fontsize=10)\n",
    "plt.savefig(data_folder + r\"\\DHA_hidden_performance.png\", transparent=False, dpi=1200)\n",
    "plt.show()\n",
    "plt.clf()"
   ],
   "metadata": {
    "collapsed": false
   }
  },
  {
   "cell_type": "code",
   "execution_count": null,
   "outputs": [],
   "source": [
    "print(len(dao_original_performance[0]))\n",
    "print(dao_original_performance[0][-1])\n",
    "print(dao_original_performance[1][-1])\n",
    "print(dao_original_performance[5][-1])\n",
    "print(dao_original_performance[10][-1])"
   ],
   "metadata": {
    "collapsed": false
   }
  },
  {
   "cell_type": "code",
   "execution_count": null,
   "outputs": [],
   "source": [
    "# Diversity\n",
    "x = range(len(dao_performance))\n",
    "plt.plot(range(len(dao_diversity)), dao_diversity, \"r-\", label=\"DAO\")\n",
    "plt.plot(range(len(hierarchy_diversity)), hierarchy_diversity, \"b-\", label=\"Hierarchy\")\n",
    "plt.plot(range(len(autonomy_diversity)), autonomy_diversity, \"k-\", label=\"Autonomy\")\n",
    "plt.xlabel('Time', fontweight='bold', fontsize=10)\n",
    "plt.ylabel('Diversity', fontweight='bold', fontsize=10)\n",
    "# plt.xticks(x)\n",
    "plt.legend(frameon=False, ncol=1, fontsize=10)\n",
    "plt.savefig(data_folder + r\"\\DHA_diversity.png\", transparent=False, dpi=1200)\n",
    "plt.show()\n",
    "plt.clf()"
   ],
   "metadata": {
    "collapsed": false
   }
  },
  {
   "cell_type": "code",
   "execution_count": null,
   "outputs": [],
   "source": [
    "# Variance\n",
    "x = range(len(dao_performance))\n",
    "plt.plot(x, dao_variance, \"r-\", label=\"DAO\")\n",
    "plt.plot(x, hierarchy_variance, \"b-\", label=\"Hierarchy\")\n",
    "plt.plot(x, autonomy_variance, \"k-\", label=\"Autonomy\")\n",
    "plt.xlabel('Time', fontweight='bold', fontsize=10)\n",
    "plt.ylabel('Variance', fontweight='bold', fontsize=10)\n",
    "# plt.xticks(x)\n",
    "plt.legend(frameon=False, ncol=1, fontsize=10)\n",
    "plt.savefig(data_folder + r\"\\DHA_variance.png\", transparent=False, dpi=1200)\n",
    "plt.show()\n",
    "plt.clf()"
   ],
   "metadata": {
    "collapsed": false
   }
  },
  {
   "cell_type": "code",
   "execution_count": null,
   "outputs": [],
   "source": [
    "# # A typical run\n",
    "# x = range(len(dao_performance))\n",
    "# # x = range(500)\n",
    "# plt.plot(x, dao_performance[:len(x)], \"r-\", label=\"DAO\")\n",
    "# plt.plot(x, hierarchy_performance[:len(x)], \"b-\", label=\"Hierarchy\")\n",
    "# plt.plot(x, autonomy_performance[:len(x)], \"k-\", label=\"Autonomy\")\n",
    "# plt.xlabel('Time', fontweight='bold', fontsize=10)\n",
    "# plt.ylabel('Performance', fontweight='bold', fontsize=10)\n",
    "# plt.title(\"Performance\")\n",
    "# # plt.xticks(x)\n",
    "# plt.legend(frameon=False, ncol=1, fontsize=10)\n",
    "# plt.savefig(data_folder + r\"\\DHA_performance.png\", transparent=False, dpi=1200)\n",
    "# plt.show()\n",
    "# plt.clf()"
   ],
   "metadata": {
    "collapsed": false
   }
  }
 ],
 "metadata": {
  "kernelspec": {
   "display_name": "Python 3",
   "language": "python",
   "name": "python3"
  },
  "language_info": {
   "codemirror_mode": {
    "name": "ipython",
    "version": 2
   },
   "file_extension": ".py",
   "mimetype": "text/x-python",
   "name": "python",
   "nbconvert_exporter": "python",
   "pygments_lexer": "ipython2",
   "version": "2.7.6"
  }
 },
 "nbformat": 4,
 "nbformat_minor": 0
}

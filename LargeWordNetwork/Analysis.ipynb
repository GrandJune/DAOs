{
 "cells": [
  {
   "cell_type": "code",
   "execution_count": 2,
   "outputs": [],
   "source": [
    "from Community import Community\n",
    "from Individual import Individual\n",
    "from Reality import Reality\n",
    "import matplotlib.pyplot as plt"
   ],
   "metadata": {
    "collapsed": false,
    "pycharm": {
     "name": "#%%\n"
    }
   }
  },
  {
   "cell_type": "code",
   "execution_count": null,
   "outputs": [],
   "source": [
    "# The performance curve over iteration\n",
    "# beta = 0; without environment turbulence\n",
    "n = 280\n",
    "beta = 0\n",
    "m = 100\n",
    "s = 5\n",
    "lr = 0.3\n",
    "subgroup_size = 7\n",
    "reality_change_rate = 0\n",
    "change_freq = None\n",
    "loop = 100\n",
    "reality = Reality(m=m, s=s)\n",
    "organization = Community(n=n, beta=beta, subgroup_size=subgroup_size, m=m, s=s, reality=reality,\n",
    "                            lr=lr, reality_change_rate=reality_change_rate)\n",
    "organization.form_network()\n",
    "organization.process(loop=loop, change_freq=change_freq)\n",
    "x = np.arange(loop)\n",
    "plt.plot(x, organization.performance_curve, \"k-\")\n",
    "# plt.savefig(\"search.jpg\")\n",
    "plt.show()"
   ],
   "metadata": {
    "collapsed": false,
    "pycharm": {
     "name": "#%%\n"
    }
   }
  }
 ],
 "metadata": {
  "kernelspec": {
   "display_name": "Python 3",
   "language": "python",
   "name": "python3"
  },
  "language_info": {
   "codemirror_mode": {
    "name": "ipython",
    "version": 2
   },
   "file_extension": ".py",
   "mimetype": "text/x-python",
   "name": "python",
   "nbconvert_exporter": "python",
   "pygments_lexer": "ipython2",
   "version": "2.7.6"
  }
 },
 "nbformat": 4,
 "nbformat_minor": 0
}
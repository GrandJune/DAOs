{
 "cells": [
  {
   "cell_type": "code",
   "execution_count": 1,
   "metadata": {
    "collapsed": true,
    "ExecuteTime": {
     "end_time": "2024-02-07T08:37:34.452760900Z",
     "start_time": "2024-02-07T08:37:32.865212200Z"
    }
   },
   "outputs": [],
   "source": [
    "from Reality import Reality\n",
    "from Individual import Individual\n",
    "from Organization import Organization\n",
    "import matplotlib.pyplot as plt\n",
    "import numpy as np"
   ]
  },
  {
   "cell_type": "code",
   "execution_count": 2,
   "outputs": [
    {
     "ename": "KeyboardInterrupt",
     "evalue": "",
     "output_type": "error",
     "traceback": [
      "\u001B[1;31m---------------------------------------------------------------------------\u001B[0m",
      "\u001B[1;31mKeyboardInterrupt\u001B[0m                         Traceback (most recent call last)",
      "\u001B[1;32m<ipython-input-2-4bd282de1df5>\u001B[0m in \u001B[0;36m<module>\u001B[1;34m\u001B[0m\n\u001B[0;32m     12\u001B[0m         \u001B[1;32mfor\u001B[0m \u001B[0m_\u001B[0m \u001B[1;32min\u001B[0m \u001B[0mrange\u001B[0m\u001B[1;33m(\u001B[0m\u001B[1;36m100\u001B[0m\u001B[1;33m)\u001B[0m\u001B[1;33m:\u001B[0m\u001B[1;33m\u001B[0m\u001B[1;33m\u001B[0m\u001B[0m\n\u001B[0;32m     13\u001B[0m             \u001B[0mreality\u001B[0m \u001B[1;33m=\u001B[0m \u001B[0mReality\u001B[0m\u001B[1;33m(\u001B[0m\u001B[0mm\u001B[0m\u001B[1;33m=\u001B[0m\u001B[0mm\u001B[0m\u001B[1;33m)\u001B[0m\u001B[1;33m\u001B[0m\u001B[1;33m\u001B[0m\u001B[0m\n\u001B[1;32m---> 14\u001B[1;33m             \u001B[0morganization\u001B[0m \u001B[1;33m=\u001B[0m \u001B[0mOrganization\u001B[0m\u001B[1;33m(\u001B[0m\u001B[0mm\u001B[0m\u001B[1;33m=\u001B[0m\u001B[0mm\u001B[0m\u001B[1;33m,\u001B[0m \u001B[0mn\u001B[0m\u001B[1;33m=\u001B[0m\u001B[0mn\u001B[0m\u001B[1;33m,\u001B[0m \u001B[0mp1\u001B[0m\u001B[1;33m=\u001B[0m\u001B[0mp1\u001B[0m\u001B[1;33m,\u001B[0m \u001B[0mp2\u001B[0m\u001B[1;33m=\u001B[0m\u001B[0mp2\u001B[0m\u001B[1;33m,\u001B[0m \u001B[0mreality\u001B[0m\u001B[1;33m=\u001B[0m\u001B[0mreality\u001B[0m\u001B[1;33m)\u001B[0m\u001B[1;33m\u001B[0m\u001B[1;33m\u001B[0m\u001B[0m\n\u001B[0m\u001B[0;32m     15\u001B[0m             \u001B[0morganization\u001B[0m\u001B[1;33m.\u001B[0m\u001B[0mprocess\u001B[0m\u001B[1;33m(\u001B[0m\u001B[0mloop\u001B[0m\u001B[1;33m=\u001B[0m\u001B[0mloop\u001B[0m\u001B[1;33m)\u001B[0m\u001B[1;33m\u001B[0m\u001B[1;33m\u001B[0m\u001B[0m\n\u001B[0;32m     16\u001B[0m             \u001B[0mtemp_2\u001B[0m\u001B[1;33m.\u001B[0m\u001B[0mappend\u001B[0m\u001B[1;33m(\u001B[0m\u001B[0morganization\u001B[0m\u001B[1;33m.\u001B[0m\u001B[0mperformance_average\u001B[0m\u001B[1;33m)\u001B[0m\u001B[1;33m\u001B[0m\u001B[1;33m\u001B[0m\u001B[0m\n",
      "\u001B[1;32mE:\\Python_Workplace\\DAOs\\March1991\\Organization.py\u001B[0m in \u001B[0;36m__init__\u001B[1;34m(self, m, n, p1, p2, reality)\u001B[0m\n\u001B[0;32m     21\u001B[0m         \u001B[0mself\u001B[0m\u001B[1;33m.\u001B[0m\u001B[0mindividuals\u001B[0m \u001B[1;33m=\u001B[0m \u001B[1;33m[\u001B[0m\u001B[1;33m]\u001B[0m\u001B[1;33m\u001B[0m\u001B[1;33m\u001B[0m\u001B[0m\n\u001B[0;32m     22\u001B[0m         \u001B[1;32mfor\u001B[0m \u001B[0mi\u001B[0m \u001B[1;32min\u001B[0m \u001B[0mrange\u001B[0m\u001B[1;33m(\u001B[0m\u001B[0mself\u001B[0m\u001B[1;33m.\u001B[0m\u001B[0mn\u001B[0m\u001B[1;33m)\u001B[0m\u001B[1;33m:\u001B[0m\u001B[1;33m\u001B[0m\u001B[1;33m\u001B[0m\u001B[0m\n\u001B[1;32m---> 23\u001B[1;33m             \u001B[0mindividual\u001B[0m \u001B[1;33m=\u001B[0m \u001B[0mIndividual\u001B[0m\u001B[1;33m(\u001B[0m\u001B[0mindex\u001B[0m\u001B[1;33m=\u001B[0m\u001B[0mi\u001B[0m\u001B[1;33m,\u001B[0m \u001B[0mm\u001B[0m\u001B[1;33m=\u001B[0m\u001B[0mself\u001B[0m\u001B[1;33m.\u001B[0m\u001B[0mm\u001B[0m\u001B[1;33m,\u001B[0m \u001B[0mp1\u001B[0m\u001B[1;33m=\u001B[0m\u001B[0mself\u001B[0m\u001B[1;33m.\u001B[0m\u001B[0mp1\u001B[0m\u001B[1;33m,\u001B[0m \u001B[0mreality\u001B[0m\u001B[1;33m=\u001B[0m\u001B[0mself\u001B[0m\u001B[1;33m.\u001B[0m\u001B[0mreality\u001B[0m\u001B[1;33m)\u001B[0m\u001B[1;33m\u001B[0m\u001B[1;33m\u001B[0m\u001B[0m\n\u001B[0m\u001B[0;32m     24\u001B[0m             \u001B[0mself\u001B[0m\u001B[1;33m.\u001B[0m\u001B[0mindividuals\u001B[0m\u001B[1;33m.\u001B[0m\u001B[0mappend\u001B[0m\u001B[1;33m(\u001B[0m\u001B[0mindividual\u001B[0m\u001B[1;33m)\u001B[0m\u001B[1;33m\u001B[0m\u001B[1;33m\u001B[0m\u001B[0m\n\u001B[0;32m     25\u001B[0m         \u001B[0mself\u001B[0m\u001B[1;33m.\u001B[0m\u001B[0msuperior_group\u001B[0m \u001B[1;33m=\u001B[0m \u001B[1;33m[\u001B[0m\u001B[1;33m]\u001B[0m\u001B[1;33m\u001B[0m\u001B[1;33m\u001B[0m\u001B[0m\n",
      "\u001B[1;32mE:\\Python_Workplace\\DAOs\\March1991\\Individual.py\u001B[0m in \u001B[0;36m__init__\u001B[1;34m(self, index, m, p1, reality)\u001B[0m\n\u001B[0;32m     13\u001B[0m         \u001B[0mself\u001B[0m\u001B[1;33m.\u001B[0m\u001B[0mindex\u001B[0m \u001B[1;33m=\u001B[0m \u001B[0mindex\u001B[0m\u001B[1;33m\u001B[0m\u001B[1;33m\u001B[0m\u001B[0m\n\u001B[0;32m     14\u001B[0m         \u001B[0mself\u001B[0m\u001B[1;33m.\u001B[0m\u001B[0mm\u001B[0m \u001B[1;33m=\u001B[0m \u001B[0mm\u001B[0m\u001B[1;33m\u001B[0m\u001B[1;33m\u001B[0m\u001B[0m\n\u001B[1;32m---> 15\u001B[1;33m         \u001B[0mself\u001B[0m\u001B[1;33m.\u001B[0m\u001B[0mbelief\u001B[0m \u001B[1;33m=\u001B[0m \u001B[0mnp\u001B[0m\u001B[1;33m.\u001B[0m\u001B[0mrandom\u001B[0m\u001B[1;33m.\u001B[0m\u001B[0mchoice\u001B[0m\u001B[1;33m(\u001B[0m\u001B[1;33m[\u001B[0m\u001B[1;33m-\u001B[0m\u001B[1;36m1\u001B[0m\u001B[1;33m,\u001B[0m \u001B[1;36m0\u001B[0m\u001B[1;33m,\u001B[0m \u001B[1;36m1\u001B[0m\u001B[1;33m]\u001B[0m\u001B[1;33m,\u001B[0m \u001B[0mself\u001B[0m\u001B[1;33m.\u001B[0m\u001B[0mm\u001B[0m\u001B[1;33m,\u001B[0m \u001B[0mp\u001B[0m\u001B[1;33m=\u001B[0m\u001B[1;33m[\u001B[0m\u001B[1;36m1\u001B[0m\u001B[1;33m/\u001B[0m\u001B[1;36m3\u001B[0m\u001B[1;33m,\u001B[0m \u001B[1;36m1\u001B[0m\u001B[1;33m/\u001B[0m\u001B[1;36m3\u001B[0m\u001B[1;33m,\u001B[0m \u001B[1;36m1\u001B[0m\u001B[1;33m/\u001B[0m\u001B[1;36m3\u001B[0m\u001B[1;33m]\u001B[0m\u001B[1;33m)\u001B[0m\u001B[1;33m\u001B[0m\u001B[1;33m\u001B[0m\u001B[0m\n\u001B[0m\u001B[0;32m     16\u001B[0m         \u001B[1;31m# self.action = self.belief.copy()\u001B[0m\u001B[1;33m\u001B[0m\u001B[1;33m\u001B[0m\u001B[1;33m\u001B[0m\u001B[0m\n\u001B[0;32m     17\u001B[0m         \u001B[1;31m# for index in range(self.m):\u001B[0m\u001B[1;33m\u001B[0m\u001B[1;33m\u001B[0m\u001B[1;33m\u001B[0m\u001B[0m\n",
      "\u001B[1;31mKeyboardInterrupt\u001B[0m: "
     ]
    }
   ],
   "source": [
    "# Figure 1: varying p1 and p2\n",
    "m = 30\n",
    "n = 50\n",
    "p1_list = np.arange(0.1, 1.1, 0.1)\n",
    "p2_list = [0.1, 0.5, 0.9]\n",
    "loop = 100\n",
    "results = []\n",
    "for p2 in p2_list:\n",
    "    temp = []\n",
    "    for p1 in p1_list:\n",
    "        temp_2 = []\n",
    "        for _ in range(100):\n",
    "            reality = Reality(m=m)\n",
    "            organization = Organization(m=m, n=n, p1=p1, p2=p2, reality=reality)\n",
    "            organization.process(loop=loop)\n",
    "            temp_2.append(organization.performance_average)\n",
    "        temp.append(sum(temp_2)/len(temp_2))\n",
    "    results.append(temp)\n",
    "x = p1_list\n",
    "plt.plot(x, results[0], \"k-.\", label='p2=0.1')\n",
    "plt.plot(x, results[1], \"k--\", label='p2=0.5')\n",
    "plt.plot(x, results[2], \"k-\", label='p2=0.9')\n",
    "# plt.savefig(\"search.jpg\")\n",
    "plt.title('Performance Across P1 and P2')\n",
    "plt.xlabel('P1: learn from code')\n",
    "plt.ylabel('Performance')\n",
    "plt.legend()\n",
    "plt.show()"
   ],
   "metadata": {
    "collapsed": false,
    "ExecuteTime": {
     "end_time": "2024-02-07T08:42:17.999772300Z",
     "start_time": "2024-02-07T08:37:34.453762800Z"
    }
   }
  },
  {
   "cell_type": "code",
   "execution_count": null,
   "outputs": [],
   "source": [
    "# Heterogeneous vs. Homogeneous Learners\n",
    "# Figure 1: varying p1 and p2\n",
    "m = 30\n",
    "n = 50\n",
    "p1_list = np.arange(0.1, 1.0, 0.1).tolist()  # belief learning from code\n",
    "p2_list = np.arange(0.1, 1.0, 0.1).tolist()  # code learning from belief\n",
    "loop = 100\n",
    "\n",
    "\n",
    "class Organization(Organization):\n",
    "    def __init__(self, m=None, n=None, p1=None, p2=None, reality=None, hetero_flag=False):\n",
    "        self.m = m\n",
    "        self.n = n\n",
    "        self.code =[0] * self.m\n",
    "        self.p1 = p1  # learning from code\n",
    "        self.p2 = p2  # learning from beliefs\n",
    "        self.reality = reality\n",
    "        self.payoff = 0\n",
    "        self.individuals = []\n",
    "        if hetero_flag:\n",
    "            low_learner_num = round((45-50*self.p1)/0.8)\n",
    "            rapid_learner_num = self.n - low_learner_num\n",
    "            for i in range(low_learner_num):\n",
    "                individual = Individual(index=i, m=self.m, p1=0.1, reality=self.reality)\n",
    "                self.individuals.append(individual)\n",
    "            for i in range(rapid_learner_num):\n",
    "                individual = Individual(index=low_learner_num + i, m=self.m, p1=0.9, reality=self.reality)\n",
    "                self.individuals.append(individual)\n",
    "        else:\n",
    "            for i in range(self.n):\n",
    "                individual = Individual(index=i, m=self.m, p1=self.p1, reality=self.reality)\n",
    "                self.individuals.append(individual)\n",
    "        self.superior_group = []\n",
    "\n",
    "        # DV\n",
    "        self.performance_curve = []  # the evolution of performance\n",
    "        self.performance_average = 0  # performance iteration\n",
    "hetero, homo = [], []\n",
    "for p1 in p1_list:\n",
    "    temp = []\n",
    "    for _ in range(100):\n",
    "        reality = Reality(m=m)\n",
    "        # individual = Individual(m=m, p1=p1, reality=reality)\n",
    "        organization = Organization(m=m, n=n, p1=p1, p2=p2, reality=reality, hetero_flag=True)\n",
    "        organization.process(loop=loop)\n",
    "        temp.append(organization.performance_average)\n",
    "    hetero.append(sum(temp)/len(temp))\n",
    "\n",
    "for p1 in p1_list:\n",
    "    temp = []\n",
    "    for _ in range(100):\n",
    "        reality = Reality(m=m)\n",
    "        # individual = Individual(m=m, p1=p1, reality=reality)\n",
    "        organization = Organization(m=m, n=n, p1=p1, p2=p2, reality=reality, hetero_flag=False)\n",
    "        organization.process(loop=loop)\n",
    "        temp.append(organization.performance_average)\n",
    "    homo.append(sum(temp)/len(temp))\n",
    "x = p1_list\n",
    "plt.plot(x, hetero, \"k-\", label='Hetero')\n",
    "plt.plot(x, homo, \"k--\", label='Homo')\n",
    "# plt.savefig(\"search.jpg\")\n",
    "plt.title('Performance Across Homo and Hetero p1')\n",
    "plt.xlabel('Average Socialization Rate')\n",
    "plt.ylabel('Performance')\n",
    "plt.legend()\n",
    "plt.show()"
   ],
   "metadata": {
    "collapsed": false,
    "ExecuteTime": {
     "end_time": "2024-02-07T08:42:18.003761700Z",
     "start_time": "2024-02-07T08:42:18.001761900Z"
    }
   }
  },
  {
   "cell_type": "code",
   "execution_count": null,
   "outputs": [],
   "source": [
    "# Figure 4: Personnel Turnover\n",
    "m = 30\n",
    "n = 50\n",
    "p1_list = [0.1, 0.9]\n",
    "p2 = 0.5\n",
    "p3_list = np.arange(0, 1.1, 0.1).tolist()\n",
    "loop = 100\n",
    "results = []\n",
    "for p1 in p1_list:\n",
    "    temp = []\n",
    "    for p3 in p3_list:\n",
    "        temp_2 = []\n",
    "        for _ in range(100):\n",
    "            reality = Reality(m=m)\n",
    "            # individual = Individual(m=m, p1=p1, reality=reality)\n",
    "            organization = Organization(m=m, n=n, p1=p1, p2=p2, reality=reality)\n",
    "            organization.process(loop=loop, p3=p3)\n",
    "            temp_2.append(organization.performance_average)\n",
    "        temp.append(sum(temp_2)/len(temp_2))\n",
    "    results.append(temp)\n",
    "x = p3_list\n",
    "plt.plot(x, results[0], \"k-\", label='p1=0.1')\n",
    "plt.plot(x, results[1], \"k--\", label='p1=0.9')\n",
    "# plt.savefig(\"search.jpg\")\n",
    "plt.title('Performance Across P1 and P3')\n",
    "plt.xlabel('Turnover')\n",
    "plt.ylabel('Performance')\n",
    "plt.legend()\n",
    "plt.show()"
   ],
   "metadata": {
    "collapsed": false,
    "ExecuteTime": {
     "start_time": "2024-02-07T08:42:18.003761700Z"
    }
   }
  },
  {
   "cell_type": "code",
   "execution_count": null,
   "outputs": [],
   "source": [
    "# Environmental Turbulence and Personnel Turnover\n",
    "m = 30\n",
    "n = 50\n",
    "p1 = 0.5\n",
    "p2 = 0.5\n",
    "p3_list = [0, 0.1]\n",
    "p4 = 0.02\n",
    "loop = 100\n",
    "results_with_turnover, results_without_turnover = [], []\n",
    "# without turnover\n",
    "temp = []\n",
    "for _ in range(100):  # repeat\n",
    "    reality = Reality(m=m)\n",
    "    # individual = Individual(m=m, p1=p1, reality=reality)\n",
    "    organization = Organization(m=m, n=n, p1=p1, p2=p2, reality=reality)\n",
    "    organization.process(loop=loop, p3=0, p4=0.02)\n",
    "    temp.append(organization.performance_curve)\n",
    "for i in range(100):\n",
    "    temp_2 = [each_curve[i] for each_curve in temp]\n",
    "    results_without_turnover.append(sum(temp_2) / len(temp_2))\n",
    "# with turnover\n",
    "temp = []\n",
    "for _ in range(100):  # repeat\n",
    "    reality = Reality(m=m)\n",
    "    # individual = Individual(m=m, p1=p1, reality=reality)\n",
    "    organization = Organization(m=m, n=n, p1=p1, p2=p2, reality=reality)\n",
    "    organization.process(loop=loop, p3=0.1, p4=0.02)\n",
    "    temp.append(organization.performance_curve)\n",
    "for i in range(100):\n",
    "    temp_2 = [each_curve[i] for each_curve in temp]\n",
    "    results_with_turnover.append(sum(temp_2) / len(temp_2))\n",
    "\n",
    "x = range(100)\n",
    "plt.plot(x, results_with_turnover, \"k-\", label='with')\n",
    "plt.plot(x, results_without_turnover, \"k--\", label='without')\n",
    "# plt.savefig(\"search.jpg\")\n",
    "plt.title('Performance with(out) Turnover')\n",
    "plt.xlabel('Time')\n",
    "plt.ylabel('Performance')\n",
    "plt.legend()\n",
    "plt.show()\n",
    "\n",
    "# Notes: March said in p.80 that \"where there is turbulence without turnover, code knowledge first rises to a moderate level, and then declines to 0, from which it subsequently wanders randomly\". In this replication, random walk is consistent with 0.5 payoff, although in March's original paper, this value is 0. The reason is that March use slightly different payoff function where totally wrong element is punished. In other words, (-1, 1) pair gets -1 payoff, (0, 1/-1) pair gets 0 payoff, and correct pair get 1 payoff. However, in this replication, (-1, 1) pair just get 0 payoff. Thus, the random walk herein should converge to 0.5 instead of 0."
   ],
   "metadata": {
    "collapsed": false,
    "ExecuteTime": {
     "start_time": "2024-02-07T08:42:18.005788Z"
    }
   }
  },
  {
   "cell_type": "code",
   "execution_count": null,
   "outputs": [],
   "source": [
    "# Search Iteration as the basis of the Performance Curve\n",
    "# Figure 1: varying p1 and p2\n",
    "m = 30\n",
    "n = 50\n",
    "p1 = 0.5\n",
    "p2 = 0.5\n",
    "loop = 100\n",
    "results = []\n",
    "for _ in range(100):\n",
    "    reality = Reality(m=m)\n",
    "    # individual = Individual(m=m, p1=p1, reality=reality)\n",
    "    organization = Organization(m=m, n=n, p1=p1, p2=p2, reality=reality)\n",
    "    organization.process(loop=loop)\n",
    "    results.append(organization.performance_curve)\n",
    "result_2 = []\n",
    "for i in range(100):\n",
    "    temp = [curve[i] for curve in results]\n",
    "    result_2.append(sum(temp) / len(temp))\n",
    "x = range(100)\n",
    "plt.plot(x, result_2, \"k-\")\n",
    "# plt.savefig(\"search.jpg\")\n",
    "plt.title('Performance Evolution')\n",
    "plt.xlabel('Time')\n",
    "plt.ylabel('Performance')\n",
    "plt.show()"
   ],
   "metadata": {
    "collapsed": false,
    "ExecuteTime": {
     "end_time": "2024-02-07T08:42:18.007788Z",
     "start_time": "2024-02-07T08:42:18.006789400Z"
    }
   }
  },
  {
   "cell_type": "code",
   "execution_count": null,
   "outputs": [],
   "source": [],
   "metadata": {
    "collapsed": false,
    "ExecuteTime": {
     "start_time": "2024-02-07T08:42:18.007788Z"
    }
   }
  }
 ],
 "metadata": {
  "kernelspec": {
   "display_name": "Python 3",
   "language": "python",
   "name": "python3"
  },
  "language_info": {
   "codemirror_mode": {
    "name": "ipython",
    "version": 2
   },
   "file_extension": ".py",
   "mimetype": "text/x-python",
   "name": "python",
   "nbconvert_exporter": "python",
   "pygments_lexer": "ipython2",
   "version": "2.7.6"
  }
 },
 "nbformat": 4,
 "nbformat_minor": 0
}

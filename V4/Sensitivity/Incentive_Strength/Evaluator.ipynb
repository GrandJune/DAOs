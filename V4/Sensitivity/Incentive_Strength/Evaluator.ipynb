{
 "cells": [
  {
   "cell_type": "code",
   "metadata": {
    "collapsed": true,
    "ExecuteTime": {
     "end_time": "2024-06-09T09:45:57.869656Z",
     "start_time": "2024-06-09T09:45:56.143790Z"
    }
   },
   "source": [
    "import matplotlib.pyplot as plt\n",
    "import pickle\n",
    "import numpy as np\n",
    "legend_properties = {'weight':'bold'}"
   ],
   "outputs": [],
   "execution_count": 3
  },
  {
   "metadata": {
    "ExecuteTime": {
     "end_time": "2024-06-09T09:49:16.834408Z",
     "start_time": "2024-06-09T09:49:16.815899Z"
    }
   },
   "cell_type": "code",
   "source": [
    "# Define more colors\n",
    "# NUS two colors\n",
    "nus_blue = \"#003D7C\"\n",
    "nus_orange = \"#EF7C00\"\n",
    "# Nature three colors\n",
    "nature_orange = \"#F16C23\"\n",
    "nature_blue = \"#2B6A99\"\n",
    "nature_green = \"#1B7C3D\"\n",
    "# Morandi six colors\n",
    "morandi_blue = \"#046586\"\n",
    "morandi_green =  \"#28A9A1\"\n",
    "morandi_yellow = \"#C9A77C\"\n",
    "morandi_orange = \"#F4A016\"\n",
    "morandi_pink = \"#F6BBC6\"\n",
    "morandi_red = \"#E71F19\"\n",
    "morandi_purple = \"#B08BEB\"\n",
    "# Others\n",
    "shallow_grey = \"#D3D4D3\"\n",
    "deep_grey = \"#A6ABB6\""
   ],
   "outputs": [],
   "execution_count": 8
  },
  {
   "cell_type": "code",
   "source": [
    "data_folder = r\"E:\\data\\dao-0310-23\\V4_4\\Incentive_Strength\"\n",
    "incentive_strength_list = [1, 5, 10, 20, 40]\n",
    "gini_across_repeat = []\n",
    "for index in range(1, 11):\n",
    "    gini_file = data_folder + r\"\\gini_across_strength_{0}\".format(index)\n",
    "    \n",
    "    with open(gini_file, 'rb') as infile:\n",
    "        gini_list = pickle.load(infile)\n",
    "    gini_across_repeat.append(gini_list)\n",
    "gini_across_strength = []\n",
    "for i in range(len(incentive_strength_list)):\n",
    "    gini_across_strength.append(sum([each[i] for each in gini_across_repeat]) / len(gini_across_repeat))\n",
    "print(gini_across_strength)"
   ],
   "metadata": {
    "collapsed": false,
    "ExecuteTime": {
     "end_time": "2024-06-09T09:46:11.997814Z",
     "start_time": "2024-06-09T09:46:11.984832Z"
    }
   },
   "outputs": [
    {
     "name": "stdout",
     "output_type": "stream",
     "text": [
      "[0.10456247518883803, 0.11224403597984882, 0.11362965900837012, 0.11439663537719422, 0.11483846024499686]\n"
     ]
    }
   ],
   "execution_count": 5
  },
  {
   "cell_type": "code",
   "source": [
    "fig, ax = plt.subplots()\n",
    "ax.spines[\"left\"].set_linewidth(1.5)\n",
    "ax.spines[\"right\"].set_linewidth(1.5)\n",
    "ax.spines[\"top\"].set_linewidth(1.5)\n",
    "ax.spines[\"bottom\"].set_linewidth(1.5)\n",
    "plt.plot(incentive_strength_list, gini_across_strength, \"-s\", label=\"Gini Coefficient\", color=nature_orange)\n",
    "plt.xlabel('Reward Quantity', fontweight='bold', fontsize=12)\n",
    "plt.ylabel('Gini Coefficient', fontweight='bold', fontsize=12)\n",
    "plt.xticks(incentive_strength_list)\n",
    "plt.legend(frameon=False, ncol=1, fontsize=12)\n",
    "plt.title(\"(a) Gini Coefficient for Token Asymmetry \\n Incentive $\\\\gamma=0.5$, Active Rate $p_a=0.8$ \")\n",
    "plt.savefig(data_folder + r\"\\gini_across_incentive_strength.png\", transparent=True, dpi=300)\n",
    "plt.show()\n",
    "plt.clf()"
   ],
   "metadata": {
    "collapsed": false,
    "ExecuteTime": {
     "end_time": "2024-06-09T10:01:31.302712Z",
     "start_time": "2024-06-09T10:01:30.980745Z"
    }
   },
   "outputs": [
    {
     "data": {
      "text/plain": [
       "<Figure size 432x288 with 1 Axes>"
      ],
      "image/png": "[encoded data removed]"
     },
     "metadata": {
      "needs_background": "light"
     },
     "output_type": "display_data"
    },
    {
     "data": {
      "text/plain": [
       "<Figure size 432x288 with 0 Axes>"
      ]
     },
     "metadata": {},
     "output_type": "display_data"
    }
   ],
   "execution_count": 14
  },
  {
   "metadata": {},
   "cell_type": "code",
   "outputs": [],
   "execution_count": null,
   "source": ""
  }
 ],
 "metadata": {
  "kernelspec": {
   "display_name": "Python 3",
   "language": "python",
   "name": "python3"
  },
  "language_info": {
   "codemirror_mode": {
    "name": "ipython",
    "version": 2
   },
   "file_extension": ".py",
   "mimetype": "text/x-python",
   "name": "python",
   "nbconvert_exporter": "python",
   "pygments_lexer": "ipython2",
   "version": "2.7.6"
  }
 },
 "nbformat": 4,
 "nbformat_minor": 0
}

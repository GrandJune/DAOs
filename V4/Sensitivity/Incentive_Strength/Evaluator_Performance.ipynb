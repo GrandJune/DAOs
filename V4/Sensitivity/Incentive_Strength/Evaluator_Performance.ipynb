{
 "cells": [
  {
   "cell_type": "code",
   "metadata": {
    "collapsed": true,
    "ExecuteTime": {
     "end_time": "2024-06-10T12:49:54.381351Z",
     "start_time": "2024-06-10T12:49:54.374351Z"
    }
   },
   "source": [
    "import matplotlib.pyplot as plt\n",
    "import pickle\n",
    "import numpy as np\n",
    "legend_properties = {'weight':'bold'}"
   ],
   "outputs": [],
   "execution_count": 5
  },
  {
   "metadata": {
    "ExecuteTime": {
     "end_time": "2024-06-10T12:49:55.307910Z",
     "start_time": "2024-06-10T12:49:55.288798Z"
    }
   },
   "cell_type": "code",
   "source": [
    "# Define more colors\n",
    "# NUS two colors\n",
    "nus_blue = \"#003D7C\"\n",
    "nus_orange = \"#EF7C00\"\n",
    "# Nature three colors\n",
    "nature_orange = \"#F16C23\"\n",
    "nature_blue = \"#2B6A99\"\n",
    "nature_green = \"#1B7C3D\"\n",
    "# Morandi six colors\n",
    "morandi_blue = \"#046586\"\n",
    "morandi_green =  \"#28A9A1\"\n",
    "morandi_yellow = \"#C9A77C\"\n",
    "morandi_orange = \"#F4A016\"\n",
    "morandi_pink = \"#F6BBC6\"\n",
    "morandi_red = \"#E71F19\"\n",
    "morandi_purple = \"#B08BEB\"\n",
    "# Others\n",
    "shallow_grey = \"#D3D4D3\"\n",
    "deep_grey = \"#A6ABB6\""
   ],
   "outputs": [],
   "execution_count": 6
  },
  {
   "cell_type": "code",
   "source": [
    "data_folder = r\"E:\\data\\dao-0310-23\\V4_4\\Incentive_Strength_2\"\n",
    "incentive_strength_list = [1, 5, 10, 20, 40]\n",
    "incentive_list = [0.1, 0.2, 0.3, 0.4, 0.5, 0.6, 0.7, 0.8, 0.9]\n",
    "performance_across_strength_incentive, diversity_across_strength_incentive = [], []\n",
    "for incentive in incentive_list:\n",
    "    performance_across_strength, diversity_across_strength = [], []\n",
    "    performance_across_repeat, diversity_across_repeat = [], []\n",
    "    for index in range(1, 11):\n",
    "        performance_file = data_folder + r\"\\dao_performance_across_strength_incentive_{0}_{1}\".format(incentive, index)\n",
    "        diversity_file = data_folder + r\"\\dao_diversity_across_strength_incentive_{0}_{1}\".format(incentive, index)\n",
    "        \n",
    "        with open(performance_file, 'rb') as infile:\n",
    "            performance = pickle.load(infile)\n",
    "        with open(diversity_file, 'rb') as infile:\n",
    "            diversity = pickle.load(infile)\n",
    "        performance_across_repeat.append(performance)\n",
    "        diversity_across_repeat.append(diversity)\n",
    "    for i in range(len(performance_across_repeat[0])):\n",
    "        performance_across_strength.append(sum([each[i] for each in performance_across_repeat]) / len(performance_across_repeat))\n",
    "        diversity_across_strength.append(sum([each[i] for each in diversity_across_repeat]) / len(diversity_across_repeat))\n",
    "    \n",
    "    performance_across_strength_incentive.append(performance_across_strength)\n",
    "    diversity_across_strength_incentive.append(diversity_across_strength)\n",
    "\n",
    "print(performance_across_strength)"
   ],
   "metadata": {
    "collapsed": false,
    "ExecuteTime": {
     "end_time": "2024-06-10T12:49:57.681493Z",
     "start_time": "2024-06-10T12:49:57.661468Z"
    }
   },
   "outputs": [
    {
     "name": "stdout",
     "output_type": "stream",
     "text": [
      "[0.7171495238095237, 0.7181488253968252, 0.7171052698412697, 0.7160563174603173, 0.7150994285714284]\n"
     ]
    }
   ],
   "execution_count": 7
  },
  {
   "cell_type": "code",
   "source": [
    "fig, ax = plt.subplots()\n",
    "ax.spines[\"left\"].set_linewidth(1.5)\n",
    "ax.spines[\"right\"].set_linewidth(1.5)\n",
    "ax.spines[\"top\"].set_linewidth(1.5)\n",
    "ax.spines[\"bottom\"].set_linewidth(1.5)\n",
    "# plt.plot(incentive_strength_list, performance_across_strength_incentive[0], \"-s\", label=\"$\\\\gamma={0}$\".format(incentive_list[0]))\n",
    "plt.plot(incentive_strength_list, performance_across_strength_incentive[1], \"-s\", label=\"$\\\\gamma={0}$\".format(incentive_list[1]))\n",
    "plt.plot(incentive_strength_list, performance_across_strength_incentive[3], \"-o\", label=\"$\\\\gamma={0}$\".format(incentive_list[3]))\n",
    "plt.plot(incentive_strength_list, performance_across_strength_incentive[5], \"-v\", label=\"$\\\\gamma={0}$\".format(incentive_list[5]))\n",
    "plt.plot(incentive_strength_list, performance_across_strength_incentive[7], \"-^\", label=\"$\\\\gamma={0}$\".format(incentive_list[7]))\n",
    "plt.xlabel('Reward Quantity', fontweight='bold', fontsize=12)\n",
    "plt.ylabel('Performance', fontweight='bold', fontsize=12)\n",
    "plt.xticks(incentive_strength_list)\n",
    "plt.legend(frameon=False, ncol=2, fontsize=12)\n",
    "plt.savefig(data_folder + r\"\\performance_across_incentive_strength.png\", transparent=True, dpi=300)\n",
    "plt.show()\n",
    "plt.clf()"
   ],
   "metadata": {
    "collapsed": false,
    "ExecuteTime": {
     "end_time": "2024-06-10T12:53:00.458416Z",
     "start_time": "2024-06-10T12:53:00.064414Z"
    }
   },
   "outputs": [
    {
     "data": {
      "text/plain": [
       "<Figure size 432x288 with 1 Axes>"
      ],
      "image/png": "[encoded data removed]"
     },
     "metadata": {
      "needs_background": "light"
     },
     "output_type": "display_data"
    },
    {
     "data": {
      "text/plain": [
       "<Figure size 432x288 with 0 Axes>"
      ]
     },
     "metadata": {},
     "output_type": "display_data"
    }
   ],
   "execution_count": 14
  },
  {
   "metadata": {},
   "cell_type": "code",
   "outputs": [],
   "execution_count": null,
   "source": ""
  }
 ],
 "metadata": {
  "kernelspec": {
   "display_name": "Python 3",
   "language": "python",
   "name": "python3"
  },
  "language_info": {
   "codemirror_mode": {
    "name": "ipython",
    "version": 2
   },
   "file_extension": ".py",
   "mimetype": "text/x-python",
   "name": "python",
   "nbconvert_exporter": "python",
   "pygments_lexer": "ipython2",
   "version": "2.7.6"
  }
 },
 "nbformat": 4,
 "nbformat_minor": 0
}

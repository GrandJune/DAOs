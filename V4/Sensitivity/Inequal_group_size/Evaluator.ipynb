{
 "cells": [
  {
   "cell_type": "code",
   "metadata": {
    "collapsed": true,
    "ExecuteTime": {
     "end_time": "2025-08-23T11:14:30.195589Z",
     "start_time": "2025-08-23T11:14:29.155584Z"
    }
   },
   "source": [
    "import matplotlib.pyplot as plt\n",
    "import pickle"
   ],
   "outputs": [],
   "execution_count": 2
  },
  {
   "cell_type": "code",
   "source": [
    "# Define more colors\n",
    "# NUS two colors\n",
    "nus_blue = \"#003D7C\"\n",
    "nus_orange = \"#EF7C00\"\n",
    "# Nature three colors\n",
    "nature_orange = \"#F16C23\"\n",
    "nature_blue = \"#2B6A99\"\n",
    "nature_green = \"#1B7C3D\"\n",
    "# Morandi six colors\n",
    "morandi_blue = \"#046586\"\n",
    "morandi_green =  \"#28A9A1\"\n",
    "morandi_yellow = \"#C9A77C\"\n",
    "morandi_orange = \"#F4A016\"\n",
    "morandi_pink = \"#F6BBC6\"\n",
    "morandi_red = \"#E71F19\"\n",
    "morandi_purple = \"#B08BEB\"\n",
    "# Others\n",
    "shallow_grey = \"#D3D4D3\"\n",
    "deep_grey = \"#A6ABB6\""
   ],
   "metadata": {
    "collapsed": false,
    "ExecuteTime": {
     "end_time": "2025-08-23T11:14:30.840617Z",
     "start_time": "2025-08-23T11:14:30.834597Z"
    }
   },
   "outputs": [],
   "execution_count": 3
  },
  {
   "cell_type": "code",
   "source": [
    "data_folder = r\"E:\\data\\dao-0310-23\\V4_4\\Inequal_group_size\"\n",
    "dao_performance_file = data_folder + r\"\\dao_performance_across_time\"\n",
    "hierarchy_performance_file = data_folder + r\"\\hierarchy_performance_across_time\"\n",
    "autonomy_performance_file = data_folder + r\"\\autonomy_performance_across_time\"\n",
    "\n",
    "# consensus_performance_file = data_folder + r\"\\consensus_performance_across_z\"\n",
    "# superior_performance_file = data_folder + r\"\\superior_performance_across_z\"\n",
    "\n",
    "dao_diversity_file = data_folder + r\"\\dao_diversity_across_time\"\n",
    "hierarchy_diversity_file = data_folder + r\"\\hierarchy_diversity_across_time\"\n",
    "autonomy_diversity_file = data_folder + r\"\\autonomy_diversity_across_time\"\n",
    "\n",
    "dao_variance_file = data_folder + r\"\\dao_variance_across_time\"\n",
    "hierarchy_variance_file = data_folder + r\"\\hierarchy_variance_across_time\"\n",
    "autonomy_variance_file = data_folder + r\"\\autonomy_variance_across_time\"\n",
    "\n",
    "with open(dao_performance_file, 'rb') as infile:\n",
    "    dao_performance = pickle.load(infile)\n",
    "with open(hierarchy_performance_file, 'rb') as infile:\n",
    "    hierarchy_performance = pickle.load(infile)\n",
    "with open(autonomy_performance_file, 'rb') as infile:\n",
    "    autonomy_performance = pickle.load(infile)\n",
    "\n",
    "with open(dao_diversity_file, 'rb') as infile:\n",
    "    dao_diversity = pickle.load(infile)\n",
    "with open(hierarchy_diversity_file, 'rb') as infile:\n",
    "    hierarchy_diversity = pickle.load(infile)\n",
    "with open(autonomy_diversity_file, 'rb') as infile:\n",
    "    autonomy_diversity = pickle.load(infile)\n",
    "\n",
    "# with open(consensus_performance_file, 'rb') as infile:\n",
    "#     consensus_performance = pickle.load(infile)\n",
    "# with open(superior_performance_file, 'rb') as infile:\n",
    "#     superior_performance = pickle.load(infile)\n",
    "\n",
    "with open(dao_variance_file, 'rb') as infile:\n",
    "    dao_variance = pickle.load(infile)\n",
    "with open(hierarchy_variance_file, 'rb') as infile:\n",
    "    hierarchy_variance = pickle.load(infile)\n",
    "with open(autonomy_variance_file, 'rb') as infile:\n",
    "    autonomy_variance = pickle.load(infile)\n",
    "# with open(dao_original_performance_file, 'rb') as infile:\n",
    "#     dao_original_performance = pickle.load(infile)\n",
    "# with open(hierarchy_original_performance_file, 'rb') as infile:\n",
    "#     hierarchy_original_performance = pickle.load(infile)\n",
    "# with open(autonomy_original_performance_file, 'rb') as infile:\n",
    "#     autonomy_original_performance = pickle.load(infile)\n",
    "\n",
    "# print(np.array(dao_performance).shape)\n",
    "# print(dao_performance)"
   ],
   "metadata": {
    "collapsed": false,
    "ExecuteTime": {
     "end_time": "2025-08-23T11:14:32.010610Z",
     "start_time": "2025-08-23T11:14:31.984607Z"
    }
   },
   "outputs": [],
   "execution_count": 4
  },
  {
   "cell_type": "code",
   "source": [
    "import numpy as np\n",
    "\n",
    "x = range(len(dao_performance))\n",
    "\n",
    "fig, ax = plt.subplots()\n",
    "ax.spines[\"left\"].set_linewidth(1.5)\n",
    "ax.spines[\"right\"].set_linewidth(1.5)\n",
    "ax.spines[\"top\"].set_linewidth(1.5)\n",
    "ax.spines[\"bottom\"].set_linewidth(1.5)\n",
    "\n",
    "# choose marker positions: 10 evenly spaced indices\n",
    "marker_positions = np.linspace(0, len(x)-1, 10, dtype=int)\n",
    "\n",
    "plt.plot(x, dao_performance, \"-o\", label=\"DAO\", color=nature_orange, markevery=marker_positions)\n",
    "plt.plot(x, hierarchy_performance, \"-s\", label=\"Hierarchy\", color=nature_green, markevery=marker_positions)\n",
    "plt.plot(x, autonomy_performance, \"-v\", label=\"Autonomy\", color=nature_blue, markevery=marker_positions)\n",
    "\n",
    "plt.xlabel('Time', fontweight='bold', fontsize=12)\n",
    "plt.ylabel('Performance', fontweight='bold', fontsize=12)\n",
    "plt.legend(frameon=False, ncol=1, fontsize=12)\n",
    "plt.title(\"(a) Performance\")\n",
    "plt.savefig(data_folder + r\"\\DHA_performance_inequal_group_size.png\", transparent=True, dpi=300)\n",
    "plt.show()\n",
    "plt.clf()\n"
   ],
   "metadata": {
    "collapsed": false,
    "ExecuteTime": {
     "end_time": "2025-08-23T11:17:30.048696Z",
     "start_time": "2025-08-23T11:17:29.671667Z"
    }
   },
   "outputs": [
    {
     "data": {
      "text/plain": [
       "<Figure size 432x288 with 1 Axes>"
      ],
      "image/png": "[encoded data removed]"
     },
     "metadata": {
      "needs_background": "light"
     },
     "output_type": "display_data",
     "jetTransient": {
      "display_id": null
     }
    },
    {
     "data": {
      "text/plain": [
       "<Figure size 432x288 with 0 Axes>"
      ]
     },
     "metadata": {},
     "output_type": "display_data",
     "jetTransient": {
      "display_id": null
     }
    }
   ],
   "execution_count": 7
  },
  {
   "cell_type": "code",
   "source": [
    "import numpy as np\n",
    "\n",
    "x = range(len(dao_performance))\n",
    "\n",
    "fig, ax = plt.subplots()\n",
    "ax.spines[\"left\"].set_linewidth(1.5)\n",
    "ax.spines[\"right\"].set_linewidth(1.5)\n",
    "ax.spines[\"top\"].set_linewidth(1.5)\n",
    "ax.spines[\"bottom\"].set_linewidth(1.5)\n",
    "\n",
    "# choose marker positions: 10 evenly spaced indices\n",
    "marker_positions = np.linspace(0, len(x)-1, 10, dtype=int)\n",
    "\n",
    "plt.plot(x, dao_diversity, \"-o\", label=\"DAO\", color=nature_orange, markevery=marker_positions)\n",
    "plt.plot(x, hierarchy_diversity, \"-s\", label=\"Hierarchy\", color=nature_green, markevery=marker_positions)\n",
    "plt.plot(x, autonomy_diversity, \"-v\", label=\"Autonomy\", color=nature_blue, markevery=marker_positions)\n",
    "\n",
    "plt.xlabel('Time', fontweight='bold', fontsize=12)\n",
    "plt.ylabel('Diversity', fontweight='bold', fontsize=12)\n",
    "plt.legend(frameon=False, ncol=1, fontsize=12)\n",
    "plt.title(\"(b) Belief Diversity\")\n",
    "plt.savefig(data_folder + r\"\\DHA_diversity_inequal_group_size.png\", transparent=True, dpi=300)\n",
    "plt.show()\n",
    "plt.clf()\n"
   ],
   "metadata": {
    "collapsed": false,
    "ExecuteTime": {
     "end_time": "2025-08-23T11:18:17.227409Z",
     "start_time": "2025-08-23T11:18:16.846441Z"
    }
   },
   "outputs": [
    {
     "data": {
      "text/plain": [
       "<Figure size 432x288 with 1 Axes>"
      ],
      "image/png": "[encoded data removed]"
     },
     "metadata": {
      "needs_background": "light"
     },
     "output_type": "display_data",
     "jetTransient": {
      "display_id": null
     }
    },
    {
     "data": {
      "text/plain": [
       "<Figure size 432x288 with 0 Axes>"
      ]
     },
     "metadata": {},
     "output_type": "display_data",
     "jetTransient": {
      "display_id": null
     }
    }
   ],
   "execution_count": 8
  },
  {
   "cell_type": "code",
   "source": [],
   "metadata": {
    "collapsed": false,
    "ExecuteTime": {
     "end_time": "2024-05-20T04:54:12.549943Z",
     "start_time": "2024-05-20T04:54:12.536921Z"
    }
   },
   "outputs": [],
   "execution_count": 8
  }
 ],
 "metadata": {
  "kernelspec": {
   "display_name": "Python 3",
   "language": "python",
   "name": "python3"
  },
  "language_info": {
   "codemirror_mode": {
    "name": "ipython",
    "version": 2
   },
   "file_extension": ".py",
   "mimetype": "text/x-python",
   "name": "python",
   "nbconvert_exporter": "python",
   "pygments_lexer": "ipython2",
   "version": "2.7.6"
  }
 },
 "nbformat": 4,
 "nbformat_minor": 0
}

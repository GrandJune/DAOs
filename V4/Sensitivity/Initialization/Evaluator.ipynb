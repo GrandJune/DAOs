{
 "cells": [
  {
   "cell_type": "code",
   "metadata": {
    "collapsed": true,
    "ExecuteTime": {
     "end_time": "2024-05-03T13:33:39.931092Z",
     "start_time": "2024-05-03T13:33:39.237211Z"
    }
   },
   "source": [
    "import matplotlib.pyplot as plt\n",
    "import matplotlib.patches as patches\n",
    "import pickle\n",
    "import numpy as np\n",
    "legend_properties = {'weight':'bold'}"
   ],
   "outputs": [],
   "execution_count": 1
  },
  {
   "cell_type": "code",
   "source": [
    "data_folder = r\"E:\\data\\dao-0310-23\\V4_4\\Initialization\"\n",
    "dao_performance_file = data_folder + r\"\\dao_performance_across_i\"\n",
    "dao_diversity_file = data_folder + r\"\\dao_diversity_across_i\"\n",
    "dao_variance_file = data_folder + r\"\\dao_variance_across_i\"\n",
    "dao_performance_time_file = data_folder + r\"\\dao_performance_across_i_time\"\n",
    "\n",
    "hierarchy_performance_file = data_folder + r\"\\hierarchy_performance_across_i\"\n",
    "hierarchy_diversity_file = data_folder + r\"\\hierarchy_diversity_across_i\"\n",
    "hierarchy_variance_file = data_folder + r\"\\hierarchy_variance_across_i\"\n",
    "hierarchy_performance_time_file = data_folder + r\"\\hierarchy_performance_across_i_time\"\n",
    "\n",
    "autonomy_performance_file = data_folder + r\"\\autonomy_performance_across_i\"\n",
    "autonomy_diversity_file = data_folder + r\"\\autonomy_diversity_across_i\"\n",
    "autonomy_variance_file = data_folder + r\"\\autonomy_variance_across_i\"\n",
    "autonomy_performance_time_file = data_folder + r\"\\autonomy_performance_across_i_time\"\n",
    "\n",
    "dao_original_performance_file = data_folder + r\"\\dao_performance_across_i_time\"\n",
    "hierarchy_original_performance_file = data_folder + r\"\\hierarchy_performance_across_i_time\"\n",
    "autonomy_original_performance_file = data_folder + r\"\\autonomy_performance_across_i_time\"\n",
    "consensus_original_performance_file = data_folder + r\"\\consensus_performance_across_i_time\"\n",
    "consensus_performance_file = data_folder + r\"\\consensus_performance_across_i\"\n",
    "with open(dao_performance_file, 'rb') as infile:\n",
    "    dao_performance = pickle.load(infile)\n",
    "with open(dao_diversity_file, 'rb') as infile:\n",
    "    dao_diversity = pickle.load(infile)\n",
    "with open(dao_variance_file, 'rb') as infile:\n",
    "    dao_variance = pickle.load(infile)\n",
    "with open(dao_performance_time_file, 'rb') as infile:\n",
    "    dao_performance_time = pickle.load(infile)\n",
    "\n",
    "with open(hierarchy_performance_file, 'rb') as infile:\n",
    "    hierarchy_performance = pickle.load(infile)\n",
    "with open(hierarchy_diversity_file, 'rb') as infile:\n",
    "    hierarchy_diversity = pickle.load(infile)\n",
    "with open(hierarchy_variance_file, 'rb') as infile:\n",
    "    hierarchy_variance = pickle.load(infile)\n",
    "with open(hierarchy_performance_time_file, 'rb') as infile:\n",
    "    hierarchy_performance_time = pickle.load(infile)\n",
    "\n",
    "with open(autonomy_performance_file, 'rb') as infile:\n",
    "    autonomy_performance = pickle.load(infile)\n",
    "with open(autonomy_diversity_file, 'rb') as infile:\n",
    "    autonomy_diversity = pickle.load(infile)\n",
    "with open(autonomy_variance_file, 'rb') as infile:\n",
    "    autonomy_variance = pickle.load(infile)\n",
    "with open(autonomy_performance_time_file, 'rb') as infile:\n",
    "    autonomy_performance_time = pickle.load(infile)\n",
    "\n",
    "with open(dao_original_performance_file, 'rb') as infile:\n",
    "    dao_original_performance = pickle.load(infile)\n",
    "with open(hierarchy_original_performance_file, 'rb') as infile:\n",
    "    hierarchy_original_performance = pickle.load(infile)\n",
    "with open(autonomy_original_performance_file, 'rb') as infile:\n",
    "    autonomy_original_performance = pickle.load(infile)\n",
    "\n",
    "with open(consensus_original_performance_file, 'rb') as infile:\n",
    "    consensus_original_performance = pickle.load(infile)\n",
    "with open(consensus_performance_file, 'rb') as infile:\n",
    "    consensus_performance = pickle.load(infile)\n",
    "\n",
    "print(np.array(dao_performance).shape)\n",
    "print(dao_performance)"
   ],
   "metadata": {
    "collapsed": false,
    "ExecuteTime": {
     "end_time": "2024-05-03T13:33:41.022926Z",
     "start_time": "2024-05-03T13:33:40.804249Z"
    }
   },
   "outputs": [
    {
     "ename": "FileNotFoundError",
     "evalue": "[Errno 2] No such file or directory: 'E:\\\\data\\\\dao-0310-23\\\\V4_4\\\\Initialization\\\\dao_performance_across_i'",
     "output_type": "error",
     "traceback": [
      "\u001B[1;31m---------------------------------------------------------------------------\u001B[0m",
      "\u001B[1;31mFileNotFoundError\u001B[0m                         Traceback (most recent call last)",
      "\u001B[1;32m<ipython-input-2-a2a5bee4cc47>\u001B[0m in \u001B[0;36m<module>\u001B[1;34m\u001B[0m\n\u001B[0;32m     20\u001B[0m \u001B[0mconsensus_original_performance_file\u001B[0m \u001B[1;33m=\u001B[0m \u001B[0mdata_folder\u001B[0m \u001B[1;33m+\u001B[0m \u001B[1;34mr\"\\consensus_performance_across_i_time\"\u001B[0m\u001B[1;33m\u001B[0m\u001B[1;33m\u001B[0m\u001B[0m\n\u001B[0;32m     21\u001B[0m \u001B[0mconsensus_performance_file\u001B[0m \u001B[1;33m=\u001B[0m \u001B[0mdata_folder\u001B[0m \u001B[1;33m+\u001B[0m \u001B[1;34mr\"\\consensus_performance_across_i\"\u001B[0m\u001B[1;33m\u001B[0m\u001B[1;33m\u001B[0m\u001B[0m\n\u001B[1;32m---> 22\u001B[1;33m \u001B[1;32mwith\u001B[0m \u001B[0mopen\u001B[0m\u001B[1;33m(\u001B[0m\u001B[0mdao_performance_file\u001B[0m\u001B[1;33m,\u001B[0m \u001B[1;34m'rb'\u001B[0m\u001B[1;33m)\u001B[0m \u001B[1;32mas\u001B[0m \u001B[0minfile\u001B[0m\u001B[1;33m:\u001B[0m\u001B[1;33m\u001B[0m\u001B[1;33m\u001B[0m\u001B[0m\n\u001B[0m\u001B[0;32m     23\u001B[0m     \u001B[0mdao_performance\u001B[0m \u001B[1;33m=\u001B[0m \u001B[0mpickle\u001B[0m\u001B[1;33m.\u001B[0m\u001B[0mload\u001B[0m\u001B[1;33m(\u001B[0m\u001B[0minfile\u001B[0m\u001B[1;33m)\u001B[0m\u001B[1;33m\u001B[0m\u001B[1;33m\u001B[0m\u001B[0m\n\u001B[0;32m     24\u001B[0m \u001B[1;32mwith\u001B[0m \u001B[0mopen\u001B[0m\u001B[1;33m(\u001B[0m\u001B[0mdao_diversity_file\u001B[0m\u001B[1;33m,\u001B[0m \u001B[1;34m'rb'\u001B[0m\u001B[1;33m)\u001B[0m \u001B[1;32mas\u001B[0m \u001B[0minfile\u001B[0m\u001B[1;33m:\u001B[0m\u001B[1;33m\u001B[0m\u001B[1;33m\u001B[0m\u001B[0m\n",
      "\u001B[1;31mFileNotFoundError\u001B[0m: [Errno 2] No such file or directory: 'E:\\\\data\\\\dao-0310-23\\\\V4_4\\\\Initialization\\\\dao_performance_across_i'"
     ]
    }
   ],
   "execution_count": 2
  },
  {
   "cell_type": "code",
   "execution_count": null,
   "outputs": [],
   "source": [
    "# Define more colors\n",
    "# NUS two colors\n",
    "nus_blue = \"#003D7C\"\n",
    "nus_orange = \"#EF7C00\"\n",
    "# Nature three colors\n",
    "nature_orange = \"#F16C23\"\n",
    "nature_blue = \"#2B6A99\"\n",
    "nature_green = \"#1B7C3D\"\n",
    "# Morandi six colors\n",
    "morandi_blue = \"#046586\"\n",
    "morandi_green =  \"#28A9A1\"\n",
    "morandi_yellow = \"#C9A77C\"\n",
    "morandi_orange = \"#F4A016\"\n",
    "morandi_pink = \"#F6BBC6\"\n",
    "morandi_red = \"#E71F19\"\n",
    "morandi_purple = \"#B08BEB\"\n",
    "# Others\n",
    "shallow_grey = \"#D3D4D3\"\n",
    "deep_grey = \"#A6ABB6\""
   ],
   "metadata": {
    "collapsed": false,
    "ExecuteTime": {
     "start_time": "2024-03-27T12:11:57.791752Z"
    }
   }
  },
  {
   "cell_type": "code",
   "execution_count": null,
   "outputs": [],
   "source": [
    "# Challenges the wisdom of crowds on 1) small individual errors\n",
    "x = [0.1, 0.2, 0.3, 0.4, 0.5, 0.6, 0.7, 0.8, 0.9] # initialization bar\n",
    "x = np.array(x, dtype=None)\n",
    "fig, ax = plt.subplots()\n",
    "ax.spines[\"left\"].set_linewidth(1.5)\n",
    "ax.spines[\"right\"].set_linewidth(1.5)\n",
    "ax.spines[\"top\"].set_linewidth(1.5)\n",
    "ax.spines[\"bottom\"].set_linewidth(1.5)\n",
    "\n",
    "# plt.plot(x, dao_performance, \"k-\", label=\"DAO\")\n",
    "# plt.plot(x, consensus_performance, \"k-\", color=nature_blue, label=\"Consensus\")\n",
    "plt.plot(x, hierarchy_performance, \"k--\", label=\"Hierarchy\")\n",
    "plt.plot(x, autonomy_performance, \"k:\", label=\"Autonomy\")\n",
    "# plt.plot(x, x, \"k-\", color=shallow_grey)\n",
    "# Filling the area between curves and x-axis\n",
    "# Define the x-axis range\n",
    "ax.set_xlim([0.1, 1.0])\n",
    "ax.set_ylim([0.1, 1.0])\n",
    "rect = patches.Rectangle((0.48, 0), 0.04, 1.1, alpha=0.5, color=shallow_grey)\n",
    "ax.add_patch(rect)\n",
    "\n",
    "plt.xlabel('Initial Performance', fontweight='bold', fontsize=10)\n",
    "plt.ylabel('Converged Performance', fontweight='bold', fontsize=10)\n",
    "plt.xticks(x)\n",
    "plt.legend(frameon=False, ncol=1, fontsize=10)\n",
    "plt.tight_layout()\n",
    "plt.savefig(data_folder + r\"\\initialization_performance.png\", transparent=True, dpi=300)\n",
    "plt.show()\n",
    "plt.clf()"
   ],
   "metadata": {
    "collapsed": false,
    "ExecuteTime": {
     "start_time": "2024-03-27T12:11:57.792750Z"
    }
   }
  },
  {
   "cell_type": "code",
   "execution_count": null,
   "outputs": [],
   "source": [
    "# Challenges the wisdom of crowds on 1) small individual errors\n",
    "x = [0.1, 0.2, 0.3, 0.4, 0.5, 0.6, 0.7, 0.8] # initialization bar\n",
    "x = range(len(dao_original_performance[0]))\n",
    "fig, ax = plt.subplots()\n",
    "ax.spines[\"left\"].set_linewidth(1.5)\n",
    "ax.spines[\"right\"].set_linewidth(1.5)\n",
    "ax.spines[\"top\"].set_linewidth(1.5)\n",
    "ax.spines[\"bottom\"].set_linewidth(1.5)\n",
    "print(dao_performance)\n",
    "for performance_list in dao_original_performance:\n",
    "    print(performance_list[-1])\n",
    "plt.plot(x, dao_original_performance[0], \"k-\", color=morandi_blue, label=\"i=0.1\")\n",
    "plt.plot(x, dao_original_performance[1], \"k-\", color=morandi_green, label=\"i=0.2\")\n",
    "plt.plot(x, dao_original_performance[2], \"k-\", color=morandi_yellow, label=\"i=0.3\")\n",
    "plt.plot(x, dao_original_performance[3], \"k-\", color=morandi_orange, label=\"i=0.4\")\n",
    "plt.plot(x, dao_original_performance[4], \"k-\", color=morandi_pink, label=\"i=0.5\")\n",
    "plt.plot(x, dao_original_performance[5], \"k-\", color=morandi_red, label=\"i=0.6\")\n",
    "plt.plot(x, dao_original_performance[6], \"k-\", color=morandi_purple, label=\"i=0.7\")\n",
    "plt.plot(x, dao_original_performance[7], \"k-\", label=\"i=0.8\")\n",
    "plt.xlabel('Initial Performance', fontweight='bold', fontsize=10)\n",
    "plt.ylabel('DAO Performance', fontweight='bold', fontsize=10)\n",
    "plt.legend(frameon=False, ncol=1, fontsize=10)\n",
    "plt.tight_layout()\n",
    "plt.savefig(data_folder + r\"\\DAO_performance.png\", transparent=True, dpi=300) # appropriate printing resolution (usually 300 dpi)\n",
    "plt.show()\n",
    "plt.clf()"
   ],
   "metadata": {
    "collapsed": false,
    "ExecuteTime": {
     "start_time": "2024-03-27T12:11:57.792750Z"
    }
   }
  },
  {
   "cell_type": "code",
   "execution_count": null,
   "outputs": [],
   "source": [
    "# Challenges the wisdom of crowds on 1) small individual errors\n",
    "x = [0.1, 0.2, 0.3, 0.4, 0.5, 0.6, 0.7, 0.8] # initialization bar\n",
    "x = range(len(dao_original_performance[0]))\n",
    "fig, ax = plt.subplots()\n",
    "ax.spines[\"left\"].set_linewidth(1.5)\n",
    "ax.spines[\"right\"].set_linewidth(1.5)\n",
    "ax.spines[\"top\"].set_linewidth(1.5)\n",
    "ax.spines[\"bottom\"].set_linewidth(1.5)\n",
    "\n",
    "plt.plot(x, consensus_original_performance[0], \"k-\", color=morandi_blue, label=\"i=0.1\")\n",
    "plt.plot(x, consensus_original_performance[1], \"k-\", color=morandi_green, label=\"i=0.2\")\n",
    "plt.plot(x, consensus_original_performance[2], \"k-\", color=morandi_yellow, label=\"i=0.3\")\n",
    "plt.plot(x, consensus_original_performance[3], \"k-\", color=morandi_orange, label=\"i=0.4\")\n",
    "plt.plot(x, consensus_original_performance[4], \"k-\", color=morandi_pink, label=\"i=0.5\")\n",
    "plt.plot(x, consensus_original_performance[5], \"k-\", color=morandi_red, label=\"i=0.6\")\n",
    "plt.plot(x, consensus_original_performance[6], \"k-\", color=morandi_purple, label=\"i=0.7\")\n",
    "plt.plot(x, consensus_original_performance[7], \"k-\", label=\"i=0.8\")\n",
    "plt.xlabel('Initial Performance', fontweight='bold', fontsize=10)\n",
    "plt.ylabel('Consensus Performance', fontweight='bold', fontsize=10)\n",
    "plt.legend(frameon=False, ncol=1, fontsize=10)\n",
    "plt.tight_layout()\n",
    "plt.savefig(data_folder + r\"\\consensus_performance.png\", transparent=True, dpi=300)\n",
    "plt.show()\n",
    "plt.clf()"
   ],
   "metadata": {
    "collapsed": false,
    "ExecuteTime": {
     "start_time": "2024-03-27T12:11:57.793750Z"
    }
   }
  },
  {
   "cell_type": "code",
   "execution_count": null,
   "outputs": [],
   "source": [
    "# Challenges the wisdom of crowds on 1) small individual errors\n",
    "x = [0.1, 0.2, 0.3, 0.4, 0.5, 0.6, 0.7, 0.8] # initialization bar\n",
    "x = range(len(dao_original_performance[0]))\n",
    "fig, ax = plt.subplots()\n",
    "ax.spines[\"left\"].set_linewidth(1.5)\n",
    "ax.spines[\"right\"].set_linewidth(1.5)\n",
    "ax.spines[\"top\"].set_linewidth(1.5)\n",
    "ax.spines[\"bottom\"].set_linewidth(1.5)\n",
    "print(autonomy_performance)\n",
    "for performance_list in autonomy_original_performance:\n",
    "    print(performance_list[-1])\n",
    "plt.plot(x, autonomy_original_performance[0], \"k-\", color=morandi_blue, label=\"i=0.1\")\n",
    "plt.plot(x, autonomy_original_performance[1], \"k-\", color=morandi_green, label=\"i=0.2\")\n",
    "plt.plot(x, autonomy_original_performance[2], \"k-\", color=morandi_yellow, label=\"i=0.3\")\n",
    "plt.plot(x, autonomy_original_performance[3], \"k-\", color=morandi_orange, label=\"i=0.4\")\n",
    "plt.plot(x, autonomy_original_performance[4], \"k-\", color=morandi_pink, label=\"i=0.5\")\n",
    "plt.plot(x, autonomy_original_performance[5], \"k-\", color=morandi_red, label=\"i=0.6\")\n",
    "plt.plot(x, autonomy_original_performance[6], \"k-\", color=morandi_purple, label=\"i=0.7\")\n",
    "plt.plot(x, autonomy_original_performance[7], \"k-\", label=\"i=0.8\")\n",
    "plt.xlabel('Initial Performance', fontweight='bold', fontsize=10)\n",
    "plt.ylabel('Autonomy Performance', fontweight='bold', fontsize=10)\n",
    "plt.legend(frameon=False, ncol=1, fontsize=10)\n",
    "plt.tight_layout()\n",
    "plt.savefig(data_folder + r\"\\Autonomy_performance.png\", transparent=True, dpi=300)\n",
    "plt.show()\n",
    "plt.clf()"
   ],
   "metadata": {
    "collapsed": false,
    "ExecuteTime": {
     "start_time": "2024-03-27T12:11:57.794750Z"
    }
   }
  },
  {
   "cell_type": "code",
   "execution_count": null,
   "outputs": [],
   "source": [
    "# Challenges the wisdom of crowds on 1) small individual errors\n",
    "x = [0.1, 0.2, 0.3, 0.4, 0.5, 0.6, 0.7, 0.8] # initialization bar\n",
    "x = range(len(dao_original_performance[0]))\n",
    "fig, ax = plt.subplots()\n",
    "ax.spines[\"left\"].set_linewidth(1.5)\n",
    "ax.spines[\"right\"].set_linewidth(1.5)\n",
    "ax.spines[\"top\"].set_linewidth(1.5)\n",
    "ax.spines[\"bottom\"].set_linewidth(1.5)\n",
    "\n",
    "plt.plot(x, hierarchy_original_performance[0], \"k-\", color=morandi_blue, label=\"i=0.1\")\n",
    "plt.plot(x, hierarchy_original_performance[1], \"k-\", color=morandi_green, label=\"i=0.2\")\n",
    "plt.plot(x, hierarchy_original_performance[2], \"k-\", color=morandi_yellow, label=\"i=0.3\")\n",
    "plt.plot(x, hierarchy_original_performance[3], \"k-\", color=morandi_orange, label=\"i=0.4\")\n",
    "plt.plot(x, hierarchy_original_performance[4], \"k-\", color=morandi_pink, label=\"i=0.5\")\n",
    "plt.plot(x, hierarchy_original_performance[5], \"k-\", color=morandi_red, label=\"i=0.6\")\n",
    "plt.plot(x, hierarchy_original_performance[6], \"k-\", color=morandi_purple, label=\"i=0.7\")\n",
    "plt.plot(x, hierarchy_original_performance[7], \"k-\", label=\"i=0.8\")\n",
    "plt.xlabel('Initial Performance', fontweight='bold', fontsize=10)\n",
    "plt.ylabel('Hierarchy Performance', fontweight='bold', fontsize=10)\n",
    "plt.legend(frameon=False, ncol=1, fontsize=10)\n",
    "plt.tight_layout()\n",
    "plt.savefig(data_folder + r\"\\Hierarchy_performance.png\", transparent=True, dpi=300)\n",
    "plt.show()\n",
    "plt.clf()"
   ],
   "metadata": {
    "collapsed": false,
    "ExecuteTime": {
     "start_time": "2024-03-27T12:11:57.795751Z"
    }
   }
  },
  {
   "cell_type": "code",
   "execution_count": null,
   "outputs": [],
   "source": [],
   "metadata": {
    "collapsed": false
   }
  }
 ],
 "metadata": {
  "kernelspec": {
   "display_name": "Python 3",
   "language": "python",
   "name": "python3"
  },
  "language_info": {
   "codemirror_mode": {
    "name": "ipython",
    "version": 2
   },
   "file_extension": ".py",
   "mimetype": "text/x-python",
   "name": "python",
   "nbconvert_exporter": "python",
   "pygments_lexer": "ipython2",
   "version": "2.7.6"
  }
 },
 "nbformat": 4,
 "nbformat_minor": 0
}

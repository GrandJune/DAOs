{
 "cells": [
  {
   "cell_type": "code",
   "execution_count": 8,
   "metadata": {
    "collapsed": true
   },
   "outputs": [],
   "source": [
    "import matplotlib.pyplot as plt\n",
    "import pickle\n",
    "import numpy as np\n",
    "from matplotlib import container"
   ]
  },
  {
   "cell_type": "code",
   "execution_count": 11,
   "outputs": [
    {
     "name": "stdout",
     "output_type": "stream",
     "text": [
      "(4,)\n",
      "[0.6226980158730163, 0.6245603174603179, 0.6271219576719582, 0.6130684807256245]\n"
     ]
    }
   ],
   "source": [
    "data_folder = r\"E:\\data\\dao-0127\\DAO_2\\Scale\"\n",
    "dao_performance_file = data_folder + r\"\\dao_performance_across_n\"\n",
    "hierarchy_performance_file = data_folder + r\"\\hierarchy_performance_across_n\"\n",
    "autonomy_performance_file = data_folder + r\"\\autonomy_performance_across_n\"\n",
    "\n",
    "consensus_performance_file = data_folder + r\"\\consensus_performance_across_n\"\n",
    "superior_performance_file = data_folder + r\"\\superior_performance_across_n\"\n",
    "\n",
    "dao_diversity_file = data_folder + r\"\\dao_diversity_across_n\"\n",
    "hierarchy_diversity_file = data_folder + r\"\\hierarchy_diversity_across_n\"\n",
    "autonomy_diversity_file = data_folder + r\"\\autonomy_diversity_across_n\"\n",
    "\n",
    "dao_variance_file = data_folder + r\"\\dao_variance_across_n\"\n",
    "hierarchy_variance_file = data_folder + r\"\\hierarchy_variance_across_n\"\n",
    "autonomy_variance_file = data_folder + r\"\\autonomy_variance_across_n\"\n",
    "\n",
    "# dao_original_performance_file = data_folder + r\"\\dao_original_performance\"\n",
    "# hierarchy_original_performance_file = data_folder + r\"\\hierarchy_original_performance\"\n",
    "# autonomy_original_performance_file = data_folder + r\"\\autonomy_original_performance\"\n",
    "\n",
    "with open(dao_performance_file, 'rb') as infile:\n",
    "    dao_performance = pickle.load(infile)\n",
    "with open(hierarchy_performance_file, 'rb') as infile:\n",
    "    hierarchy_performance = pickle.load(infile)\n",
    "with open(autonomy_performance_file, 'rb') as infile:\n",
    "    autonomy_performance = pickle.load(infile)\n",
    "\n",
    "with open(dao_diversity_file, 'rb') as infile:\n",
    "    dao_diversity = pickle.load(infile)\n",
    "with open(hierarchy_diversity_file, 'rb') as infile:\n",
    "    hierarchy_diversity = pickle.load(infile)\n",
    "with open(autonomy_diversity_file, 'rb') as infile:\n",
    "    autonomy_diversity = pickle.load(infile)\n",
    "\n",
    "with open(consensus_performance_file, 'rb') as infile:\n",
    "    consensus_performance = pickle.load(infile)\n",
    "with open(superior_performance_file, 'rb') as infile:\n",
    "    superior_performance = pickle.load(infile)\n",
    "\n",
    "with open(dao_variance_file, 'rb') as infile:\n",
    "    dao_variance = pickle.load(infile)\n",
    "with open(hierarchy_variance_file, 'rb') as infile:\n",
    "    hierarchy_variance = pickle.load(infile)\n",
    "with open(autonomy_variance_file, 'rb') as infile:\n",
    "    autonomy_variance = pickle.load(infile)\n",
    "# with open(dao_original_performance_file, 'rb') as infile:\n",
    "#     dao_original_performance = pickle.load(infile)\n",
    "# with open(hierarchy_original_performance_file, 'rb') as infile:\n",
    "#     hierarchy_original_performance = pickle.load(infile)\n",
    "# with open(autonomy_original_performance_file, 'rb') as infile:\n",
    "#     autonomy_original_performance = pickle.load(infile)\n",
    "\n",
    "print(np.array(dao_performance).shape)\n",
    "print(dao_performance)"
   ],
   "metadata": {
    "collapsed": false
   }
  },
  {
   "cell_type": "code",
   "execution_count": 6,
   "outputs": [
    {
     "data": {
      "text/plain": "<Figure size 432x288 with 1 Axes>",
      "image/png": "[encoded data removed]"
     },
     "metadata": {
      "needs_background": "light"
     },
     "output_type": "display_data"
    },
    {
     "data": {
      "text/plain": "<Figure size 432x288 with 0 Axes>"
     },
     "metadata": {},
     "output_type": "display_data"
    }
   ],
   "source": [
    "x = range(len(dao_performance))\n",
    "#     n_list = [280, 350, 420, 490]\n",
    "# print(hierarchy_performance)\n",
    "plt.plot(range(len(dao_performance)), dao_performance, \"r-\", label=\"DAO\")\n",
    "# plt.plot(range(len(dao_performance)), consensus_performance, \"r--\", label=\"Consensus\")\n",
    "plt.plot(range(len(hierarchy_performance)), hierarchy_performance, \"b-\", label=\"Hierarchy\")\n",
    "# plt.plot(range(len(hierarchy_performance)), superior_performance, \"b--\", label=\"Superior\")\n",
    "plt.plot(range(len(autonomy_performance)), autonomy_performance, \"k-\", label=\"Autonomy\")\n",
    "plt.xlabel('Time', fontweight='bold', fontsize=10)\n",
    "plt.ylabel('Performance', fontweight='bold', fontsize=10)\n",
    "# plt.xticks(x)\n",
    "plt.legend(frameon=False, ncol=1, fontsize=10)\n",
    "plt.savefig(data_folder + r\"\\DHA_performance.png\", transparent=False, dpi=200)\n",
    "plt.show()\n",
    "plt.clf()"
   ],
   "metadata": {
    "collapsed": false
   }
  },
  {
   "cell_type": "code",
   "execution_count": null,
   "outputs": [],
   "source": [
    "print(len(dao_original_performance[0]))\n",
    "print(dao_original_performance[0][-1])\n",
    "print(dao_original_performance[1][-1])\n",
    "print(dao_original_performance[5][-1])\n",
    "print(dao_original_performance[10][-1])"
   ],
   "metadata": {
    "collapsed": false
   }
  },
  {
   "cell_type": "code",
   "execution_count": null,
   "outputs": [],
   "source": [
    "# Diversity\n",
    "x = range(len(dao_performance))\n",
    "plt.plot(range(len(dao_diversity)), dao_diversity, \"r-\", label=\"DAO\")\n",
    "plt.plot(range(len(hierarchy_diversity)), hierarchy_diversity, \"b-\", label=\"Hierarchy\")\n",
    "plt.plot(range(len(autonomy_diversity)), autonomy_diversity, \"k-\", label=\"Autonomy\")\n",
    "plt.xlabel('Time', fontweight='bold', fontsize=10)\n",
    "plt.ylabel('Diversity', fontweight='bold', fontsize=10)\n",
    "# plt.xticks(x)\n",
    "plt.legend(frameon=False, ncol=1, fontsize=10)\n",
    "plt.savefig(data_folder + r\"\\DHA_diversity.png\", transparent=False, dpi=200)\n",
    "plt.show()\n",
    "plt.clf()"
   ],
   "metadata": {
    "collapsed": false
   }
  },
  {
   "cell_type": "code",
   "execution_count": null,
   "outputs": [],
   "source": [],
   "metadata": {
    "collapsed": false
   }
  }
 ],
 "metadata": {
  "kernelspec": {
   "display_name": "Python 3",
   "language": "python",
   "name": "python3"
  },
  "language_info": {
   "codemirror_mode": {
    "name": "ipython",
    "version": 2
   },
   "file_extension": ".py",
   "mimetype": "text/x-python",
   "name": "python",
   "nbconvert_exporter": "python",
   "pygments_lexer": "ipython2",
   "version": "2.7.6"
  }
 },
 "nbformat": 4,
 "nbformat_minor": 0
}

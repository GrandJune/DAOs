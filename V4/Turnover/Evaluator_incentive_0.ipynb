{
 "cells": [
  {
   "cell_type": "code",
   "metadata": {
    "collapsed": true,
    "ExecuteTime": {
     "end_time": "2024-06-07T08:40:53.801466Z",
     "start_time": "2024-06-07T08:40:53.283495Z"
    }
   },
   "source": [
    "import matplotlib.pyplot as plt\n",
    "import pickle\n",
    "legend_properties = {'weight':'bold'}"
   ],
   "outputs": [],
   "execution_count": 2
  },
  {
   "cell_type": "code",
   "source": [
    "data_folder = r\"E:\\data\\dao-0310-23\\Turnover\"\n",
    "dao_performance_file = data_folder + r\"\\dao_performance_across_turnover_1\"\n",
    "hierarchy_performance_file = data_folder + r\"\\hierarchy_performance_across_turnover_1\"\n",
    "autonomy_performance_file = data_folder + r\"\\autonomy_performance_across_turnover_1\"\n",
    "\n",
    "dao_diversity_file = data_folder + r\"\\dao_diversity_across_turnover_1\"\n",
    "hierarchy_diversity_file = data_folder + r\"\\hierarchy_diversity_across_turnover_1\"\n",
    "autonomy_diversity_file = data_folder + r\"\\autonomy_diversity_across_turnover_1\"\n",
    "\n",
    "with open(dao_performance_file, 'rb') as infile:\n",
    "    dao_performance = pickle.load(infile)\n",
    "with open(hierarchy_performance_file, 'rb') as infile:\n",
    "    hierarchy_performance = pickle.load(infile)\n",
    "with open(autonomy_performance_file, 'rb') as infile:\n",
    "    autonomy_performance = pickle.load(infile)\n",
    "\n",
    "with open(dao_diversity_file, 'rb') as infile:\n",
    "    dao_diversity = pickle.load(infile)\n",
    "with open(hierarchy_diversity_file, 'rb') as infile:\n",
    "    hierarchy_diversity = pickle.load(infile)\n",
    "with open(autonomy_diversity_file, 'rb') as infile:\n",
    "    autonomy_diversity = pickle.load(infile)\n",
    "print(dao_performance)\n",
    "print(hierarchy_performance)\n",
    "print(autonomy_performance)"
   ],
   "metadata": {
    "collapsed": false,
    "ExecuteTime": {
     "end_time": "2024-06-07T08:41:42.794343Z",
     "start_time": "2024-06-07T08:41:42.783343Z"
    }
   },
   "outputs": [
    {
     "name": "stdout",
     "output_type": "stream",
     "text": [
      "[0.7160878095238091]\n",
      "[0.7652114285714282]\n",
      "[0.5952193650793658]\n"
     ]
    }
   ],
   "execution_count": 6
  },
  {
   "cell_type": "code",
   "execution_count": 8,
   "outputs": [],
   "source": [],
   "metadata": {
    "collapsed": false
   }
  }
 ],
 "metadata": {
  "kernelspec": {
   "display_name": "Python 3",
   "language": "python",
   "name": "python3"
  },
  "language_info": {
   "codemirror_mode": {
    "name": "ipython",
    "version": 2
   },
   "file_extension": ".py",
   "mimetype": "text/x-python",
   "name": "python",
   "nbconvert_exporter": "python",
   "pygments_lexer": "ipython2",
   "version": "2.7.6"
  }
 },
 "nbformat": 4,
 "nbformat_minor": 0
}

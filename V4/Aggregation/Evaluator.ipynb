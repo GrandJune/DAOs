{
 "cells": [
  {
   "cell_type": "code",
   "execution_count": 1,
   "metadata": {
    "collapsed": true
   },
   "outputs": [],
   "source": [
    "import matplotlib.pyplot as plt\n",
    "import pickle\n",
    "from matplotlib import container"
   ]
  },
  {
   "cell_type": "code",
   "execution_count": 2,
   "outputs": [
    {
     "ename": "FileNotFoundError",
     "evalue": "[Errno 2] No such file or directory: 'E:\\\\data\\\\dao-0127\\\\DAO_2\\\\Aggregation\\\\dao_performance_across_alpha'",
     "output_type": "error",
     "traceback": [
      "\u001B[1;31m---------------------------------------------------------------------------\u001B[0m",
      "\u001B[1;31mFileNotFoundError\u001B[0m                         Traceback (most recent call last)",
      "\u001B[1;32m<ipython-input-2-58a706a9256d>\u001B[0m in \u001B[0;36m<module>\u001B[1;34m\u001B[0m\n\u001B[0;32m     15\u001B[0m \u001B[1;31m# autonomy_original_performance_file = data_folder + r\"\\autonomy_original_performance\"\u001B[0m\u001B[1;33m\u001B[0m\u001B[1;33m\u001B[0m\u001B[1;33m\u001B[0m\u001B[0m\n\u001B[0;32m     16\u001B[0m \u001B[1;33m\u001B[0m\u001B[0m\n\u001B[1;32m---> 17\u001B[1;33m \u001B[1;32mwith\u001B[0m \u001B[0mopen\u001B[0m\u001B[1;33m(\u001B[0m\u001B[0mdao_performance_file\u001B[0m\u001B[1;33m,\u001B[0m \u001B[1;34m'rb'\u001B[0m\u001B[1;33m)\u001B[0m \u001B[1;32mas\u001B[0m \u001B[0minfile\u001B[0m\u001B[1;33m:\u001B[0m\u001B[1;33m\u001B[0m\u001B[1;33m\u001B[0m\u001B[0m\n\u001B[0m\u001B[0;32m     18\u001B[0m     \u001B[0mdao_performance\u001B[0m \u001B[1;33m=\u001B[0m \u001B[0mpickle\u001B[0m\u001B[1;33m.\u001B[0m\u001B[0mload\u001B[0m\u001B[1;33m(\u001B[0m\u001B[0minfile\u001B[0m\u001B[1;33m)\u001B[0m\u001B[1;33m\u001B[0m\u001B[1;33m\u001B[0m\u001B[0m\n\u001B[0;32m     19\u001B[0m \u001B[1;32mwith\u001B[0m \u001B[0mopen\u001B[0m\u001B[1;33m(\u001B[0m\u001B[0mhierarchy_performance_file\u001B[0m\u001B[1;33m,\u001B[0m \u001B[1;34m'rb'\u001B[0m\u001B[1;33m)\u001B[0m \u001B[1;32mas\u001B[0m \u001B[0minfile\u001B[0m\u001B[1;33m:\u001B[0m\u001B[1;33m\u001B[0m\u001B[1;33m\u001B[0m\u001B[0m\n",
      "\u001B[1;31mFileNotFoundError\u001B[0m: [Errno 2] No such file or directory: 'E:\\\\data\\\\dao-0127\\\\DAO_2\\\\Aggregation\\\\dao_performance_across_alpha'"
     ]
    }
   ],
   "source": [
    "data_folder = r\"E:\\data\\dao-0127\\DAO_2\\Aggregation\"\n",
    "dao_performance_file = data_folder + r\"\\dao_performance_across_alpha\"\n",
    "hierarchy_performance_file = data_folder + r\"\\hierarchy_performance_across_alpha\"\n",
    "autonomy_performance_file = data_folder + r\"\\autonomy_performance_across_alpha\"\n",
    "\n",
    "# consensus_performance_file = data_folder + r\"\\dao_consensus_performance_across_lr\"\n",
    "# superior_performance_file = data_folder + r\"\\hierarchy_superior_performance_across_lr\"\n",
    "\n",
    "dao_diversity_file = data_folder + r\"\\dao_diversity_across_alpha\"\n",
    "hierarchy_diversity_file = data_folder + r\"\\hierarchy_diversity_across_alpha\"\n",
    "autonomy_diversity_file = data_folder + r\"\\autonomy_diversity_across_alpha\"\n",
    "\n",
    "# dao_original_performance_file = data_folder + r\"\\dao_original_performance\"\n",
    "# hierarchy_original_performance_file = data_folder + r\"\\hierarchy_original_performance\"\n",
    "# autonomy_original_performance_file = data_folder + r\"\\autonomy_original_performance\"\n",
    "\n",
    "with open(dao_performance_file, 'rb') as infile:\n",
    "    dao_performance = pickle.load(infile)\n",
    "with open(hierarchy_performance_file, 'rb') as infile:\n",
    "    hierarchy_performance = pickle.load(infile)\n",
    "with open(autonomy_performance_file, 'rb') as infile:\n",
    "    autonomy_performance = pickle.load(infile)\n",
    "\n",
    "with open(dao_diversity_file, 'rb') as infile:\n",
    "    dao_diversity = pickle.load(infile)\n",
    "with open(hierarchy_diversity_file, 'rb') as infile:\n",
    "    hierarchy_diversity = pickle.load(infile)\n",
    "with open(autonomy_diversity_file, 'rb') as infile:\n",
    "    autonomy_diversity = pickle.load(infile)\n",
    "\n",
    "# with open(consensus_performance_file, 'rb') as infile:\n",
    "#     consensus_performance = pickle.load(infile)\n",
    "# with open(superior_performance_file, 'rb') as infile:\n",
    "#     superior_performance = pickle.load(infile)\n",
    "\n",
    "# with open(dao_original_performance_file, 'rb') as infile:\n",
    "#     dao_original_performance = pickle.load(infile)\n",
    "# with open(hierarchy_original_performance_file, 'rb') as infile:\n",
    "#     hierarchy_original_performance = pickle.load(infile)\n",
    "# with open(autonomy_original_performance_file, 'rb') as infile:\n",
    "#     autonomy_original_performance = pickle.load(infile)"
   ],
   "metadata": {
    "collapsed": false
   }
  },
  {
   "cell_type": "code",
   "execution_count": null,
   "outputs": [],
   "source": [
    "x = [0.1, 0.2, 0.3, 0.4, 0.5, 0.6, 0.7, 0.8, 0.9]\n",
    "# print(hierarchy_performance)\n",
    "plt.plot(x, dao_performance, \"r-\", label=\"DAO\")\n",
    "# plt.plot(range(len(dao_performance)), consensus_performance, \"r--\", label=\"Consensus\")\n",
    "plt.plot(x, hierarchy_performance, \"b-\", label=\"Hierarchy\")\n",
    "# plt.plot(range(len(hierarchy_performance)), superior_performance, \"b--\", label=\"Superior\")\n",
    "plt.plot(x, autonomy_performance, \"k-\", label=\"Autonomy\")\n",
    "plt.xlabel('Alpha', fontweight='bold', fontsize=10)\n",
    "plt.ylabel('Performance', fontweight='bold', fontsize=10)\n",
    "plt.xticks(x)\n",
    "plt.legend(frameon=False, ncol=1, fontsize=10)\n",
    "plt.savefig(data_folder + r\"\\DHA_performance.png\", transparent=False, dpi=200)\n",
    "plt.show()\n",
    "plt.clf()"
   ],
   "metadata": {
    "collapsed": false
   }
  },
  {
   "cell_type": "code",
   "execution_count": null,
   "outputs": [],
   "source": [
    "# print(len(dao_original_performance[0]))\n",
    "# print(dao_original_performance[0][-1])\n",
    "# print(dao_original_performance[1][-1])\n",
    "# print(dao_original_performance[5][-1])\n",
    "# print(dao_original_performance[10][-1])"
   ],
   "metadata": {
    "collapsed": false
   }
  },
  {
   "cell_type": "code",
   "execution_count": null,
   "outputs": [],
   "source": [
    "# Diversity\n",
    "x = range(len(dao_performance))\n",
    "plt.plot(range(len(dao_diversity)), dao_diversity, \"r-\", label=\"DAO\")\n",
    "plt.plot(range(len(hierarchy_diversity)), hierarchy_diversity, \"b-\", label=\"Hierarchy\")\n",
    "plt.plot(range(len(autonomy_diversity)), autonomy_diversity, \"k-\", label=\"Autonomy\")\n",
    "plt.xlabel('Time', fontweight='bold', fontsize=10)\n",
    "plt.ylabel('Diversity', fontweight='bold', fontsize=10)\n",
    "# plt.xticks(x)\n",
    "plt.legend(frameon=False, ncol=1, fontsize=10)\n",
    "plt.savefig(data_folder + r\"\\DHA_diversity.png\", transparent=False, dpi=200)\n",
    "plt.show()\n",
    "plt.clf()"
   ],
   "metadata": {
    "collapsed": false
   }
  },
  {
   "cell_type": "code",
   "execution_count": null,
   "outputs": [],
   "source": [],
   "metadata": {
    "collapsed": false
   }
  }
 ],
 "metadata": {
  "kernelspec": {
   "display_name": "Python 3",
   "language": "python",
   "name": "python3"
  },
  "language_info": {
   "codemirror_mode": {
    "name": "ipython",
    "version": 2
   },
   "file_extension": ".py",
   "mimetype": "text/x-python",
   "name": "python",
   "nbconvert_exporter": "python",
   "pygments_lexer": "ipython2",
   "version": "2.7.6"
  }
 },
 "nbformat": 4,
 "nbformat_minor": 0
}

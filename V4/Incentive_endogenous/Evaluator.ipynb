{
 "cells": [
  {
   "cell_type": "code",
   "metadata": {
    "collapsed": true,
    "ExecuteTime": {
     "end_time": "2024-10-14T12:32:06.602716Z",
     "start_time": "2024-10-14T12:32:06.523273Z"
    }
   },
   "source": [
    "import matplotlib.pyplot as plt\n",
    "from matplotlib import container\n",
    "import pickle\n",
    "import numpy as np\n",
    "import csv\n",
    "legend_properties = {'weight':'bold'}\n",
    "# Define more colors\n",
    "# NUS two colors\n",
    "nus_blue = \"#003D7C\"\n",
    "nus_orange = \"#EF7C00\"\n",
    "# Nature three colors\n",
    "nature_orange = \"#F16C23\"\n",
    "nature_blue = \"#2B6A99\"\n",
    "nature_green = \"#1B7C3D\"\n",
    "# Morandi six colors\n",
    "morandi_blue = \"#046586\"\n",
    "morandi_green =  \"#28A9A1\"\n",
    "morandi_yellow = \"#C9A77C\"\n",
    "morandi_orange = \"#F4A016\"\n",
    "morandi_pink = \"#F6BBC6\"\n",
    "morandi_red = \"#E71F19\"\n",
    "morandi_purple = \"#B08BEB\"\n",
    "# Others\n",
    "shallow_grey = \"#D3D4D3\"\n",
    "deep_grey = \"#A6ABB6\""
   ],
   "outputs": [],
   "execution_count": 11
  },
  {
   "cell_type": "code",
   "source": [
    "# data_folder = r\"E:\\data\\dao-0310-23\\V4_4\\Incentive_endogenous_3\"\n",
    "# # 1\n",
    "# dao_performance_1_list = [[0, 0, 0], [0, 0, 0], [0, 0, 0]]\n",
    "# for index in range(1, 11):\n",
    "#     dao_performance_1_file = data_folder + r\"\\dao_performance_1_{0}\".format(index)\n",
    "#     with open(dao_performance_1_file, 'rb') as infile:\n",
    "#         dao_performance_1 = pickle.load(infile)\n",
    "#     for index, row_1, row_2 in zip(range(len(dao_performance_1_list)), dao_performance_1, dao_performance_1_list):\n",
    "#         new_row = [0.5 * (a + b) for a, b in zip(row_1, row_2)]\n",
    "#         dao_performance_1_list[index] = new_row\n",
    "# \n",
    "# # print(np.shape(dao_performance_1_list))\n",
    "# print(\"dao_performance_1_list: \" , dao_performance_1_list)\n",
    "# \n",
    "# # 2\n",
    "# dao_performance_2_list = [[0, 0, 0], [0, 0, 0], [0, 0, 0]]\n",
    "# for index in range(1, 11):\n",
    "#     dao_performance_2_file = data_folder + r\"\\dao_performance_2_{0}\".format(index)\n",
    "#     with open(dao_performance_2_file, 'rb') as infile:\n",
    "#         dao_performance_2 = pickle.load(infile)\n",
    "#     for index, row_1, row_2 in zip(range(len(dao_performance_2_list)), dao_performance_2, dao_performance_2_list):\n",
    "#         new_row = [0.5 * (a + b) for a, b in zip(row_1, row_2)]\n",
    "#         dao_performance_2_list[index] = new_row\n",
    "# \n",
    "# # print(np.shape(dao_performance_2_list))\n",
    "# print(\"dao_performance_2_list: \" , dao_performance_2_list)\n",
    "# \n",
    "# \n",
    "# # 3\n",
    "# dao_performance_3_list = [[0, 0, 0], [0, 0, 0], [0, 0, 0]]\n",
    "# for index in range(1, 11):\n",
    "#     dao_performance_3_file = data_folder + r\"\\dao_performance_3_{0}\".format(index)\n",
    "#     with open(dao_performance_3_file, 'rb') as infile:\n",
    "#         dao_performance_3 = pickle.load(infile)\n",
    "#     for index, row_1, row_2 in zip(range(len(dao_performance_3_list)), dao_performance_3, dao_performance_3_list):\n",
    "#         new_row = [0.5 * (a + b) for a, b in zip(row_1, row_2)]\n",
    "#         dao_performance_3_list[index] = new_row\n",
    "# \n",
    "# print(\"dao_performance_3_list: \", dao_performance_3_list)\n",
    "# \n",
    "# full_data = []\n",
    "# for data_1_row, data_2_row, data_3_row in zip(dao_performance_1_list, dao_performance_2_list, dao_performance_3_list):\n",
    "#     new_row = data_1_row + data_2_row + data_3_row\n",
    "#     full_data.append(new_row)\n",
    "# \n",
    "# print(\"full_data: \", full_data)\n",
    "#     "
   ],
   "metadata": {
    "collapsed": false,
    "ExecuteTime": {
     "end_time": "2024-10-10T12:44:42.412665Z",
     "start_time": "2024-10-10T12:44:42.396987Z"
    }
   },
   "outputs": [],
   "execution_count": 3
  },
  {
   "metadata": {
    "ExecuteTime": {
     "end_time": "2024-10-14T12:32:22.867975Z",
     "start_time": "2024-10-14T12:32:22.835979Z"
    }
   },
   "cell_type": "code",
   "source": [
    "data_folder = r\"E:\\data\\dao-0310-23\\V4_4\\Incentive_endogenous_7\"\n",
    "# active_list = [0.9]\n",
    "active_list = [0.1, 0.2, 0.3, 0.4, 0.9]\n",
    "performance_list = []\n",
    "for active in active_list:\n",
    "    dao_performance_file = data_folder + r\"\\dao_performance_{0}\".format(active)\n",
    "    with open(dao_performance_file, 'rb') as infile:\n",
    "        dao_performance = pickle.load(infile)\n",
    "    performance_list.append(dao_performance)\n",
    "    print(len(dao_performance))\n",
    "print(np.shape(performance_list))"
   ],
   "outputs": [
    {
     "name": "stdout",
     "output_type": "stream",
     "text": [
      "10\n",
      "10\n",
      "10\n",
      "10\n",
      "10\n",
      "(5, 10)\n"
     ]
    }
   ],
   "execution_count": 12
  },
  {
   "metadata": {
    "ExecuteTime": {
     "end_time": "2024-10-14T13:31:43.039608Z",
     "start_time": "2024-10-14T13:31:42.569555Z"
    }
   },
   "cell_type": "code",
   "source": [
    "incentive_list = [0.1, 0.2, 0.3, 0.4, 0.5, 0.6, 0.7, 0.8, 0.9, 1.0]\n",
    "fig, (ax1) = plt.subplots(1, 1)\n",
    "\n",
    "ax1.spines[\"left\"].set_linewidth(1.5)\n",
    "ax1.spines[\"right\"].set_linewidth(1.5)\n",
    "ax1.spines[\"top\"].set_linewidth(1.5)\n",
    "ax1.spines[\"bottom\"].set_linewidth(1.5)\n",
    "\n",
    "# ax1.plot(incentive_list, performance_list[0], \"-o\", label=\"$p_{a}=0.1$\", color=nature_blue)\n",
    "# ax1.plot(incentive_list, performance_list[1], \"-v\", label=\"$p_{a}=0.2$\", color=nature_green)\n",
    "# ax1.plot(incentive_list, performance_list[2], \"-s\", label=\"$p_{a}=0.3$\", color=nature_orange)\n",
    "# ax1.plot(incentive_list, performance_list[3], \"--o\", label=\"$p_{a}=0.4$\", color=nature_orange)\n",
    "# ax1.plot(incentive_list, performance_list[4], \"--v\", label=\"$p_{a}=0.5$\", color=nature_orange)\n",
    "ax1.plot(incentive_list, performance_list[-1], \"--s\", label=\"$p_{a}=0.9$\", color=nature_orange)\n",
    "plt.xlabel('Incentive Degree', fontweight='bold', fontsize=12)\n",
    "plt.ylabel('Performance', fontweight='bold', fontsize=12)\n",
    "plt.xticks(incentive_list)\n",
    "handles, labels = ax1.get_legend_handles_labels()\n",
    "handles = [h[0] if isinstance(h, container.ErrorbarContainer) else h for h in handles]\n",
    "plt.legend(frameon=False, ncol=1, fontsize=12)\n",
    "plt.savefig(data_folder + r\"\\Performance_across_sensitivity.png\", transparent=True, dpi=300)\n",
    "plt.show()\n",
    "plt.clf()"
   ],
   "outputs": [
    {
     "data": {
      "text/plain": [
       "<Figure size 432x288 with 1 Axes>"
      ],
      "image/png": "[encoded data removed]"
     },
     "metadata": {
      "needs_background": "light"
     },
     "output_type": "display_data"
    },
    {
     "data": {
      "text/plain": [
       "<Figure size 432x288 with 0 Axes>"
      ]
     },
     "metadata": {},
     "output_type": "display_data"
    }
   ],
   "execution_count": 14
  },
  {
   "metadata": {
    "ExecuteTime": {
     "end_time": "2024-09-23T07:35:32.295896Z",
     "start_time": "2024-09-23T07:35:32.282864Z"
    }
   },
   "cell_type": "code",
   "source": [
    "# incentive $\\\\gamma=1$\n",
    "data_folder = r\"E:\\data\\dao-0310-23\\V4_4\\Incentive_endogenous_2\"\n",
    "dao_performance_file = data_folder + r\"\\dao_performance\"\n",
    "with open(dao_performance_file, 'rb') as infile:\n",
    "    dao_performance = pickle.load(infile)\n",
    "dao_performance_across_time_file = data_folder + r\"\\dao_performance_across_time\"\n",
    "with open(dao_performance_across_time_file, 'rb') as infile:\n",
    "    dao_performance_across_time = pickle.load(infile)"
   ],
   "outputs": [],
   "execution_count": 5
  },
  {
   "cell_type": "code",
   "source": [
    "sensitivity_list = [1, 2, 3, 4, 5, 6, 7, 8, 9]\n",
    "fig, (ax1) = plt.subplots(1, 1)\n",
    "\n",
    "ax1.spines[\"left\"].set_linewidth(1.5)\n",
    "ax1.spines[\"right\"].set_linewidth(1.5)\n",
    "ax1.spines[\"top\"].set_linewidth(1.5)\n",
    "ax1.spines[\"bottom\"].set_linewidth(1.5)\n",
    "\n",
    "ax1.plot(sensitivity_list, dao_performance, \"-o\", label=\"$\\\\gamma=1$\", color=nature_blue)\n",
    "plt.xlabel('Sensitivity', fontweight='bold', fontsize=12)\n",
    "plt.ylabel('Performance', fontweight='bold', fontsize=12)\n",
    "plt.legend(frameon=False, ncol=1, fontsize=12)\n",
    "plt.savefig(data_folder + r\"\\Performance_across_sensitivity_2.png\", transparent=True, dpi=300)\n",
    "plt.show()\n",
    "plt.clf()"
   ],
   "metadata": {
    "collapsed": false,
    "ExecuteTime": {
     "end_time": "2024-09-23T07:36:11.569223Z",
     "start_time": "2024-09-23T07:36:11.233196Z"
    }
   },
   "outputs": [
    {
     "data": {
      "text/plain": [
       "<Figure size 432x288 with 1 Axes>"
      ],
      "image/png": "[encoded data removed]"
     },
     "metadata": {
      "needs_background": "light"
     },
     "output_type": "display_data"
    },
    {
     "data": {
      "text/plain": [
       "<Figure size 432x288 with 0 Axes>"
      ]
     },
     "metadata": {},
     "output_type": "display_data"
    }
   ],
   "execution_count": 6
  },
  {
   "cell_type": "code",
   "source": [
    "# import math\n",
    "# x = 9\n",
    "# math.exp(-x)\n",
    "import numpy as np\n",
    "asymmetry =1\n",
    "mode = 1\n",
    "for _ in range(10):\n",
    "    token = (np.random.pareto(a=asymmetry) + 1) * mode\n",
    "    print(token)"
   ],
   "metadata": {
    "collapsed": false,
    "ExecuteTime": {
     "end_time": "2024-09-23T11:43:48.998105Z",
     "start_time": "2024-09-23T11:43:48.965085Z"
    }
   },
   "outputs": [
    {
     "name": "stdout",
     "output_type": "stream",
     "text": [
      "3.383893391544108\n",
      "9.842768787527762\n",
      "1.3644430471539943\n",
      "1.7665523340580211\n",
      "1.0537668300567031\n",
      "1.0542689814665023\n",
      "1.156746173286349\n",
      "1.1252918679240775\n",
      "13.99047901285178\n",
      "1.590655021546434\n"
     ]
    }
   ],
   "execution_count": 7
  },
  {
   "metadata": {
    "ExecuteTime": {
     "end_time": "2024-09-24T08:21:56.360385Z",
     "start_time": "2024-09-24T08:21:56.192327Z"
    }
   },
   "cell_type": "code",
   "source": [
    "import numpy as np\n",
    "import matplotlib.pyplot as plt\n",
    "x_list = np.arange(0, 2, 0.05)\n",
    "y_list = []\n",
    "for x in x_list:\n",
    "    y = 1 / (1 + np.exp(-x))\n",
    "    y_list.append(y)\n",
    "    \n",
    "fig, (ax1) = plt.subplots(1, 1)\n",
    "\n",
    "ax1.spines[\"left\"].set_linewidth(1.5)\n",
    "ax1.spines[\"right\"].set_linewidth(1.5)\n",
    "ax1.spines[\"top\"].set_linewidth(1.5)\n",
    "ax1.spines[\"bottom\"].set_linewidth(1.5)\n",
    "\n",
    "ax1.plot(x_list, y_list, \"-o\", label=\"Sigmoid\", color=\"k\")\n",
    "ax1.plot(x_list, x_list, \"--\", label=\"Linear\", color=\"k\")\n",
    "plt.xlabel('Sensitivity', fontweight='bold', fontsize=12)\n",
    "plt.ylabel('Performance', fontweight='bold', fontsize=12)\n",
    "plt.legend(frameon=False, ncol=1, fontsize=12)\n",
    "plt.show()\n",
    "plt.clf()"
   ],
   "outputs": [
    {
     "data": {
      "text/plain": [
       "<Figure size 432x288 with 1 Axes>"
      ],
      "image/png": "[encoded data removed]"
     },
     "metadata": {
      "needs_background": "light"
     },
     "output_type": "display_data"
    },
    {
     "data": {
      "text/plain": [
       "<Figure size 432x288 with 0 Axes>"
      ]
     },
     "metadata": {},
     "output_type": "display_data"
    }
   ],
   "execution_count": 9
  },
  {
   "metadata": {
    "ExecuteTime": {
     "end_time": "2024-09-24T12:13:26.484118Z",
     "start_time": "2024-09-24T12:13:26.480085Z"
    }
   },
   "cell_type": "code",
   "source": [
    "mode = 1\n",
    "asymmetry = 1\n",
    "for _ in range(10):\n",
    "    token = (np.random.pareto(a=asymmetry) + 1) * mode\n",
    "    print(token)"
   ],
   "outputs": [
    {
     "name": "stdout",
     "output_type": "stream",
     "text": [
      "1.5125982256414392\n",
      "1.9118212238546113\n",
      "6.311032383698248\n",
      "1.1000276506665856\n",
      "1.05279913037211\n",
      "3.3968462231254626\n",
      "1.7773052955946935\n",
      "5.860778135341758\n",
      "1.1989076626586086\n",
      "6.975324972067144\n"
     ]
    }
   ],
   "execution_count": 13
  },
  {
   "metadata": {},
   "cell_type": "code",
   "outputs": [],
   "execution_count": null,
   "source": ""
  }
 ],
 "metadata": {
  "kernelspec": {
   "display_name": "Python 3",
   "language": "python",
   "name": "python3"
  },
  "language_info": {
   "codemirror_mode": {
    "name": "ipython",
    "version": 2
   },
   "file_extension": ".py",
   "mimetype": "text/x-python",
   "name": "python",
   "nbconvert_exporter": "python",
   "pygments_lexer": "ipython2",
   "version": "2.7.6"
  }
 },
 "nbformat": 4,
 "nbformat_minor": 0
}

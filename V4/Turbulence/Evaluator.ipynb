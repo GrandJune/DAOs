{
 "cells": [
  {
   "cell_type": "code",
   "execution_count": 1,
   "metadata": {
    "collapsed": true
   },
   "outputs": [],
   "source": [
    "import matplotlib.pyplot as plt\n",
    "import pickle\n",
    "from matplotlib import container"
   ]
  },
  {
   "cell_type": "code",
   "execution_count": 2,
   "outputs": [
    {
     "ename": "FileNotFoundError",
     "evalue": "[Errno 2] No such file or directory: 'E:\\\\data\\\\dao-0310\\\\V4\\\\Turbulence\\\\dao_performance'",
     "output_type": "error",
     "traceback": [
      "\u001B[1;31m---------------------------------------------------------------------------\u001B[0m",
      "\u001B[1;31mFileNotFoundError\u001B[0m                         Traceback (most recent call last)",
      "\u001B[1;32m<ipython-input-2-2e219d725eb0>\u001B[0m in \u001B[0;36m<module>\u001B[1;34m\u001B[0m\n\u001B[0;32m     27\u001B[0m \u001B[0mautonomy_original_performance_file\u001B[0m \u001B[1;33m=\u001B[0m \u001B[0mdata_folder\u001B[0m \u001B[1;33m+\u001B[0m \u001B[1;34mr\"\\autonomy_original_performance\"\u001B[0m\u001B[1;33m\u001B[0m\u001B[1;33m\u001B[0m\u001B[0m\n\u001B[0;32m     28\u001B[0m \u001B[1;33m\u001B[0m\u001B[0m\n\u001B[1;32m---> 29\u001B[1;33m \u001B[1;32mwith\u001B[0m \u001B[0mopen\u001B[0m\u001B[1;33m(\u001B[0m\u001B[0mdao_performance_file\u001B[0m\u001B[1;33m,\u001B[0m \u001B[1;34m'rb'\u001B[0m\u001B[1;33m)\u001B[0m \u001B[1;32mas\u001B[0m \u001B[0minfile\u001B[0m\u001B[1;33m:\u001B[0m\u001B[1;33m\u001B[0m\u001B[1;33m\u001B[0m\u001B[0m\n\u001B[0m\u001B[0;32m     30\u001B[0m     \u001B[0mdao_performance\u001B[0m \u001B[1;33m=\u001B[0m \u001B[0mpickle\u001B[0m\u001B[1;33m.\u001B[0m\u001B[0mload\u001B[0m\u001B[1;33m(\u001B[0m\u001B[0minfile\u001B[0m\u001B[1;33m)\u001B[0m\u001B[1;33m\u001B[0m\u001B[1;33m\u001B[0m\u001B[0m\n\u001B[0;32m     31\u001B[0m \u001B[1;32mwith\u001B[0m \u001B[0mopen\u001B[0m\u001B[1;33m(\u001B[0m\u001B[0mhierarchy_performance_file\u001B[0m\u001B[1;33m,\u001B[0m \u001B[1;34m'rb'\u001B[0m\u001B[1;33m)\u001B[0m \u001B[1;32mas\u001B[0m \u001B[0minfile\u001B[0m\u001B[1;33m:\u001B[0m\u001B[1;33m\u001B[0m\u001B[1;33m\u001B[0m\u001B[0m\n",
      "\u001B[1;31mFileNotFoundError\u001B[0m: [Errno 2] No such file or directory: 'E:\\\\data\\\\dao-0310\\\\V4\\\\Turbulence\\\\dao_performance'"
     ]
    }
   ],
   "source": [
    "data_folder = r\"E:\\data\\dao-0310\\V4\\Turbulence\"\n",
    "dao_performance_file = data_folder + r\"\\dao_performance\"\n",
    "hierarchy_performance_file = data_folder + r\"\\hierarchy_performance\"\n",
    "autonomy_performance_file = data_folder + r\"\\autonomy_performance\"\n",
    "\n",
    "consensus_performance_file = data_folder + r\"\\dao_consensus_performance\"\n",
    "superior_performance_file = data_folder + r\"\\hierarchy_superior_performance\"\n",
    "\n",
    "dao_diversity_file = data_folder + r\"\\dao_diversity\"\n",
    "hierarchy_diversity_file = data_folder + r\"\\hierarchy_diversity\"\n",
    "autonomy_diversity_file = data_folder + r\"\\autonomy_diversity\"\n",
    "\n",
    "dao_variance_file = data_folder + r\"\\dao_variance\"\n",
    "hierarchy_variance_file = data_folder + r\"\\hierarchy_variance\"\n",
    "autonomy_variance_file = data_folder + r\"\\autonomy_variance\"\n",
    "\n",
    "dao_percentile_10_file = data_folder + r\"\\dao_percentile_10\"\n",
    "hierarchy_percentile_10_file = data_folder + r\"\\hierarchy_percentile_10\"\n",
    "autonomy_percentile_10_file = data_folder + r\"\\autonomy_percentile_10\"\n",
    "\n",
    "dao_percentile_90_file = data_folder + r\"\\dao_percentile_90\"\n",
    "hierarchy_percentile_90_file = data_folder + r\"\\hierarchy_percentile_90\"\n",
    "autonomy_percentile_90_file = data_folder + r\"\\autonomy_percentile_90\"\n",
    "\n",
    "dao_original_performance_file = data_folder + r\"\\dao_original_performance\"\n",
    "hierarchy_original_performance_file = data_folder + r\"\\hierarchy_original_performance\"\n",
    "autonomy_original_performance_file = data_folder + r\"\\autonomy_original_performance\"\n",
    "\n",
    "with open(dao_performance_file, 'rb') as infile:\n",
    "    dao_performance = pickle.load(infile)\n",
    "with open(hierarchy_performance_file, 'rb') as infile:\n",
    "    hierarchy_performance = pickle.load(infile)\n",
    "with open(autonomy_performance_file, 'rb') as infile:\n",
    "    autonomy_performance = pickle.load(infile)\n",
    "\n",
    "with open(dao_diversity_file, 'rb') as infile:\n",
    "    dao_diversity = pickle.load(infile)\n",
    "with open(hierarchy_diversity_file, 'rb') as infile:\n",
    "    hierarchy_diversity = pickle.load(infile)\n",
    "with open(autonomy_diversity_file, 'rb') as infile:\n",
    "    autonomy_diversity = pickle.load(infile)\n",
    "\n",
    "# with open(dao_variance_file, 'rb') as infile:\n",
    "#     dao_variance = pickle.load(infile)\n",
    "# with open(hierarchy_variance_file, 'rb') as infile:\n",
    "#     hierarchy_variance = pickle.load(infile)\n",
    "# with open(autonomy_variance_file, 'rb') as infile:\n",
    "#     autonomy_variance = pickle.load(infile)\n",
    "#\n",
    "# with open(dao_percentile_10_file, 'rb') as infile:\n",
    "#     dao_percentile_10 = pickle.load(infile)\n",
    "# with open(hierarchy_percentile_10_file, 'rb') as infile:\n",
    "#     hierarchy_percentile_10 = pickle.load(infile)\n",
    "# with open(autonomy_percentile_10_file, 'rb') as infile:\n",
    "#     autonomy_percentile_10 = pickle.load(infile)\n",
    "#\n",
    "# with open(dao_percentile_90_file, 'rb') as infile:\n",
    "#     dao_percentile_90 = pickle.load(infile)\n",
    "# with open(hierarchy_percentile_90_file, 'rb') as infile:\n",
    "#     hierarchy_percentile_90 = pickle.load(infile)\n",
    "# with open(autonomy_percentile_90_file, 'rb') as infile:\n",
    "#     autonomy_percentile_90 = pickle.load(infile)\n",
    "#\n",
    "with open(consensus_performance_file, 'rb') as infile:\n",
    "    consensus_performance = pickle.load(infile)\n",
    "with open(superior_performance_file, 'rb') as infile:\n",
    "    superior_performance = pickle.load(infile)\n",
    "\n",
    "with open(dao_original_performance_file, 'rb') as infile:\n",
    "    dao_original_performance = pickle.load(infile)\n",
    "with open(hierarchy_original_performance_file, 'rb') as infile:\n",
    "    hierarchy_original_performance = pickle.load(infile)\n",
    "with open(autonomy_original_performance_file, 'rb') as infile:\n",
    "    autonomy_original_performance = pickle.load(infile)"
   ],
   "metadata": {
    "collapsed": false
   }
  },
  {
   "cell_type": "code",
   "execution_count": null,
   "outputs": [],
   "source": [
    "legend_properties = {'weight':'bold'}\n",
    "x = range(len(dao_performance))\n",
    "plt.plot(x, dao_performance, \"k-\", label=\"DAO\")\n",
    "plt.plot(x, hierarchy_performance, \"k--\", label=\"Hierarchy\")\n",
    "plt.plot(x, autonomy_performance, \"k:\", label=\"Autonomy\")\n",
    "plt.xlabel('Time', fontweight='bold', fontsize=12)\n",
    "plt.ylabel('Performance', fontweight='bold', fontsize=12)\n",
    "# plt.xticks(x)\n",
    "plt.legend(frameon=False, ncol=1, fontsize=12, prop=legend_properties)\n",
    "plt.savefig(data_folder + r\"\\Turbulence_performance.png\", transparent=True, dpi=200, bbox_inches='tight')\n",
    "plt.show()\n",
    "plt.clf()"
   ],
   "metadata": {
    "collapsed": false
   }
  },
  {
   "cell_type": "code",
   "execution_count": null,
   "outputs": [],
   "source": [
    "print(len(dao_original_performance[0]))\n",
    "print(dao_original_performance[0][-1])\n",
    "print(dao_original_performance[1][-1])\n",
    "print(dao_original_performance[5][-1])\n",
    "print(dao_original_performance[10][-1])"
   ],
   "metadata": {
    "collapsed": false
   }
  },
  {
   "cell_type": "code",
   "execution_count": null,
   "outputs": [],
   "source": [
    "# Diversity\n",
    "legend_properties = {'weight':'bold'}\n",
    "\n",
    "x = range(len(dao_performance))\n",
    "plt.plot(range(len(dao_diversity)), dao_diversity, \"k-\", label=\"DAO\")\n",
    "plt.plot(range(len(hierarchy_diversity)), hierarchy_diversity, \"k--\", label=\"Hierarchy\")\n",
    "plt.plot(range(len(autonomy_diversity)), autonomy_diversity, \"k:\", label=\"Autonomy\")\n",
    "plt.xlabel('Time', fontweight='bold', fontsize=12)\n",
    "plt.ylabel('Diversity', fontweight='bold', fontsize=12)\n",
    "# plt.xticks(x)\n",
    "plt.legend(frameon=False, ncol=1, fontsize=12, prop=legend_properties)\n",
    "plt.savefig(data_folder + r\"\\Turbulence_diversity.png\", transparent=True, dpi=200, bbox_inches='tight')\n",
    "plt.show()\n",
    "plt.clf()"
   ],
   "metadata": {
    "collapsed": false
   }
  },
  {
   "cell_type": "code",
   "execution_count": null,
   "outputs": [],
   "source": [],
   "metadata": {
    "collapsed": false
   }
  }
 ],
 "metadata": {
  "kernelspec": {
   "display_name": "Python 3",
   "language": "python",
   "name": "python3"
  },
  "language_info": {
   "codemirror_mode": {
    "name": "ipython",
    "version": 2
   },
   "file_extension": ".py",
   "mimetype": "text/x-python",
   "name": "python",
   "nbconvert_exporter": "python",
   "pygments_lexer": "ipython2",
   "version": "2.7.6"
  }
 },
 "nbformat": 4,
 "nbformat_minor": 0
}

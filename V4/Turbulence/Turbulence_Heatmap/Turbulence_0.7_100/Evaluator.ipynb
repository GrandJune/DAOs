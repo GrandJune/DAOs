{
 "cells": [
  {
   "cell_type": "code",
   "metadata": {
    "collapsed": true,
    "ExecuteTime": {
     "end_time": "2025-08-19T12:58:08.558201Z",
     "start_time": "2025-08-19T12:58:08.090107Z"
    }
   },
   "source": [
    "import matplotlib.pyplot as plt\n",
    "import pickle\n",
    "import numpy as np\n",
    "import math\n",
    "legend_properties = {'weight':'bold'}"
   ],
   "outputs": [],
   "execution_count": 1
  },
  {
   "cell_type": "code",
   "source": [
    "data_folder = r\"E:\\data\\dao-0310-23\\V4_4\\Turbulence_Rerun\\Turbulence_0.7_100\"\n",
    "dao_performance_file = data_folder + r\"\\dao_performance_across_turbulence_time\"\n",
    "hierarchy_performance_file = data_folder + r\"\\hierarchy_performance_across_turbulence_time\"\n",
    "autonomy_performance_file = data_folder + r\"\\autonomy_performance_across_turbulence_time\"\n",
    "\n",
    "dao_diversity_file = data_folder + r\"\\dao_diversity_across_turbulence_time\"\n",
    "hierarchy_diversity_file = data_folder + r\"\\hierarchy_diversity_across_turbulence_time\"\n",
    "autonomy_diversity_file = data_folder + r\"\\autonomy_diversity_across_turbulence_time\"\n",
    "\n",
    "dao_variance_file = data_folder + r\"\\dao_variance_across_turbulence_time\"\n",
    "hierarchy_variance_file = data_folder + r\"\\hierarchy_variance_across_turbulence_time\"\n",
    "autonomy_variance_file = data_folder + r\"\\autonomy_variance_across_turbulence_time\"\n",
    "\n",
    "with open(dao_performance_file, 'rb') as infile:\n",
    "    dao_performance = pickle.load(infile)\n",
    "with open(hierarchy_performance_file, 'rb') as infile:\n",
    "    hierarchy_performance = pickle.load(infile)\n",
    "with open(autonomy_performance_file, 'rb') as infile:\n",
    "    autonomy_performance = pickle.load(infile)\n",
    "\n",
    "with open(dao_diversity_file, 'rb') as infile:\n",
    "    dao_diversity = pickle.load(infile)\n",
    "with open(hierarchy_diversity_file, 'rb') as infile:\n",
    "    hierarchy_diversity = pickle.load(infile)\n",
    "with open(autonomy_diversity_file, 'rb') as infile:\n",
    "    autonomy_diversity = pickle.load(infile)\n",
    "\n",
    "with open(dao_variance_file, 'rb') as infile:\n",
    "    dao_variance = pickle.load(infile)\n",
    "with open(hierarchy_variance_file, 'rb') as infile:\n",
    "    hierarchy_variance = pickle.load(infile)\n",
    "with open(autonomy_variance_file, 'rb') as infile:\n",
    "    autonomy_variance = pickle.load(infile)"
   ],
   "metadata": {
    "collapsed": false,
    "ExecuteTime": {
     "end_time": "2025-08-19T12:58:10.306705Z",
     "start_time": "2025-08-19T12:58:10.292705Z"
    }
   },
   "outputs": [],
   "execution_count": 2
  },
  {
   "cell_type": "code",
   "source": [
    "# Define more colors\n",
    "# NUS two colors\n",
    "nus_blue = \"#003D7C\"\n",
    "nus_orange = \"#EF7C00\"\n",
    "# Nature three colors\n",
    "nature_orange = \"#F16C23\"\n",
    "nature_blue = \"#2B6A99\"\n",
    "nature_green = \"#1B7C3D\"\n",
    "# Morandi six colors\n",
    "morandi_blue = \"#046586\"\n",
    "morandi_green =  \"#28A9A1\"\n",
    "morandi_yellow = \"#C9A77C\"\n",
    "morandi_orange = \"#F4A016\"\n",
    "morandi_pink = \"#F6BBC6\"\n",
    "morandi_red = \"#E71F19\"\n",
    "morandi_purple = \"#B08BEB\"\n",
    "# Others\n",
    "shallow_grey = \"#D3D4D3\"\n",
    "deep_grey = \"#A6ABB6\""
   ],
   "metadata": {
    "collapsed": false,
    "ExecuteTime": {
     "end_time": "2025-08-19T12:58:12.949258Z",
     "start_time": "2025-08-19T12:58:12.930259Z"
    }
   },
   "outputs": [],
   "execution_count": 3
  },
  {
   "metadata": {
    "ExecuteTime": {
     "end_time": "2025-08-19T12:58:21.522351Z",
     "start_time": "2025-08-19T12:58:21.133352Z"
    }
   },
   "cell_type": "code",
   "source": [
    "# Performance\n",
    "x = range(len(dao_performance))\n",
    "fig, ax = plt.subplots()\n",
    "ax.spines[\"left\"].set_linewidth(1.5)\n",
    "ax.spines[\"right\"].set_linewidth(1.5)\n",
    "ax.spines[\"top\"].set_linewidth(1.5)\n",
    "ax.spines[\"bottom\"].set_linewidth(1.5)\n",
    "\n",
    "plt.plot(range(len(dao_diversity)), dao_performance, \"k-\", label=\"DAO\")\n",
    "plt.plot(range(len(hierarchy_diversity)), hierarchy_performance, \"k--\", label=\"Hierarchy\")\n",
    "plt.plot(range(len(autonomy_diversity)), autonomy_performance, \"k:\", label=\"Autonomy\")\n",
    "plt.xlabel('Time', fontweight='bold', fontsize=12)\n",
    "plt.ylabel('Diversity', fontweight='bold', fontsize=12)\n",
    "# plt.xticks(x)\n",
    "plt.legend(frameon=False, ncol=1, fontsize=12, prop=legend_properties)\n",
    "plt.savefig(data_folder + r\"\\DHA_performance_0.7_100.png\", transparent=True, dpi=300)\n",
    "plt.show()\n",
    "plt.clf()"
   ],
   "outputs": [
    {
     "data": {
      "text/plain": [
       "<Figure size 432x288 with 1 Axes>"
      ],
      "image/png": "[encoded data removed]"
     },
     "metadata": {
      "needs_background": "light"
     },
     "output_type": "display_data"
    },
    {
     "data": {
      "text/plain": [
       "<Figure size 432x288 with 0 Axes>"
      ]
     },
     "metadata": {},
     "output_type": "display_data"
    }
   ],
   "execution_count": 4
  },
  {
   "cell_type": "code",
   "source": [
    "# turbulence_freq_list = [60, 80, 100]\n",
    "# for curve_index in range(len(turbulence_freq_list)):\n",
    "#     period = turbulence_freq_list[curve_index]\n",
    "#     x = range(len(dao_original_performance[curve_index]))\n",
    "#     # plt.plot(x, dao_original_performance[curve_index], \"k-\", color=nature_orange, label=\"DAO\")\n",
    "#     # plt.plot(x, hierarchy_original_performance[curve_index], \"k-\", color=nature_green, label=\"Hierarchy\")\n",
    "#     # plt.plot(x, autonomy_original_performance[curve_index], \"k-\", color=nature_blue, label=\"Autonomy\")\n",
    "#     # selected grey background\n",
    "#     periods = np.arange(period-2, 1000, period)\n",
    "#     fig, ax = plt.subplots()\n",
    "#     ax.spines[\"left\"].set_linewidth(1.5)\n",
    "#     ax.spines[\"right\"].set_linewidth(1.5)\n",
    "#     ax.spines[\"top\"].set_linewidth(1.5)\n",
    "#     ax.spines[\"bottom\"].set_linewidth(1.5)\n",
    "#     grey_dao_performance = [each for index, each in enumerate(dao_original_performance[curve_index]) if index in periods]\n",
    "#     grey_hierarchy_performance = [each for index, each in enumerate(hierarchy_original_performance[curve_index]) if index in periods]\n",
    "#     grey_autonomy_performance = [each for index, each in enumerate(autonomy_original_performance[curve_index]) if index in periods]\n",
    "#     # print(grey_autonomy_performance)\n",
    "#     # Define the number of markers you want (e.g., 5)\n",
    "#     num_markers = 12\n",
    "#     # Calculate indices for marker positions\n",
    "#     marker_positions = np.linspace(0, len(periods) - 1, num=num_markers, dtype=int)\n",
    "#     plt.plot(periods, grey_dao_performance, '-s', color=nature_orange, label=\"DAO\", markevery=marker_positions)\n",
    "#     plt.plot(periods, grey_hierarchy_performance, '-v', color=nature_green, label=\"Hierarchy\", markevery=marker_positions)\n",
    "#     plt.plot(periods, grey_autonomy_performance, '-o', color=nature_blue, label=\"Autonomy\", markevery=marker_positions)\n",
    "#\n",
    "#     plt.xlabel('Time', fontweight='bold', fontsize=12)\n",
    "#     plt.ylabel('Performance', fontweight='bold', fontsize=12)\n",
    "#     # plt.xticks(x)\n",
    "#\n",
    "#     # Plot the intersections\n",
    "#     # Find the intersection points between the two lines\n",
    "#     line1_x = periods\n",
    "#     line2_x = periods\n",
    "#     line1_y = grey_dao_performance\n",
    "#     line2_y = grey_hierarchy_performance\n",
    "#     end_flag = False\n",
    "#     for i in range(len(line1_x) - 1):\n",
    "#         if end_flag:\n",
    "#             break\n",
    "#         for j in range(len(line2_x) - 1):\n",
    "#             x1 = line1_x[i]\n",
    "#             y1 = line1_y[i]\n",
    "#             x2 = line1_x[i+1]\n",
    "#             y2 = line1_y[i+1]\n",
    "#             x3 = line2_x[j]\n",
    "#             y3 = line2_y[j]\n",
    "#             x4 = line2_x[j+1]\n",
    "#             y4 = line2_y[j+1]\n",
    "#\n",
    "#             # Calculate the slope and y-intercept of each line segment\n",
    "#             m1 = (y2 - y1) / (x2 - x1)\n",
    "#             b1 = y1 - m1 * x1\n",
    "#             m2 = (y4 - y3) / (x4 - x3)\n",
    "#             b2 = y3 - m2 * x3\n",
    "#\n",
    "#             # Calculate the intersection point of the two line segments\n",
    "#             if m1 != m2:\n",
    "#                 x_int = (b2 - b1) / (m1 - m2)\n",
    "#                 y_int = m1 * x_int + b1\n",
    "#\n",
    "#                 # Check if the intersection point lies within the x-range and y-range of both line segments\n",
    "#                 if (min(x1,x2) <= x_int <= max(x1,x2) and\n",
    "#                     min(y1,y2) <= y_int <= max(y1,y2) and\n",
    "#                     min(x3,x4) <= x_int <= max(x3,x4) and\n",
    "#                     min(y3,y4) <= y_int <= max(y3,y4)):\n",
    "#\n",
    "#                     # Plot the intersection point\n",
    "#                     plt.plot(x_int, y_int, 'ro')\n",
    "#                     # Add a note to the point\n",
    "#                     arrow = plt.annotate('({0}, {1})'.format(math.ceil(x_int), '%.2f'%y_int), xy=(x_int, y_int), xytext=(x_int+1, y_int+0.05), arrowprops=dict(arrowstyle=\"->\", facecolor='black'), weight=\"bold\")\n",
    "#                     end_flag =True\n",
    "#                     break # only plot the first one\n",
    "#     plt.title(\"Turbulence Period = {0}\".format(turbulence_freq_list[curve_index]))\n",
    "#     plt.legend(frameon=False, ncol=1, fontsize=12, prop=legend_properties)\n",
    "#     plt.savefig(data_folder + r\"\\F{0}_Turbulence_performance.png\".format(turbulence_freq_list[curve_index]),\n",
    "#                 transparent=True, dpi=300, bbox_inches='tight')\n",
    "#     plt.show()\n",
    "#     # plt.clf()"
   ],
   "metadata": {
    "collapsed": false,
    "ExecuteTime": {
     "end_time": "2025-08-19T12:52:51.834745Z",
     "start_time": "2025-08-19T12:52:51.817708Z"
    }
   },
   "outputs": [],
   "execution_count": 20
  },
  {
   "cell_type": "code",
   "source": "",
   "metadata": {
    "collapsed": false,
    "ExecuteTime": {
     "end_time": "2025-08-19T12:52:54.156617Z",
     "start_time": "2025-08-19T12:52:54.149629Z"
    }
   },
   "outputs": [],
   "execution_count": null
  },
  {
   "cell_type": "code",
   "execution_count": 16,
   "outputs": [],
   "source": [],
   "metadata": {
    "collapsed": false
   }
  }
 ],
 "metadata": {
  "kernelspec": {
   "display_name": "Python 3",
   "language": "python",
   "name": "python3"
  },
  "language_info": {
   "codemirror_mode": {
    "name": "ipython",
    "version": 2
   },
   "file_extension": ".py",
   "mimetype": "text/x-python",
   "name": "python",
   "nbconvert_exporter": "python",
   "pygments_lexer": "ipython2",
   "version": "2.7.6"
  }
 },
 "nbformat": 4,
 "nbformat_minor": 0
}

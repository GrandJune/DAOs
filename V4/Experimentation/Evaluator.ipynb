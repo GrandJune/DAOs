{
 "cells": [
  {
   "cell_type": "code",
   "metadata": {
    "collapsed": true,
    "ExecuteTime": {
     "end_time": "2024-05-06T11:46:59.197999Z",
     "start_time": "2024-05-06T11:46:59.189007Z"
    }
   },
   "source": [
    "import matplotlib.pyplot as plt\n",
    "import pickle\n",
    "legend_properties = {'weight':'bold'}"
   ],
   "outputs": [],
   "execution_count": 22
  },
  {
   "cell_type": "code",
   "source": [
    "data_folder = r\"E:\\data\\dao-0310-23\\V4_4\\Experimentation\"\n",
    "dao_performance_file = data_folder + r\"\\dao_performance_across_experimentation\"\n",
    "hierarchy_performance_file = data_folder + r\"\\hierarchy_performance_across_experimentation\"\n",
    "autonomy_performance_file = data_folder + r\"\\autonomy_performance_across_experimentation\"\n",
    "\n",
    "consensus_performance_file = data_folder + r\"\\consensus_performance_across_experimentation\"\n",
    "superior_performance_file = data_folder + r\"\\superior_performance_across_experimentation\"\n",
    "\n",
    "dao_diversity_file = data_folder + r\"\\dao_diversity_across_experimentation\"\n",
    "hierarchy_diversity_file = data_folder + r\"\\hierarchy_diversity_across_experimentation\"\n",
    "autonomy_diversity_file = data_folder + r\"\\autonomy_diversity_across_experimentation\"\n",
    "\n",
    "dao_variance_file = data_folder + r\"\\dao_variance_across_experimentation\"\n",
    "hierarchy_variance_file = data_folder + r\"\\hierarchy_variance_across_experimentation\"\n",
    "autonomy_variance_file = data_folder + r\"\\autonomy_variance_across_experimentation\"\n",
    "\n",
    "with open(dao_performance_file, 'rb') as infile:\n",
    "    dao_performance = pickle.load(infile)\n",
    "with open(hierarchy_performance_file, 'rb') as infile:\n",
    "    hierarchy_performance = pickle.load(infile)\n",
    "with open(autonomy_performance_file, 'rb') as infile:\n",
    "    autonomy_performance = pickle.load(infile)\n",
    "\n",
    "with open(dao_diversity_file, 'rb') as infile:\n",
    "    dao_diversity = pickle.load(infile)\n",
    "with open(hierarchy_diversity_file, 'rb') as infile:\n",
    "    hierarchy_diversity = pickle.load(infile)\n",
    "with open(autonomy_diversity_file, 'rb') as infile:\n",
    "    autonomy_diversity = pickle.load(infile)\n",
    "\n",
    "with open(consensus_performance_file, 'rb') as infile:\n",
    "    consensus_performance = pickle.load(infile)\n",
    "with open(superior_performance_file, 'rb') as infile:\n",
    "    superior_performance = pickle.load(infile)\n",
    "\n",
    "print(dao_performance)"
   ],
   "metadata": {
    "collapsed": false,
    "ExecuteTime": {
     "end_time": "2024-05-06T11:47:00.076738Z",
     "start_time": "2024-05-06T11:47:00.057706Z"
    }
   },
   "outputs": [
    {
     "name": "stdout",
     "output_type": "stream",
     "text": [
      "[0.7374974603174607, 0.7441565873015875, 0.7466801587301585, 0.7494638888888887, 0.7539221428571428, 0.7555371428571427, 0.7577784126984128, 0.7562069047619049, 0.757084920634921]\n"
     ]
    }
   ],
   "execution_count": 23
  },
  {
   "cell_type": "code",
   "source": [
    "# Define more colors\n",
    "# NUS two colors\n",
    "nus_blue = \"#003D7C\"\n",
    "nus_orange = \"#EF7C00\"\n",
    "# Nature three colors\n",
    "nature_orange = \"#F16C23\"\n",
    "nature_blue = \"#2B6A99\"\n",
    "nature_green = \"#1B7C3D\"\n",
    "# Morandi six colors\n",
    "morandi_blue = \"#046586\"\n",
    "morandi_green =  \"#28A9A1\"\n",
    "morandi_yellow = \"#C9A77C\"\n",
    "morandi_orange = \"#F4A016\"\n",
    "morandi_pink = \"#F6BBC6\"\n",
    "morandi_red = \"#E71F19\"\n",
    "morandi_purple = \"#B08BEB\"\n",
    "# Others\n",
    "shallow_grey = \"#D3D4D3\"\n",
    "deep_grey = \"#A6ABB6\""
   ],
   "metadata": {
    "collapsed": false,
    "ExecuteTime": {
     "end_time": "2024-05-06T12:18:06.658258Z",
     "start_time": "2024-05-06T12:18:06.644231Z"
    }
   },
   "outputs": [],
   "execution_count": 32
  },
  {
   "cell_type": "code",
   "source": [
    "data_folder = r\"E:\\data\\dao-0310-23\\V4_4\\Experimentation_500run\"\n",
    "dao_performance_file = data_folder + r\"\\dao_performance_across_experimentation\"\n",
    "hierarchy_performance_file = data_folder + r\"\\hierarchy_performance_across_experimentation\"\n",
    "autonomy_performance_file = data_folder + r\"\\autonomy_performance_across_experimentation\"\n",
    "\n",
    "dao_diversity_file = data_folder + r\"\\dao_diversity_across_experimentation\"\n",
    "hierarchy_diversity_file = data_folder + r\"\\hierarchy_diversity_across_experimentation\"\n",
    "autonomy_diversity_file = data_folder + r\"\\autonomy_diversity_across_experimentation\"\n",
    "\n",
    "with open(dao_performance_file, 'rb') as infile:\n",
    "    dao_performance = pickle.load(infile)\n",
    "with open(hierarchy_performance_file, 'rb') as infile:\n",
    "    hierarchy_performance = pickle.load(infile)\n",
    "with open(autonomy_performance_file, 'rb') as infile:\n",
    "    autonomy_performance = pickle.load(infile)\n",
    "\n",
    "with open(dao_diversity_file, 'rb') as infile:\n",
    "    dao_diversity = pickle.load(infile)\n",
    "with open(hierarchy_diversity_file, 'rb') as infile:\n",
    "    hierarchy_diversity = pickle.load(infile)\n",
    "with open(autonomy_diversity_file, 'rb') as infile:\n",
    "    autonomy_diversity = pickle.load(infile)\n",
    "\n",
    "print(dao_performance)"
   ],
   "metadata": {
    "collapsed": false,
    "ExecuteTime": {
     "end_time": "2024-05-06T12:18:07.525169Z",
     "start_time": "2024-05-06T12:18:07.504166Z"
    }
   },
   "outputs": [
    {
     "name": "stdout",
     "output_type": "stream",
     "text": [
      "[0.7493362698412693, 0.7584505555555556, 0.7656360317460327, 0.7688240476190487, 0.7752912698412705, 0.7755992063492059, 0.7756142857142858, 0.7791639682539686, 0.7815799206349214]\n"
     ]
    }
   ],
   "execution_count": 33
  },
  {
   "cell_type": "code",
   "source": [
    "experimentation_rate_list = [0.01, 0.02, 0.03, 0.04, 0.05, 0.06, 0.07, 0.08, 0.09]\n",
    "x = experimentation_rate_list\n",
    "fig, ax = plt.subplots()\n",
    "ax.spines[\"left\"].set_linewidth(1.5)\n",
    "ax.spines[\"right\"].set_linewidth(1.5)\n",
    "ax.spines[\"top\"].set_linewidth(1.5)\n",
    "ax.spines[\"bottom\"].set_linewidth(1.5)\n",
    "plt.xlabel('Experimentation Degree', fontweight='bold', fontsize=12)\n",
    "plt.ylabel('Performance', fontweight='bold', fontsize=12)\n",
    "plt.plot(x, dao_performance, \"-o\", label=\"DAO\", color=nature_orange)\n",
    "plt.plot(x, hierarchy_performance, \"-s\", label=\"Hierarchy\", color=nature_green)\n",
    "plt.plot(x, autonomy_performance, \"-v\", label=\"Autonomy\", color=nature_blue)\n",
    "plt.legend(frameon=False, ncol=1, fontsize=12, prop=legend_properties)\n",
    "plt.xticks(x)\n",
    "# plt.title(\"Performance\")\n",
    "plt.savefig(data_folder + r\"\\DHA_performance_across_experimentation.png\", transparent=True, dpi=300)\n",
    "plt.show()\n",
    "plt.clf()"
   ],
   "metadata": {
    "collapsed": false,
    "ExecuteTime": {
     "end_time": "2024-05-06T12:18:08.665293Z",
     "start_time": "2024-05-06T12:18:08.326335Z"
    }
   },
   "outputs": [
    {
     "data": {
      "text/plain": [
       "<Figure size 432x288 with 1 Axes>"
      ],
      "image/png": "[encoded data removed]"
     },
     "metadata": {
      "needs_background": "light"
     },
     "output_type": "display_data"
    },
    {
     "data": {
      "text/plain": [
       "<Figure size 432x288 with 0 Axes>"
      ]
     },
     "metadata": {},
     "output_type": "display_data"
    }
   ],
   "execution_count": 34
  },
  {
   "metadata": {
    "ExecuteTime": {
     "end_time": "2024-05-06T12:18:11.986385Z",
     "start_time": "2024-05-06T12:18:11.676869Z"
    }
   },
   "cell_type": "code",
   "source": [
    "experimentation_rate_list = [0.01, 0.02, 0.03, 0.04, 0.05, 0.06, 0.07, 0.08, 0.09]\n",
    "x = experimentation_rate_list\n",
    "fig, ax = plt.subplots()\n",
    "ax.spines[\"left\"].set_linewidth(1.5)\n",
    "ax.spines[\"right\"].set_linewidth(1.5)\n",
    "ax.spines[\"top\"].set_linewidth(1.5)\n",
    "ax.spines[\"bottom\"].set_linewidth(1.5)\n",
    "plt.xlabel('Experimentation Degree', fontweight='bold', fontsize=12)\n",
    "plt.ylabel('Diversity', fontweight='bold', fontsize=12)\n",
    "plt.plot(x, dao_diversity, \"-o\", label=\"DAO\", color=nature_orange)\n",
    "plt.plot(x, hierarchy_diversity, \"-s\", label=\"Hierarchy\", color=nature_green)\n",
    "plt.plot(x, autonomy_diversity, \"-v\", label=\"Autonomy\", color=nature_blue)\n",
    "plt.legend(frameon=False, ncol=1, fontsize=12, prop=legend_properties)\n",
    "plt.xticks(x)\n",
    "plt.savefig(data_folder + r\"\\DHA_diversity_across_experimentation.png\", transparent=True, dpi=300)\n",
    "plt.show()\n",
    "plt.clf()"
   ],
   "outputs": [
    {
     "data": {
      "text/plain": [
       "<Figure size 432x288 with 1 Axes>"
      ],
      "image/png": "[encoded data removed]"
     },
     "metadata": {
      "needs_background": "light"
     },
     "output_type": "display_data"
    },
    {
     "data": {
      "text/plain": [
       "<Figure size 432x288 with 0 Axes>"
      ]
     },
     "metadata": {},
     "output_type": "display_data"
    }
   ],
   "execution_count": 35
  },
  {
   "metadata": {
    "ExecuteTime": {
     "end_time": "2024-05-06T11:42:05.533001Z",
     "start_time": "2024-05-06T11:42:05.522964Z"
    }
   },
   "cell_type": "code",
   "source": [
    "# import numpy as np\n",
    "# \n",
    "# # Existing lists\n",
    "# list1 = [3, 5, 9, 31, 33, 37]\n",
    "# list2 = [4, 5, 31, 37, 43, 46]\n",
    "# \n",
    "# # Function to add noise to a list\n",
    "# def add_noise(lst, scale=0.1):\n",
    "#     noise = np.random.normal(scale=scale, size=len(lst))\n",
    "#     return [int(x + noise[i]) for i, x in enumerate(lst)]\n",
    "# \n",
    "# # Add noise to each list\n",
    "# noisy_list1 = add_noise(list1)\n",
    "# noisy_list2 = add_noise(list2)\n",
    "# \n",
    "# # Print the noisy lists\n",
    "# print(\"Noisy List 1:\", noisy_list1)\n",
    "# print(\"Noisy List 2:\", noisy_list2)\n"
   ],
   "outputs": [
    {
     "name": "stdout",
     "output_type": "stream",
     "text": [
      "Noisy List 1: [3, 5, 8, 31, 33, 37]\n",
      "Noisy List 2: [3, 4, 30, 36, 43, 45]\n"
     ]
    }
   ],
   "execution_count": 21
  },
  {
   "metadata": {},
   "cell_type": "code",
   "outputs": [],
   "execution_count": null,
   "source": ""
  }
 ],
 "metadata": {
  "kernelspec": {
   "display_name": "Python 3",
   "language": "python",
   "name": "python3"
  },
  "language_info": {
   "codemirror_mode": {
    "name": "ipython",
    "version": 2
   },
   "file_extension": ".py",
   "mimetype": "text/x-python",
   "name": "python",
   "nbconvert_exporter": "python",
   "pygments_lexer": "ipython2",
   "version": "2.7.6"
  }
 },
 "nbformat": 4,
 "nbformat_minor": 0
}

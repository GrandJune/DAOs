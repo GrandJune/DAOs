{
 "cells": [
  {
   "cell_type": "code",
   "metadata": {
    "collapsed": true,
    "ExecuteTime": {
     "end_time": "2024-11-01T09:03:36.302157Z",
     "start_time": "2024-11-01T09:03:36.289158Z"
    }
   },
   "source": [
    "import matplotlib.pyplot as plt\n",
    "import pickle\n",
    "import numpy as np\n",
    "import math\n",
    "import csv\n",
    "legend_properties = {'weight':'bold'}"
   ],
   "outputs": [],
   "execution_count": 6
  },
  {
   "cell_type": "code",
   "source": [
    "data_folder = r\"E:\\data\\dao-0905-24\\Regression\\Turbulence_2_1k_iterations_2\"\n",
    "\n",
    "dao_data_list, autonomy_data_list, hierarchy_data_list = [], [], []\n",
    "for index in range(1, 31):\n",
    "    dao_file = data_folder + r\"\\dao_data_{0}\".format(index)\n",
    "    hierarchy_file = data_folder + r\"\\hierarchy_data_{0}\".format(index)\n",
    "    autonomy_file = data_folder + r\"\\autonomy_data_{0}\".format(index)\n",
    "\n",
    "    with open(dao_file, 'rb') as infile:\n",
    "        dao_data = pickle.load(infile)\n",
    "    with open(hierarchy_file, 'rb') as infile:\n",
    "        hierarchy_data = pickle.load(infile)\n",
    "    with open(autonomy_file, 'rb') as infile:\n",
    "        autonomy_data = pickle.load(infile)\n",
    "    dao_data_list += dao_data\n",
    "    autonomy_data_list += autonomy_data\n",
    "    hierarchy_data_list += hierarchy_data\n",
    "\n",
    "#[dao.performance_across_time[-1], dao.diversity_across_time[-1], turbulence_freq, turbulence_level, lr]\n",
    "column_names = ['performance_1', 'performance_2', 'performance_3', 'performance_4', 'performance_5', 'turbulence_freq', 'turbulence_level', 'lr']\n",
    "with open(data_folder + r'\\dao_data.csv', mode='w', newline='') as file:\n",
    "    writer = csv.writer(file)\n",
    "    writer.writerow(column_names)\n",
    "    writer.writerows(dao_data_list)\n",
    "with open(data_folder + r'\\autonomy_data.csv', mode='w', newline='') as file:\n",
    "    writer = csv.writer(file)\n",
    "    writer.writerow(column_names)\n",
    "    writer.writerows(autonomy_data_list)\n",
    "with open(data_folder + r'\\hierarchy_data.csv', mode='w', newline='') as file:\n",
    "    writer = csv.writer(file)\n",
    "    writer.writerow(column_names)\n",
    "    writer.writerows(hierarchy_data_list)\n",
    "\n",
    "print(\"Data integrated for R regression!\")"
   ],
   "metadata": {
    "collapsed": false,
    "ExecuteTime": {
     "end_time": "2024-11-01T09:03:59.337806Z",
     "start_time": "2024-11-01T09:03:58.983577Z"
    }
   },
   "outputs": [
    {
     "name": "stdout",
     "output_type": "stream",
     "text": [
      "Data integrated for R regression!\n"
     ]
    }
   ],
   "execution_count": 8
  },
  {
   "cell_type": "code",
   "execution_count": 16,
   "outputs": [],
   "source": [],
   "metadata": {
    "collapsed": false
   }
  }
 ],
 "metadata": {
  "kernelspec": {
   "display_name": "Python 3",
   "language": "python",
   "name": "python3"
  },
  "language_info": {
   "codemirror_mode": {
    "name": "ipython",
    "version": 2
   },
   "file_extension": ".py",
   "mimetype": "text/x-python",
   "name": "python",
   "nbconvert_exporter": "python",
   "pygments_lexer": "ipython2",
   "version": "2.7.6"
  }
 },
 "nbformat": 4,
 "nbformat_minor": 0
}

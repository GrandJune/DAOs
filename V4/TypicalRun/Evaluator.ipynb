{
 "cells": [
  {
   "cell_type": "code",
   "execution_count": 1,
   "metadata": {
    "collapsed": true,
    "ExecuteTime": {
     "end_time": "2024-03-04T13:57:24.614683Z",
     "start_time": "2024-03-04T13:57:24.195394Z"
    }
   },
   "outputs": [],
   "source": [
    "import matplotlib.pyplot as plt\n",
    "import pickle\n",
    "import numpy as np\n",
    "import math\n",
    "legend_properties = {'weight':'bold'}"
   ]
  },
  {
   "cell_type": "code",
   "execution_count": 2,
   "outputs": [
    {
     "ename": "FileNotFoundError",
     "evalue": "[Errno 2] No such file or directory: 'E:\\\\data\\\\dao-0310\\\\V4_4\\\\TypicalRun\\\\dao_typical_run'",
     "output_type": "error",
     "traceback": [
      "\u001B[1;31m---------------------------------------------------------------------------\u001B[0m",
      "\u001B[1;31mFileNotFoundError\u001B[0m                         Traceback (most recent call last)",
      "\u001B[1;32m<ipython-input-2-8358c20029a6>\u001B[0m in \u001B[0;36m<module>\u001B[1;34m\u001B[0m\n\u001B[0;32m      5\u001B[0m \u001B[0mautonomy_performance_file\u001B[0m \u001B[1;33m=\u001B[0m \u001B[0mdata_folder\u001B[0m \u001B[1;33m+\u001B[0m \u001B[1;34mr\"\\autonomy_typical_run\"\u001B[0m\u001B[1;33m\u001B[0m\u001B[1;33m\u001B[0m\u001B[0m\n\u001B[0;32m      6\u001B[0m \u001B[1;33m\u001B[0m\u001B[0m\n\u001B[1;32m----> 7\u001B[1;33m \u001B[1;32mwith\u001B[0m \u001B[0mopen\u001B[0m\u001B[1;33m(\u001B[0m\u001B[0mdao_performance_file\u001B[0m\u001B[1;33m,\u001B[0m \u001B[1;34m'rb'\u001B[0m\u001B[1;33m)\u001B[0m \u001B[1;32mas\u001B[0m \u001B[0minfile\u001B[0m\u001B[1;33m:\u001B[0m\u001B[1;33m\u001B[0m\u001B[1;33m\u001B[0m\u001B[0m\n\u001B[0m\u001B[0;32m      8\u001B[0m     \u001B[0mdao_performance\u001B[0m \u001B[1;33m=\u001B[0m \u001B[0mpickle\u001B[0m\u001B[1;33m.\u001B[0m\u001B[0mload\u001B[0m\u001B[1;33m(\u001B[0m\u001B[0minfile\u001B[0m\u001B[1;33m)\u001B[0m\u001B[1;33m\u001B[0m\u001B[1;33m\u001B[0m\u001B[0m\n\u001B[0;32m      9\u001B[0m \u001B[1;32mwith\u001B[0m \u001B[0mopen\u001B[0m\u001B[1;33m(\u001B[0m\u001B[0mconsensus_performance_file\u001B[0m\u001B[1;33m,\u001B[0m \u001B[1;34m'rb'\u001B[0m\u001B[1;33m)\u001B[0m \u001B[1;32mas\u001B[0m \u001B[0minfile\u001B[0m\u001B[1;33m:\u001B[0m\u001B[1;33m\u001B[0m\u001B[1;33m\u001B[0m\u001B[0m\n",
      "\u001B[1;31mFileNotFoundError\u001B[0m: [Errno 2] No such file or directory: 'E:\\\\data\\\\dao-0310\\\\V4_4\\\\TypicalRun\\\\dao_typical_run'"
     ]
    }
   ],
   "source": [
    "data_folder = r\"E:\\data\\dao-0310\\V4_4\\TypicalRun\"\n",
    "dao_performance_file = data_folder + r\"\\dao_typical_run\"\n",
    "consensus_performance_file = data_folder + r\"\\dao_consensus_typical_run\"\n",
    "hierarchy_performance_file = data_folder + r\"\\hierarchy_typical_run\"\n",
    "autonomy_performance_file = data_folder + r\"\\autonomy_typical_run\"\n",
    "\n",
    "with open(dao_performance_file, 'rb') as infile:\n",
    "    dao_performance = pickle.load(infile)\n",
    "with open(consensus_performance_file, 'rb') as infile:\n",
    "    consensus_performance = pickle.load(infile)\n",
    "with open(hierarchy_performance_file, 'rb') as infile:\n",
    "    hierarchy_performance = pickle.load(infile)\n",
    "with open(autonomy_performance_file, 'rb') as infile:\n",
    "    autonomy_performance = pickle.load(infile)"
   ],
   "metadata": {
    "collapsed": false,
    "ExecuteTime": {
     "end_time": "2024-03-04T13:57:24.821398Z",
     "start_time": "2024-03-04T13:57:24.616396Z"
    }
   }
  },
  {
   "cell_type": "code",
   "execution_count": null,
   "outputs": [],
   "source": [
    "# Define more colors\n",
    "# NUS two colors\n",
    "nus_blue = \"#003D7C\"\n",
    "nus_orange = \"#EF7C00\"\n",
    "# Nature three colors\n",
    "nature_orange = \"#F16C23\"\n",
    "nature_blue = \"#2B6A99\"\n",
    "nature_green = \"#1B7C3D\"\n",
    "# Morandi six colors\n",
    "morandi_blue = \"#046586\"\n",
    "morandi_green =  \"#28A9A1\"\n",
    "morandi_yellow = \"#C9A77C\"\n",
    "morandi_orange = \"#F4A016\"\n",
    "morandi_pink = \"#F6BBC6\"\n",
    "morandi_red = \"#E71F19\"\n",
    "morandi_purple = \"#B08BEB\"\n",
    "# Others\n",
    "shallow_grey = \"#D3D4D3\"\n",
    "deep_grey = \"#A6ABB6\""
   ],
   "metadata": {
    "collapsed": false,
    "ExecuteTime": {
     "end_time": "2024-03-04T13:57:24.823397Z",
     "start_time": "2024-03-04T13:57:24.823397Z"
    }
   }
  },
  {
   "cell_type": "code",
   "execution_count": null,
   "outputs": [],
   "source": [
    "print(np.array(dao_performance).shape)"
   ],
   "metadata": {
    "collapsed": false,
    "ExecuteTime": {
     "start_time": "2024-03-04T13:57:24.824398Z"
    }
   }
  },
  {
   "cell_type": "code",
   "execution_count": null,
   "outputs": [],
   "source": [
    "import matplotlib.pyplot as plt\n",
    "import numpy as np\n",
    "from mpl_toolkits.mplot3d import Axes3D\n",
    "from scipy.interpolate import griddata\n",
    "for fig_index, index in enumerate(range(0, 10)):\n",
    "    # Generate some random data\n",
    "    data = np.array(dao_performance[index])  # 350\n",
    "    # Reshape the data into a 10x10 grid\n",
    "    reshape_x = 35\n",
    "    reshape_y = 35\n",
    "    data = data.reshape((reshape_x, reshape_y))\n",
    "    # Create a denser grid for interpolation\n",
    "    xi = np.linspace(0, 9, data.shape[0])\n",
    "    yi = np.linspace(0, 9, data.shape[0])\n",
    "    xi, yi = np.meshgrid(xi, yi)\n",
    "\n",
    "    # Interpolate the data onto the denser grid\n",
    "    zi = griddata((np.arange(reshape_x).repeat(reshape_y), np.tile(np.arange(reshape_x), reshape_y)), data.flatten(), (xi, yi), method='cubic')\n",
    "    # Set up the figure and axes\n",
    "    fig = plt.figure()\n",
    "    ax = fig.add_subplot(111, projection='3d')\n",
    "\n",
    "    # Plot the 3D surface\n",
    "    ax.plot_surface(xi, yi, zi, cmap='viridis')\n",
    "\n",
    "    # Set the axis labels\n",
    "    ax.set_zlabel('Performance')\n",
    "    ax.set_xticks([])\n",
    "    ax.set_yticks([])\n",
    "\n",
    "    # Set the z-axis limits\n",
    "    ax.set_zlim(0.1, 0.8)\n",
    "\n",
    "    # Show the plot\n",
    "    plt.grid(visible=False)\n",
    "    plt.savefig(data_folder + r\"\\Typical_run_T{0}.png\".format(index), transparent=True, dpi=1000, bbox_inches='tight')\n",
    "    # plt.show()\n",
    "    plt.close()  # not showing the figure in line\n"
   ],
   "metadata": {
    "collapsed": false,
    "ExecuteTime": {
     "start_time": "2024-03-04T13:57:24.825396Z"
    }
   }
  },
  {
   "cell_type": "code",
   "execution_count": null,
   "outputs": [],
   "source": [
    "# Test the formation timing of consensus\n",
    "x = range(25)\n",
    "fig, ax = plt.subplots()\n",
    "ax.spines[\"left\"].set_linewidth(1.5)\n",
    "ax.spines[\"right\"].set_linewidth(1.5)\n",
    "ax.spines[\"top\"].set_linewidth(1.5)\n",
    "ax.spines[\"bottom\"].set_linewidth(1.5)\n",
    "plt.plot(x, consensus_performance[0:25], \"k-\", label=\"Consensus\")\n",
    "plt.xlabel('Time', fontweight='bold', fontsize=12)\n",
    "plt.ylabel('Performance', fontweight='bold', fontsize=12)\n",
    "plt.xticks(x)\n",
    "plt.legend(frameon=False, ncol=1, fontsize=12)\n",
    "plt.savefig(data_folder + r\"\\Consensus_typical_run.png\", transparent=True, dpi=300)\n",
    "plt.show()\n",
    "plt.clf()"
   ],
   "metadata": {
    "collapsed": false
   }
  },
  {
   "cell_type": "code",
   "execution_count": null,
   "outputs": [],
   "source": [
    "# Select figures and calculate the ruggedness\n",
    "import numpy as np\n",
    "from scipy.signal import convolve2d\n",
    "from scipy.interpolate import griddata\n",
    "import matplotlib.pyplot as plt\n",
    "# Generate some random data\n",
    "for index in range(0, 51):\n",
    "    data = np.array(dao_performance[index])  # 350\n",
    "    # Reshape the data into a 10x10 grid\n",
    "    reshape_x = 35\n",
    "    reshape_y = 35\n",
    "    data = data.reshape((reshape_x, reshape_y))\n",
    "    # Create a denser grid for interpolation\n",
    "    xi = np.linspace(0, 9, data.shape[0])\n",
    "    yi = np.linspace(0, 9, data.shape[0])\n",
    "    xi, yi = np.meshgrid(xi, yi)\n",
    "\n",
    "    # Interpolate the data onto the denser grid\n",
    "    zi = griddata((np.arange(reshape_x).repeat(reshape_y), np.tile(np.arange(reshape_x), reshape_y)), data.flatten(), (xi, yi), method='cubic')\n",
    "    # print(zi.shape)  # zi is the original data\n",
    "    # Set up the figure and axes\n",
    "    fig = plt.figure()\n",
    "    ax = fig.add_subplot(111, projection='3d')\n",
    "\n",
    "    # Plot the 3D surface\n",
    "    ax.plot_surface(xi, yi, zi, cmap='viridis')\n",
    "\n",
    "    # calculate the ruggedness of the interpolated surface\n",
    "    laplacian = np.array([[0, 1, 0], [1, -4, 1], [0, 1, 0]])\n",
    "    ruggedness = np.abs(convolve2d(zi, laplacian, mode='valid')).sum()\n",
    "    # add the ruggedness value to the figure\n",
    "    ax.text2D(0.25, 0.2, f\"Ruggedness: {ruggedness:.2f}\", transform=ax.transAxes)\n",
    "\n",
    "    # Set the axis labels\n",
    "    ax.set_zlabel('Performance')\n",
    "    ax.set_xticks([])\n",
    "    ax.set_yticks([])\n",
    "\n",
    "    # Set the z-axis limits\n",
    "    ax.set_zlim(0.1, 0.8)\n",
    "\n",
    "    # Show the plot\n",
    "    plt.grid(visible=False)\n",
    "    plt.savefig(data_folder + r\"\\Ruggedness_T{0}.png\".format(index), transparent=True, dpi=300, bbox_inches='tight')\n",
    "    # plt.show()\n",
    "    plt.close()  # not showing the figure in line\n"
   ],
   "metadata": {
    "collapsed": false,
    "ExecuteTime": {
     "start_time": "2024-03-04T13:57:24.826397Z"
    }
   }
  },
  {
   "cell_type": "code",
   "execution_count": null,
   "outputs": [],
   "source": [
    "# Select figures and calculate the ruggedness\n",
    "import numpy as np\n",
    "from scipy.signal import convolve2d\n",
    "from scipy.interpolate import griddata\n",
    "import matplotlib.pyplot as plt\n",
    "# Generate some random data\n",
    "# 9: at consensus, 27: 10 steps after consensus; t=50\n",
    "for index in [9, 27, 50, 300]:\n",
    "    data = np.array(dao_performance[index])  # 350\n",
    "    # Reshape the data into a 10x10 grid\n",
    "    reshape_x = 35\n",
    "    reshape_y = 35\n",
    "    data = data.reshape((reshape_x, reshape_y))\n",
    "    # Create a denser grid for interpolation\n",
    "    xi = np.linspace(0, 9, data.shape[0])\n",
    "    yi = np.linspace(0, 9, data.shape[0])\n",
    "    xi, yi = np.meshgrid(xi, yi)\n",
    "\n",
    "    # Interpolate the data onto the denser grid\n",
    "    zi = griddata((np.arange(reshape_x).repeat(reshape_y), np.tile(np.arange(reshape_x), reshape_y)), data.flatten(), (xi, yi), method='cubic')\n",
    "    # print(zi.shape)  # zi is the original data\n",
    "    # Set up the figure and axes\n",
    "    fig = plt.figure()\n",
    "    ax = fig.add_subplot(111, projection='3d')\n",
    "\n",
    "    # Plot the 3D surface\n",
    "    ax.plot_surface(xi, yi, zi, cmap='viridis')\n",
    "\n",
    "    # calculate the ruggedness of the interpolated surface\n",
    "    laplacian = np.array([[0, 1, 0], [1, -4, 1], [0, 1, 0]])\n",
    "    ruggedness = np.abs(convolve2d(zi, laplacian, mode='valid')).sum()\n",
    "    # add the ruggedness value to the figure\n",
    "    ax.text2D(0.20, 0.2, f\"Ruggedness: {ruggedness:.2f}\", transform=ax.transAxes, fontweight='bold')\n",
    "    if index <=9:\n",
    "        ax.text2D(0.20, 0.3, \"Just before consensus, t={0}\".format(index), transform=ax.transAxes, fontweight='bold')\n",
    "    elif (index >= 17) and (index <= 30):\n",
    "        ax.text2D(0.20, 0.3, \"Just after consensus, t={0}\".format(index), transform=ax.transAxes, fontweight='bold')\n",
    "    elif (index >= 40) and (index <= 200):\n",
    "        ax.text2D(0.20, 0.3, \"Long after consensus, t={0}\".format(index), transform=ax.transAxes, fontweight='bold')\n",
    "    elif index >200:\n",
    "        ax.text2D(0.20, 0.3, \"Near convergence, t={0}\".format(index), transform=ax.transAxes, fontweight='bold')\n",
    "    # Set the axis labels\n",
    "    ax.set_zlabel('Performance', fontweight='bold', fontsize=12)\n",
    "    ax.set_xticks([])\n",
    "    ax.set_yticks([])\n",
    "    # Hide the x-axis and y-axis by setting their limits to None\n",
    "    ax.xaxis.pane.set_edgecolor('white')\n",
    "    ax.yaxis.pane.set_edgecolor('white')\n",
    "    # Set the z-axis limits\n",
    "    ax.set_zlim(0.1, 0.8)\n",
    "\n",
    "    # Show the plot\n",
    "    plt.grid(visible=False)\n",
    "    plt.savefig(data_folder + r\"\\results\\Ruggedness_T{0}.png\".format(index), transparent=True, dpi=1000, bbox_inches='tight')\n",
    "    plt.show()\n",
    "    # plt.close()  # not showing the figure in line\n"
   ],
   "metadata": {
    "collapsed": false,
    "ExecuteTime": {
     "start_time": "2024-03-04T13:57:24.828397Z"
    }
   }
  },
  {
   "cell_type": "code",
   "execution_count": null,
   "outputs": [],
   "source": [],
   "metadata": {
    "collapsed": false,
    "ExecuteTime": {
     "start_time": "2024-03-04T13:57:24.829398Z"
    }
   }
  }
 ],
 "metadata": {
  "kernelspec": {
   "display_name": "Python 3",
   "language": "python",
   "name": "python3"
  },
  "language_info": {
   "codemirror_mode": {
    "name": "ipython",
    "version": 2
   },
   "file_extension": ".py",
   "mimetype": "text/x-python",
   "name": "python",
   "nbconvert_exporter": "python",
   "pygments_lexer": "ipython2",
   "version": "2.7.6"
  }
 },
 "nbformat": 4,
 "nbformat_minor": 0
}

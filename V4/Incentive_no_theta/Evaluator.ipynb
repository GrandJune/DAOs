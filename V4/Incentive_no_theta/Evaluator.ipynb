{
 "cells": [
  {
   "cell_type": "code",
   "execution_count": null,
   "metadata": {
    "collapsed": true
   },
   "outputs": [],
   "source": [
    "import matplotlib.pyplot as plt\n",
    "import pickle\n",
    "import numpy as np\n",
    "legend_properties = {'weight':'bold'}"
   ]
  },
  {
   "cell_type": "code",
   "execution_count": null,
   "outputs": [],
   "source": [
    "data_folder = r\"E:\\data\\dao-0310\\V4_4\\Incentive_no_theta\"\n",
    "incentive_list = [0.1, 0.2, 0.3]\n",
    "inactive_rate_list = [0, 0.1, 0.2, 0.3, 0.4, 0.5, 0.6, 0.7, 0.8, 0.9]\n",
    "performance_across_incentive = []\n",
    "consensus_across_incentive = []\n",
    "diversity_across_incentive = []\n",
    "variance_across_incentive = []\n",
    "gini_across_incentive = []\n",
    "for incentive in incentive_list:\n",
    "    performance_across_inactive = []\n",
    "    consensus_across_inactive = []\n",
    "    diversity_across_inactive = []\n",
    "    variance_across_inactive = []\n",
    "    gini_across_inactive = []\n",
    "    for inactive in inactive_rate_list:\n",
    "        dao_performance_file = data_folder + r\"\\dao_performance_incentive_{0}_inactive_{1}\".format(incentive, inactive)\n",
    "        consensus_performance_file = data_folder + r\"\\dao_consensus_performance_incentive_{0}_inactive_{1}\".format(incentive, inactive)\n",
    "        dao_diversity_file = data_folder + r\"\\dao_diversity_incentive_{0}_inactive_{1}\".format(incentive, inactive)\n",
    "        dao_variance_file = data_folder + r\"\\dao_variance_incentive_{0}_inactive_{1}\".format(incentive, inactive)\n",
    "        dao_gini_file = data_folder + r\"\\dao_gini_incentive_{0}_inactive_{1}\".format(incentive, inactive)\n",
    "\n",
    "        with open(dao_performance_file, 'rb') as infile:\n",
    "            dao_performance = pickle.load(infile)\n",
    "        with open(dao_diversity_file, 'rb') as infile:\n",
    "            dao_diversity = pickle.load(infile)\n",
    "        with open(dao_variance_file, 'rb') as infile:\n",
    "            dao_variance = pickle.load(infile)\n",
    "        with open(dao_gini_file, 'rb') as infile:\n",
    "            dao_gini = pickle.load(infile)\n",
    "        with open(consensus_performance_file, 'rb') as infile:\n",
    "            consensus_performance = pickle.load(infile)\n",
    "\n",
    "        performance_across_inactive.append(dao_performance)\n",
    "        consensus_across_inactive.append(consensus_performance)\n",
    "        diversity_across_inactive.append(dao_diversity)\n",
    "        variance_across_inactive.append(dao_variance)\n",
    "        gini_across_inactive.append(dao_gini)\n",
    "\n",
    "    performance_across_incentive.append(performance_across_inactive)\n",
    "    consensus_across_incentive.append(consensus_across_inactive)\n",
    "    diversity_across_incentive.append(diversity_across_inactive)\n",
    "    variance_across_incentive.append(variance_across_inactive)\n",
    "    gini_across_incentive.append(gini_across_inactive)\n",
    "\n"
   ],
   "metadata": {
    "collapsed": false
   }
  },
  {
   "cell_type": "code",
   "execution_count": null,
   "outputs": [],
   "source": [
    "data_folder = r\"E:\\data\\dao-0310\\V4_4\\Incentive_no_theta\"\n",
    "incentive_list = [0.1, 0.2, 0.3]\n",
    "inactive_rate_list = [0, 0.1, 0.2, 0.3, 0.4, 0.5, 0.6, 0.7, 0.8, 0.9]\n",
    "performance_across_incentive = []\n",
    "consensus_across_incentive = []\n",
    "diversity_across_incentive = []\n",
    "variance_across_incentive = []\n",
    "gini_across_incentive = []\n",
    "for incentive in incentive_list:\n",
    "    performance_across_inactive = []\n",
    "    consensus_across_inactive = []\n",
    "    diversity_across_inactive = []\n",
    "    variance_across_inactive = []\n",
    "    gini_across_inactive = []\n",
    "    for inactive in inactive_rate_list:\n",
    "        dao_performance_file = data_folder + r\"\\dao_performance_incentive_{0}_inactive_{1}\".format(incentive, inactive)\n",
    "        consensus_performance_file = data_folder + r\"\\dao_consensus_performance_incentive_{0}_inactive_{1}\".format(incentive, inactive)\n",
    "        dao_diversity_file = data_folder + r\"\\dao_diversity_incentive_{0}_inactive_{1}\".format(incentive, inactive)\n",
    "        dao_variance_file = data_folder + r\"\\dao_variance_incentive_{0}_inactive_{1}\".format(incentive, inactive)\n",
    "        dao_gini_file = data_folder + r\"\\dao_gini_incentive_{0}_inactive_{1}\".format(incentive, inactive)\n",
    "\n",
    "        with open(dao_performance_file, 'rb') as infile:\n",
    "            dao_performance = pickle.load(infile)\n",
    "        with open(dao_diversity_file, 'rb') as infile:\n",
    "            dao_diversity = pickle.load(infile)\n",
    "        with open(dao_variance_file, 'rb') as infile:\n",
    "            dao_variance = pickle.load(infile)\n",
    "        with open(dao_gini_file, 'rb') as infile:\n",
    "            dao_gini = pickle.load(infile)\n",
    "        with open(consensus_performance_file, 'rb') as infile:\n",
    "            consensus_performance = pickle.load(infile)\n",
    "\n",
    "        performance_across_inactive.append(dao_performance)\n",
    "        consensus_across_inactive.append(consensus_performance)\n",
    "        diversity_across_inactive.append(dao_diversity)\n",
    "        variance_across_inactive.append(dao_variance)\n",
    "        gini_across_inactive.append(dao_gini)\n",
    "\n",
    "    performance_across_incentive.append(performance_across_inactive)\n",
    "    consensus_across_incentive.append(consensus_across_inactive)\n",
    "    diversity_across_incentive.append(diversity_across_inactive)\n",
    "    variance_across_incentive.append(variance_across_inactive)\n",
    "    gini_across_incentive.append(gini_across_inactive)\n"
   ],
   "metadata": {
    "collapsed": false
   }
  },
  {
   "cell_type": "code",
   "execution_count": null,
   "outputs": [],
   "source": [
    "# Define more colors\n",
    "# NUS two colors\n",
    "nus_blue = \"#003D7C\"\n",
    "nus_orange = \"#EF7C00\"\n",
    "# Nature three colors\n",
    "nature_orange = \"#F16C23\"\n",
    "nature_blue = \"#2B6A99\"\n",
    "nature_green = \"#1B7C3D\"\n",
    "# Morandi six colors\n",
    "morandi_blue = \"#046586\"\n",
    "morandi_green =  \"#28A9A1\"\n",
    "morandi_yellow = \"#C9A77C\"\n",
    "morandi_orange = \"#F4A016\"\n",
    "morandi_pink = \"#F6BBC6\"\n",
    "morandi_red = \"#E71F19\"\n",
    "morandi_purple = \"#B08BEB\"\n",
    "# Others\n",
    "shallow_grey = \"#D3D4D3\"\n",
    "deep_grey = \"#A6ABB6\""
   ],
   "metadata": {
    "collapsed": false
   }
  },
  {
   "cell_type": "code",
   "execution_count": null,
   "outputs": [],
   "source": [
    "print(np.array(performance_across_incentive).shape)\n",
    "print(np.array(performance_across_inactive).shape)"
   ],
   "metadata": {
    "collapsed": false
   }
  },
  {
   "cell_type": "code",
   "execution_count": null,
   "outputs": [],
   "source": [
    "# Performance\n",
    "# incentive_list = [0, 1, 10, 100]\n",
    "# inactive_rate_list = [0, 0.1, 0.2, 0.3, 0.4]\n",
    "colors = [morandi_blue, morandi_green, morandi_yellow, morandi_orange, morandi_pink, morandi_red, morandi_purple]\n",
    "x = range(len(performance_across_incentive[0][0]))\n",
    "\n",
    "\n",
    "for index, incentive in enumerate(incentive_list):\n",
    "    fig, ax = plt.subplots()\n",
    "    ax.spines[\"left\"].set_linewidth(1.5)\n",
    "    ax.spines[\"right\"].set_linewidth(1.5)\n",
    "    ax.spines[\"top\"].set_linewidth(1.5)\n",
    "    ax.spines[\"bottom\"].set_linewidth(1.5)\n",
    "    # print(index, incentive)\n",
    "    for j, inactive in enumerate(inactive_rate_list):\n",
    "        if j % 3 != 0:\n",
    "            continue\n",
    "        plt.plot(x, performance_across_incentive[index][j], \"k-\", label='incentive={0}, inactive={1}'.format(incentive, inactive), color=colors[j//3])\n",
    "    plt.xlabel('Time', fontweight='bold', fontsize=12)\n",
    "    plt.ylabel('Performance', fontweight='bold', fontsize=12)\n",
    "    # plt.xticks(x)\n",
    "    plt.legend(frameon=False, ncol=1, fontsize=12, prop=legend_properties)\n",
    "    plt.savefig(data_folder + r\"\\performance_across_incentive_{0}.png\".format(incentive), transparent=True, dpi=200)\n",
    "    plt.show()\n",
    "    plt.clf()"
   ],
   "metadata": {
    "collapsed": false
   }
  },
  {
   "cell_type": "code",
   "execution_count": null,
   "outputs": [],
   "source": [
    "# Diversity\n",
    "# incentive_list = [0, 1, 10, 100]\n",
    "x = range(len(performance_across_incentive[0][0]))\n",
    "fig, ax = plt.subplots()\n",
    "ax.spines[\"left\"].set_linewidth(1.5)\n",
    "ax.spines[\"right\"].set_linewidth(1.5)\n",
    "ax.spines[\"top\"].set_linewidth(1.5)\n",
    "ax.spines[\"bottom\"].set_linewidth(1.5)\n",
    "for index, incentive in enumerate(incentive_list):\n",
    "    plt.plot(x, diversity_across_incentive[index][0], \"k-\", label='incentive={0}'.format(incentive), color=colors[index])\n",
    "plt.xlabel('Time', fontweight='bold', fontsize=12)\n",
    "plt.ylabel('Diversity', fontweight='bold', fontsize=12)\n",
    "# plt.xticks(x)\n",
    "plt.legend(frameon=False, ncol=1, fontsize=12, prop=legend_properties)\n",
    "plt.savefig(data_folder + r\"\\diversity_across_incentive.png\", transparent=True, dpi=200)\n",
    "plt.show()\n",
    "plt.clf()"
   ],
   "metadata": {
    "collapsed": false
   }
  },
  {
   "cell_type": "code",
   "execution_count": null,
   "outputs": [],
   "source": [
    "# Gini\n",
    "x = range(len(performance_across_incentive[0][0]))\n",
    "fig, ax = plt.subplots()\n",
    "ax.spines[\"left\"].set_linewidth(1.5)\n",
    "ax.spines[\"right\"].set_linewidth(1.5)\n",
    "ax.spines[\"top\"].set_linewidth(1.5)\n",
    "ax.spines[\"bottom\"].set_linewidth(1.5)\n",
    "for index, incentive in enumerate(incentive_list):\n",
    "    plt.plot(x, gini_across_incentive[index][0], \"k-\", label='incentive={0}'.format(incentive), color=colors[index])\n",
    "plt.xlabel('Time', fontweight='bold', fontsize=12)\n",
    "plt.ylabel('Gini', fontweight='bold', fontsize=12)\n",
    "# plt.xticks(x)\n",
    "plt.legend(frameon=False, ncol=1, fontsize=12, prop=legend_properties)\n",
    "plt.savefig(data_folder + r\"\\gini_across_incentive.png\", transparent=True, dpi=200)\n",
    "plt.show()\n",
    "plt.clf()"
   ],
   "metadata": {
    "collapsed": false
   }
  },
  {
   "cell_type": "code",
   "execution_count": null,
   "outputs": [],
   "source": [
    "# Variance\n",
    "x = range(len(performance_across_incentive[0][0]))\n",
    "fig, ax = plt.subplots()\n",
    "ax.spines[\"left\"].set_linewidth(1.5)\n",
    "ax.spines[\"right\"].set_linewidth(1.5)\n",
    "ax.spines[\"top\"].set_linewidth(1.5)\n",
    "ax.spines[\"bottom\"].set_linewidth(1.5)\n",
    "for index, incentive in enumerate(incentive_list):\n",
    "    plt.plot(x, variance_across_incentive[index][-1], \"k-\", label='incentive={0}'.format(incentive), color=colors[index])\n",
    "plt.xlabel('Time', fontweight='bold', fontsize=12)\n",
    "plt.ylabel('Variance', fontweight='bold', fontsize=12)\n",
    "# plt.xticks(x)\n",
    "plt.legend(frameon=False, ncol=1, fontsize=12, prop=legend_properties)\n",
    "plt.savefig(data_folder + r\"\\variance_across_incentive.png\", transparent=True, dpi=200)\n",
    "plt.show()\n",
    "plt.clf()"
   ],
   "metadata": {
    "collapsed": false
   }
  },
  {
   "cell_type": "code",
   "execution_count": null,
   "outputs": [],
   "source": [
    "# Twin\n",
    "import numpy as np\n",
    "# x = range(len(dao_performance))\n",
    "\n",
    "nusblue = \"#003D7C\"\n",
    "nusorange = \"#EF7C00\"\n",
    "legend_properties = {'weight':'bold'}\n",
    "\n",
    "fig,ax1 = plt.subplots()\n",
    "ax1.set_xlabel(\"Time\", fontweight='bold', fontsize = 12)\n",
    "ax1.set_ylabel(\"Performance\", fontweight='bold', color=\"black\", fontsize=12)\n",
    "\n",
    "ax2=ax1.twinx()\n",
    "ax2.set_ylabel(\"Diversity\", fontweight='bold', color=\"black\", fontsize=12)\n",
    "\n",
    "ax2.spines[\"left\"].set_linewidth(1.5)\n",
    "ax2.spines[\"right\"].set_linewidth(1.5)\n",
    "ax2.spines[\"top\"].set_linewidth(1.5)\n",
    "ax2.spines[\"bottom\"].set_linewidth(1.5)\n",
    "# Colors\n",
    "ax2.spines['left'].set_color(nature_orange) # left spines\n",
    "ax2.spines['right'].set_color(nature_blue) # right spines\n",
    "ax1.yaxis.label.set_color(nature_orange)  # left label\n",
    "ax1.tick_params(axis='y', colors=nature_orange) # left tick\n",
    "ax2.yaxis.label.set_color(nature_blue) # right label\n",
    "ax2.tick_params(axis='y', colors=nature_blue) # right tick\n",
    "\n",
    "line_1 = ax1.plot(x, dao_performance[0], \"k-\", color=nature_orange, label='$\\\\gamma=0$')\n",
    "line_2 = ax1.plot(x, dao_performance[1], \"k:\", color = nature_orange, label='$\\\\gamma=1$')\n",
    "line_3 = ax1.plot(x, dao_performance[2], \"k--\", color = nature_orange, label='$\\\\gamma=10$')\n",
    "line_4 = ax1.plot(x, dao_performance[3], \"k-.\", color = nature_orange, label='$\\\\gamma=100$')\n",
    "\n",
    "line_5 = ax2.plot(x, dao_diversity[0], \"k-\", color= nature_blue, label='$\\\\gamma=0$')\n",
    "line_6 = ax2.plot(x, dao_diversity[1], \"k:\", color = nature_blue, label='$\\\\gamma=1$')\n",
    "line_7 = ax2.plot(x, dao_diversity[2], \"k--\", color = nature_blue, label='$\\\\gamma=10$')\n",
    "line_8 = ax2.plot(x, dao_diversity[3], \"k-.\", color = nature_blue, label='$\\\\gamma=100$')\n",
    "\n",
    "lines_1 = line_1 + line_2 + line_3 + line_4\n",
    "labs_1 = [l.get_label() for l in lines_1]\n",
    "ax1.legend(lines_1, labs_1, frameon=False, fontsize=12, loc=(0.1, 0.50),  ncol=len(lines_1), prop=legend_properties)\n",
    "\n",
    "lines_2 = line_5 + line_6 + line_7 + line_8\n",
    "labs_2 = [l.get_label() for l in lines_2]\n",
    "\n",
    "ax2.legend(lines_2, labs_2, frameon=False, fontsize=12, loc=(0.1, 0.45),  ncol=len(lines_2), prop=legend_properties)\n",
    "\n",
    "plt.savefig(data_folder + r\"\\Incentive_performance_diversity.png\", transparent=True, dpi=200, bbox_inches='tight')\n",
    "plt.show()\n",
    "plt.clf()\n"
   ],
   "metadata": {
    "collapsed": false
   }
  },
  {
   "cell_type": "code",
   "execution_count": null,
   "outputs": [],
   "source": [
    "# Across inactive\n",
    "# Gini\n",
    "x = inactive_rate_list\n",
    "fig, ax = plt.subplots()\n",
    "ax.spines[\"left\"].set_linewidth(1.5)\n",
    "ax.spines[\"right\"].set_linewidth(1.5)\n",
    "ax.spines[\"top\"].set_linewidth(1.5)\n",
    "ax.spines[\"bottom\"].set_linewidth(1.5)\n",
    "plt.plot(x, performance_across_incentive[-1], \"k-\", label=\"DAOs\")\n",
    "plt.xlabel('Time', fontweight='bold', fontsize=12)\n",
    "plt.ylabel('Performance', fontweight='bold', fontsize=12)\n",
    "# plt.xticks(x)\n",
    "plt.legend(frameon=False, ncol=1, fontsize=12, prop=legend_properties)\n",
    "plt.savefig(data_folder + r\"\\performance_across_inactive.png\", transparent=True, dpi=200)\n",
    "plt.show()\n",
    "plt.clf()"
   ],
   "metadata": {
    "collapsed": false
   }
  },
  {
   "cell_type": "code",
   "execution_count": null,
   "outputs": [],
   "source": [],
   "metadata": {
    "collapsed": false
   }
  }
 ],
 "metadata": {
  "kernelspec": {
   "display_name": "Python 3",
   "language": "python",
   "name": "python3"
  },
  "language_info": {
   "codemirror_mode": {
    "name": "ipython",
    "version": 2
   },
   "file_extension": ".py",
   "mimetype": "text/x-python",
   "name": "python",
   "nbconvert_exporter": "python",
   "pygments_lexer": "ipython2",
   "version": "2.7.6"
  }
 },
 "nbformat": 4,
 "nbformat_minor": 0
}

{
 "cells": [
  {
   "cell_type": "code",
   "execution_count": 10,
   "metadata": {
    "collapsed": true
   },
   "outputs": [],
   "source": [
    "import matplotlib.pyplot as plt\n",
    "import pickle\n",
    "from matplotlib import container"
   ]
  },
  {
   "cell_type": "code",
   "execution_count": 15,
   "outputs": [
    {
     "name": "stdout",
     "output_type": "stream",
     "text": [
      "0.6762634920634925\n",
      "0.7428462857142855\n",
      "(1000, 300)\n",
      "(500, 100)\n"
     ]
    }
   ],
   "source": [
    "data_folder = r\"\"\n",
    "hierarchy_performance_file_1 = r\"E:\\data\\dao-0214\\V3\\DHA\\hierarchy_performance\"\n",
    "hierarchy_performance_file_2 = r\"E:\\data\\dao-0214\\V3_1\\DHA\\hierarchy_performance\"\n",
    "\n",
    "original_performance_file_1 = r\"E:\\data\\dao-0214\\V3\\DHA\\hierarchy_original_performance\"\n",
    "original_performance_file_2 = r\"E:\\data\\dao-0214\\V3_1\\DHA\\hierarchy_original_performance\"\n",
    "\n",
    "with open(hierarchy_performance_file_1, 'rb') as infile:\n",
    "    hierarchy_performance_1 = pickle.load(infile)\n",
    "with open(hierarchy_performance_file_2, 'rb') as infile:\n",
    "    hierarchy_performance_2 = pickle.load(infile)\n",
    "\n",
    "with open(original_performance_file_1, 'rb') as infile:\n",
    "    original_performance_1 = pickle.load(infile)\n",
    "with open(original_performance_file_2, 'rb') as infile:\n",
    "    original_performance_2 = pickle.load(infile)\n",
    "\n",
    "import numpy as np\n",
    "print(hierarchy_performance_1[-1])\n",
    "print(hierarchy_performance_2[-1])\n",
    "print(np.array(original_performance_1).shape) # New\n",
    "print(np.array(original_performance_2).shape) # Old"
   ],
   "metadata": {
    "collapsed": false
   }
  },
  {
   "cell_type": "code",
   "execution_count": 12,
   "outputs": [
    {
     "data": {
      "text/plain": "<Figure size 432x288 with 1 Axes>",
      "image/png": "[encoded data removed]"
     },
     "metadata": {
      "needs_background": "light"
     },
     "output_type": "display_data"
    },
    {
     "data": {
      "text/plain": "<Figure size 432x288 with 0 Axes>"
     },
     "metadata": {},
     "output_type": "display_data"
    }
   ],
   "source": [
    "# Performance\n",
    "x = range(len(hierarchy_performance_1))\n",
    "plt.plot(range(len(hierarchy_performance_1)), hierarchy_performance_1, \"k-\", label=\"New\")\n",
    "plt.plot(range(len(hierarchy_performance_2)), hierarchy_performance_2, \"k--\", label=\"Old\")\n",
    "plt.xlabel('Time', fontweight='bold', fontsize=10)\n",
    "plt.ylabel('Performance', fontweight='bold', fontsize=10)\n",
    "# plt.xticks(x)\n",
    "plt.legend(frameon=False, ncol=1, fontsize=10)\n",
    "plt.savefig(data_folder + r\"\\DHA_performance.png\", transparent=True, dpi=200)\n",
    "plt.show()\n",
    "plt.clf()"
   ],
   "metadata": {
    "collapsed": false
   }
  },
  {
   "cell_type": "code",
   "execution_count": 13,
   "outputs": [
    {
     "ename": "NameError",
     "evalue": "name 'dao_original_performance' is not defined",
     "output_type": "error",
     "traceback": [
      "\u001B[1;31m---------------------------------------------------------------------------\u001B[0m",
      "\u001B[1;31mNameError\u001B[0m                                 Traceback (most recent call last)",
      "\u001B[1;32m<ipython-input-13-4d9af739245f>\u001B[0m in \u001B[0;36m<module>\u001B[1;34m\u001B[0m\n\u001B[1;32m----> 1\u001B[1;33m \u001B[0mprint\u001B[0m\u001B[1;33m(\u001B[0m\u001B[0mlen\u001B[0m\u001B[1;33m(\u001B[0m\u001B[0mdao_original_performance\u001B[0m\u001B[1;33m[\u001B[0m\u001B[1;36m0\u001B[0m\u001B[1;33m]\u001B[0m\u001B[1;33m)\u001B[0m\u001B[1;33m)\u001B[0m\u001B[1;33m\u001B[0m\u001B[1;33m\u001B[0m\u001B[0m\n\u001B[0m\u001B[0;32m      2\u001B[0m \u001B[0mprint\u001B[0m\u001B[1;33m(\u001B[0m\u001B[0mdao_original_performance\u001B[0m\u001B[1;33m[\u001B[0m\u001B[1;36m0\u001B[0m\u001B[1;33m]\u001B[0m\u001B[1;33m[\u001B[0m\u001B[1;33m-\u001B[0m\u001B[1;36m1\u001B[0m\u001B[1;33m]\u001B[0m\u001B[1;33m)\u001B[0m\u001B[1;33m\u001B[0m\u001B[1;33m\u001B[0m\u001B[0m\n\u001B[0;32m      3\u001B[0m \u001B[0mprint\u001B[0m\u001B[1;33m(\u001B[0m\u001B[0mdao_original_performance\u001B[0m\u001B[1;33m[\u001B[0m\u001B[1;36m1\u001B[0m\u001B[1;33m]\u001B[0m\u001B[1;33m[\u001B[0m\u001B[1;33m-\u001B[0m\u001B[1;36m1\u001B[0m\u001B[1;33m]\u001B[0m\u001B[1;33m)\u001B[0m\u001B[1;33m\u001B[0m\u001B[1;33m\u001B[0m\u001B[0m\n\u001B[0;32m      4\u001B[0m \u001B[0mprint\u001B[0m\u001B[1;33m(\u001B[0m\u001B[0mdao_original_performance\u001B[0m\u001B[1;33m[\u001B[0m\u001B[1;36m5\u001B[0m\u001B[1;33m]\u001B[0m\u001B[1;33m[\u001B[0m\u001B[1;33m-\u001B[0m\u001B[1;36m1\u001B[0m\u001B[1;33m]\u001B[0m\u001B[1;33m)\u001B[0m\u001B[1;33m\u001B[0m\u001B[1;33m\u001B[0m\u001B[0m\n\u001B[0;32m      5\u001B[0m \u001B[0mprint\u001B[0m\u001B[1;33m(\u001B[0m\u001B[0mdao_original_performance\u001B[0m\u001B[1;33m[\u001B[0m\u001B[1;36m10\u001B[0m\u001B[1;33m]\u001B[0m\u001B[1;33m[\u001B[0m\u001B[1;33m-\u001B[0m\u001B[1;36m1\u001B[0m\u001B[1;33m]\u001B[0m\u001B[1;33m)\u001B[0m\u001B[1;33m\u001B[0m\u001B[1;33m\u001B[0m\u001B[0m\n",
      "\u001B[1;31mNameError\u001B[0m: name 'dao_original_performance' is not defined"
     ]
    }
   ],
   "source": [
    "print(len(dao_original_performance[0]))\n",
    "print(dao_original_performance[0][-1])\n",
    "print(dao_original_performance[1][-1])\n",
    "print(dao_original_performance[5][-1])\n",
    "print(dao_original_performance[10][-1])"
   ],
   "metadata": {
    "collapsed": false
   }
  },
  {
   "cell_type": "code",
   "execution_count": null,
   "outputs": [],
   "source": [
    "# Diversity\n",
    "x = range(len(dao_performance))\n",
    "plt.plot(range(len(dao_diversity)), dao_diversity, \"k-\", label=\"DAO\")\n",
    "plt.plot(range(len(hierarchy_diversity)), hierarchy_diversity, \"k--\", label=\"Hierarchy\")\n",
    "plt.plot(range(len(autonomy_diversity)), autonomy_diversity, \"k:\", label=\"Autonomy\")\n",
    "plt.xlabel('Time', fontweight='bold', fontsize=10)\n",
    "plt.ylabel('Diversity', fontweight='bold', fontsize=10)\n",
    "# plt.xticks(x)\n",
    "plt.legend(frameon=False, ncol=1, fontsize=10)\n",
    "plt.savefig(data_folder + r\"\\DHA_diversity.png\", transparent=True, dpi=200)\n",
    "plt.show()\n",
    "plt.clf()"
   ],
   "metadata": {
    "collapsed": false
   }
  },
  {
   "cell_type": "code",
   "execution_count": null,
   "outputs": [],
   "source": [
    "# Variance\n",
    "x = range(len(dao_performance))\n",
    "legend_properties = {'weight':'bold'}\n",
    "fig, ax = plt.subplots()\n",
    "ax.plot(x, dao_variance, \"k-\", label=\"DAO\")\n",
    "ax.plot(x, hierarchy_variance, \"k--\", label=\"Hierarchy\")\n",
    "ax.plot(x, autonomy_variance, \"k:\", label=\"Autonomy\")\n",
    "plt.xlabel('Time', fontweight='bold', fontsize=10)\n",
    "plt.ylabel('Variance', fontweight='bold', fontsize=10)\n",
    "# plt.xticks(x)\n",
    "# for ln in ax.lines:\n",
    "#     ln.set_linewidth(2)\n",
    "ax.legend(frameon=False, ncol=1, fontsize=10, prop=legend_properties)\n",
    "plt.savefig(data_folder + r\"\\DHA_variance.png\", transparent=True, dpi=200)\n",
    "plt.show()\n",
    "plt.clf()"
   ],
   "metadata": {
    "collapsed": false
   }
  },
  {
   "cell_type": "code",
   "execution_count": null,
   "outputs": [],
   "source": [
    "# Twin\n",
    "import numpy as np\n",
    "x = range(len(dao_performance))\n",
    "\n",
    "nusblue = \"#003D7C\"\n",
    "nusorange = \"#EF7C00\"\n",
    "legend_properties = {'weight':'bold'}\n",
    "\n",
    "fig,ax1 = plt.subplots()\n",
    "ax1.set_xlabel(\"Time\", fontweight='bold', fontsize = 10)\n",
    "ax1.set_ylabel(\"Performance\", fontweight='bold', color=\"black\", fontsize=12)\n",
    "\n",
    "ax2=ax1.twinx()\n",
    "ax2.set_ylabel(\"Diversity\", fontweight='bold', color=\"black\", fontsize=12)\n",
    "\n",
    "ax2.spines['left'].set_color(nusblue)\n",
    "ax2.spines[\"left\"].set_linewidth(2)\n",
    "ax2.spines['right'].set_color(nusorange)\n",
    "ax2.spines[\"right\"].set_linewidth(2)\n",
    "ax2.spines[\"top\"].set_linewidth(2)\n",
    "ax2.spines[\"bottom\"].set_linewidth(2)\n",
    "ax2.yaxis.label.set_color(nusorange)\n",
    "ax2.tick_params(axis='y', colors=nusorange)\n",
    "\n",
    "ax1.yaxis.label.set_color(nusblue)\n",
    "ax1.tick_params(axis='y', colors=nusblue)\n",
    "\n",
    "line_1 = ax1.plot(x, dao_performance, \"k-\", color=nusblue, label=\"DAO\")\n",
    "line_2 = ax1.plot(x, hierarchy_performance, \"k--\", color = nusblue, label=\"Hierarchy\")\n",
    "line_3 = ax1.plot(x, autonomy_performance, \"k:\", color = nusblue, label=\"Autonomy\")\n",
    "\n",
    "line_4 = ax2.plot(x, dao_diversity, \"k-\", color= nusorange, label=\"DAO\")\n",
    "line_5 = ax2.plot(x, hierarchy_diversity, \"k--\", color = nusorange, label=\"Hierarchy\")\n",
    "line_6 = ax2.plot(x, autonomy_diversity, \"k:\", color = nusorange, label=\"Autonomy\")\n",
    "\n",
    "lines_1 = line_1 + line_2 + line_3\n",
    "labs_1 = [l.get_label() for l in lines_1]\n",
    "ax1.legend(lines_1, labs_1, frameon=False, fontsize=12, loc=(0, 1),  ncol=3, prop=legend_properties)\n",
    "\n",
    "lines_2 = line_4 + line_5 + line_6\n",
    "labs_2 = [l.get_label() for l in lines_1]\n",
    "\n",
    "ax2.legend(lines_2, labs_2, frameon=False, fontsize=12, loc=(0, 1.05),  ncol=3, prop=legend_properties)\n",
    "\n",
    "plt.savefig(data_folder + r\"\\DHA_performance_diversity.png\", transparent=True, dpi=200, bbox_inches='tight')\n",
    "plt.show()\n",
    "plt.clf()\n"
   ],
   "metadata": {
    "collapsed": false
   }
  },
  {
   "cell_type": "code",
   "execution_count": null,
   "outputs": [],
   "source": [],
   "metadata": {
    "collapsed": false
   }
  }
 ],
 "metadata": {
  "kernelspec": {
   "display_name": "Python 3",
   "language": "python",
   "name": "python3"
  },
  "language_info": {
   "codemirror_mode": {
    "name": "ipython",
    "version": 2
   },
   "file_extension": ".py",
   "mimetype": "text/x-python",
   "name": "python",
   "nbconvert_exporter": "python",
   "pygments_lexer": "ipython2",
   "version": "2.7.6"
  }
 },
 "nbformat": 4,
 "nbformat_minor": 0
}

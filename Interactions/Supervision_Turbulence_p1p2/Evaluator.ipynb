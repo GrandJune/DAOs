{
 "cells": [
  {
   "cell_type": "code",
   "metadata": {
    "collapsed": true,
    "ExecuteTime": {
     "end_time": "2024-09-14T13:17:00.691373Z",
     "start_time": "2024-09-14T13:16:59.863283Z"
    }
   },
   "source": [
    "import matplotlib.pyplot as plt\n",
    "import pickle\n",
    "import numpy as np\n",
    "import math\n",
    "legend_properties = {'weight':'bold'}"
   ],
   "outputs": [],
   "execution_count": 1
  },
  {
   "cell_type": "code",
   "source": [
    "data_folder = r\"E:\\data\\dao-0905-24\\Supervision_Turbulence_p1p2_2\"\n",
    "p1_list = [0.10, 0.20, 0.30, 0.40, 0.50, 0.60, 0.70, 0.80, 0.90]\n",
    "p2_list = [0.10, 0.20, 0.30, 0.40, 0.50, 0.60, 0.70, 0.80, 0.90]\n",
    "performance_list_across_p1p2 = []\n",
    "for p1 in p1_list:\n",
    "    performance_list_across_p2 = []\n",
    "    for p2 in p2_list:\n",
    "        data_file = data_folder + r\"\\hierarchy_performance_p1_{0}_p2_{1}\".format(p1, p2)\n",
    "        with open(data_file, 'rb') as infile:\n",
    "            performance = pickle.load(infile)\n",
    "        performance_list_across_p2.append(sum(performance) / len(performance))\n",
    "    performance_list_across_p1p2.append(performance_list_across_p2)\n"
   ],
   "metadata": {
    "collapsed": false,
    "ExecuteTime": {
     "end_time": "2024-09-14T13:18:56.225250Z",
     "start_time": "2024-09-14T13:18:56.088767Z"
    }
   },
   "outputs": [],
   "execution_count": 4
  },
  {
   "cell_type": "code",
   "execution_count": 11,
   "outputs": [],
   "source": [
    "# Define more colors\n",
    "# NUS two colors\n",
    "nus_blue = \"#003D7C\"\n",
    "nus_orange = \"#EF7C00\"\n",
    "# Nature three colors\n",
    "nature_orange = \"#F16C23\"\n",
    "nature_blue = \"#2B6A99\"\n",
    "nature_green = \"#1B7C3D\"\n",
    "# Morandi six colors\n",
    "morandi_blue = \"#046586\"\n",
    "morandi_green =  \"#28A9A1\"\n",
    "morandi_yellow = \"#C9A77C\"\n",
    "morandi_orange = \"#F4A016\"\n",
    "morandi_pink = \"#F6BBC6\"\n",
    "morandi_red = \"#E71F19\"\n",
    "morandi_purple = \"#B08BEB\"\n",
    "# Others\n",
    "shallow_grey = \"#D3D4D3\"\n",
    "deep_grey = \"#A6ABB6\""
   ],
   "metadata": {
    "collapsed": false
   }
  },
  {
   "metadata": {
    "ExecuteTime": {
     "end_time": "2024-09-05T08:45:55.387199Z",
     "start_time": "2024-09-05T08:45:55.358198Z"
    }
   },
   "cell_type": "code",
   "source": [
    "import pickle\n",
    "task_info = [0] * 27\n",
    "with open(\"task_info\", 'wb') as out_file:\n",
    "    pickle.dump(task_info, out_file)"
   ],
   "outputs": [],
   "execution_count": 8
  },
  {
   "metadata": {
    "ExecuteTime": {
     "end_time": "2024-09-05T08:45:50.743317Z",
     "start_time": "2024-09-05T08:45:50.729287Z"
    }
   },
   "cell_type": "code",
   "source": "print(task_info)",
   "outputs": [
    {
     "name": "stdout",
     "output_type": "stream",
     "text": [
      "[0, 0, 0, 0, 0, 0, 0, 0, 0, 0, 0, 0, 0, 0, 0, 0, 0, 0, 0, 0, 0, 0, 0, 0, 0, 0, 0]\n"
     ]
    }
   ],
   "execution_count": 7
  },
  {
   "metadata": {
    "ExecuteTime": {
     "end_time": "2024-09-14T13:20:35.966318Z",
     "start_time": "2024-09-14T13:20:35.393302Z"
    }
   },
   "cell_type": "code",
   "source": [
    "# heatmap figure to replace the 3D surface\n",
    "import numpy as np\n",
    "import matplotlib.pyplot as plt\n",
    "K_list = [0, 1, 2, 3, 4, 5, 6, 7, 8]\n",
    "# Generate some sample data\n",
    "x = np.arange(0.1, 1.0, 0.1)\n",
    "y = np.arange(0.1, 1.0, 0.1)\n",
    "# p1 belief learning from code\n",
    "# p2 code learning from belief\n",
    "X, Y = np.meshgrid(x, y)     # Create a grid of x and y values\n",
    "gs_fitness_across_p1p2 = np.array(performance_list_across_p1p2)\n",
    "z = gs_fitness_across_p1p2\n",
    "# Create the 2D color plot\n",
    "plt.pcolormesh(x, y, z, cmap='jet')\n",
    "plt.colorbar()  # Add a colorbar for reference\n",
    "\n",
    "# Set the axis labels and title\n",
    "plt.xlabel('Learning by Code ($p_2)$')\n",
    "# plt.xticks(x)\n",
    "# plt.yticks(y)\n",
    "plt.ylabel('Learning from Code ($p_1$)')\n",
    "plt.title('(a) The Proposed Hierarchy Model')\n",
    "plt.savefig(data_folder + r\"\\Supervision_p1p2.png\", transparent=True, dpi=300)\n",
    "# Display the plot\n",
    "plt.show()"
   ],
   "outputs": [
    {
     "data": {
      "text/plain": [
       "<Figure size 432x288 with 2 Axes>"
      ],
      "image/png": "[encoded data removed]"
     },
     "metadata": {
      "needs_background": "light"
     },
     "output_type": "display_data"
    }
   ],
   "execution_count": 6
  },
  {
   "metadata": {},
   "cell_type": "markdown",
   "source": ""
  },
  {
   "metadata": {},
   "cell_type": "code",
   "outputs": [],
   "execution_count": null,
   "source": ""
  }
 ],
 "metadata": {
  "kernelspec": {
   "display_name": "Python 3",
   "language": "python",
   "name": "python3"
  },
  "language_info": {
   "codemirror_mode": {
    "name": "ipython",
    "version": 2
   },
   "file_extension": ".py",
   "mimetype": "text/x-python",
   "name": "python",
   "nbconvert_exporter": "python",
   "pygments_lexer": "ipython2",
   "version": "2.7.6"
  }
 },
 "nbformat": 4,
 "nbformat_minor": 0
}

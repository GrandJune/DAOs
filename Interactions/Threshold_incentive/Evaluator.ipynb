{
 "cells": [
  {
   "cell_type": "code",
   "execution_count": 1,
   "metadata": {
    "collapsed": true,
    "ExecuteTime": {
     "end_time": "2023-06-10T07:24:22.502488900Z",
     "start_time": "2023-06-10T07:24:22.221455200Z"
    }
   },
   "outputs": [],
   "source": [
    "import matplotlib.pyplot as plt\n",
    "from matplotlib import container\n",
    "import pickle\n",
    "import numpy as np\n",
    "legend_properties = {'weight':'bold'}"
   ]
  },
  {
   "cell_type": "code",
   "execution_count": 2,
   "outputs": [],
   "source": [
    "asymmetry_list = [1, 5, 10, 20]\n",
    "data_folder = r\"E:\\data\\dao-0310\\V5_interaction\\Threshold_incentive\"\n",
    "dao_performance_file_1 = data_folder + r\"\\dao_performance_across_threshold_1\"\n",
    "dao_consensus_file_1 = data_folder + r\"\\dao_consensus_performance_across_threshold_1\"\n",
    "dao_diversity_file_1 = data_folder + r\"\\dao_diversity_across_threshold_1\"\n",
    "dao_variance_file_1 = data_folder + r\"\\dao_variance_across_threshold_1\"\n",
    "\n",
    "dao_performance_file_2 = data_folder + r\"\\dao_performance_across_threshold_5\"\n",
    "dao_consensus_file_2 = data_folder + r\"\\dao_consensus_performance_across_threshold_5\"\n",
    "dao_diversity_file_2 = data_folder + r\"\\dao_diversity_across_threshold_5\"\n",
    "dao_variance_file_2 = data_folder + r\"\\dao_variance_across_threshold_5\"\n",
    "\n",
    "dao_performance_file_3 = data_folder + r\"\\dao_performance_across_threshold_10\"\n",
    "dao_consensus_file_3 = data_folder + r\"\\dao_consensus_performance_across_threshold_10\"\n",
    "dao_diversity_file_3 = data_folder + r\"\\dao_diversity_across_threshold_10\"\n",
    "dao_variance_file_3 = data_folder + r\"\\dao_variance_across_threshold_10\"\n",
    "\n",
    "dao_performance_file_4 = data_folder + r\"\\dao_performance_across_threshold_20\"\n",
    "dao_consensus_file_4 = data_folder + r\"\\dao_consensus_performance_across_threshold_20\"\n",
    "dao_diversity_file_4 = data_folder + r\"\\dao_diversity_across_threshold_20\"\n",
    "dao_variance_file_4 = data_folder + r\"\\dao_variance_across_threshold_20\"\n",
    "\n",
    "dao_reference_file = r\"E:\\data\\dao-0310\\V4_4\\Threshold\\dao_performance_across_threshold\"\n",
    "with open(dao_reference_file, 'rb') as infile:\n",
    "    dao_reference = pickle.load(infile)\n",
    "\n",
    "with open(dao_performance_file_1, 'rb') as infile:\n",
    "    dao_performance_1 = pickle.load(infile)\n",
    "with open(dao_variance_file_1, 'rb') as infile:\n",
    "    dao_variance_1 = pickle.load(infile)\n",
    "with open(dao_diversity_file_1, 'rb') as infile:\n",
    "    dao_diversity_1 = pickle.load(infile)\n",
    "with open(dao_consensus_file_1, 'rb') as infile:\n",
    "    dao_consensus_1 = pickle.load(infile)\n",
    "\n",
    "with open(dao_performance_file_2, 'rb') as infile:\n",
    "    dao_performance_2 = pickle.load(infile)\n",
    "with open(dao_variance_file_2, 'rb') as infile:\n",
    "    dao_variance_2 = pickle.load(infile)\n",
    "with open(dao_diversity_file_2, 'rb') as infile:\n",
    "    dao_diversity_2 = pickle.load(infile)\n",
    "with open(dao_consensus_file_2, 'rb') as infile:\n",
    "    dao_consensus_2 = pickle.load(infile)\n",
    "\n",
    "with open(dao_performance_file_3, 'rb') as infile:\n",
    "    dao_performance_3 = pickle.load(infile)\n",
    "with open(dao_variance_file_3, 'rb') as infile:\n",
    "    dao_variance_3 = pickle.load(infile)\n",
    "with open(dao_diversity_file_3, 'rb') as infile:\n",
    "    dao_diversity_3 = pickle.load(infile)\n",
    "with open(dao_consensus_file_3, 'rb') as infile:\n",
    "    dao_consensus_3 = pickle.load(infile)\n",
    "\n",
    "with open(dao_performance_file_4, 'rb') as infile:\n",
    "    dao_performance_4 = pickle.load(infile)\n",
    "with open(dao_variance_file_4, 'rb') as infile:\n",
    "    dao_variance_4 = pickle.load(infile)\n",
    "with open(dao_diversity_file_4, 'rb') as infile:\n",
    "    dao_diversity_4 = pickle.load(infile)\n",
    "with open(dao_consensus_file_4, 'rb') as infile:\n",
    "    dao_consensus_4 = pickle.load(infile)\n"
   ],
   "metadata": {
    "collapsed": false,
    "ExecuteTime": {
     "end_time": "2023-06-10T07:24:23.312712Z",
     "start_time": "2023-06-10T07:24:23.288714900Z"
    }
   }
  },
  {
   "cell_type": "code",
   "execution_count": 3,
   "outputs": [],
   "source": [
    "# Define more colors\n",
    "# NUS two colors\n",
    "nus_blue = \"#003D7C\"\n",
    "nus_orange = \"#EF7C00\"\n",
    "# Nature three colors\n",
    "nature_orange = \"#F16C23\"\n",
    "nature_blue = \"#2B6A99\"\n",
    "nature_green = \"#1B7C3D\"\n",
    "# Morandi six colors\n",
    "morandi_blue = \"#046586\"\n",
    "morandi_green =  \"#28A9A1\"\n",
    "morandi_yellow = \"#C9A77C\"\n",
    "morandi_orange = \"#F4A016\"\n",
    "morandi_pink = \"#F6BBC6\"\n",
    "morandi_red = \"#E71F19\"\n",
    "morandi_purple = \"#B08BEB\"\n",
    "# Others\n",
    "shallow_grey = \"#D3D4D3\"\n",
    "deep_grey = \"#A6ABB6\""
   ],
   "metadata": {
    "collapsed": false,
    "ExecuteTime": {
     "end_time": "2023-06-10T07:24:24.574299600Z",
     "start_time": "2023-06-10T07:24:24.559315Z"
    }
   }
  },
  {
   "cell_type": "code",
   "execution_count": 6,
   "outputs": [
    {
     "data": {
      "text/plain": "<Figure size 432x288 with 1 Axes>",
      "image/png": "[encoded data removed]"
     },
     "metadata": {
      "needs_background": "light"
     },
     "output_type": "display_data"
    }
   ],
   "source": [
    "# Performance\n",
    "x = np.arange(0.40, 0.71, 0.01)\n",
    "fig, (ax1) = plt.subplots(1, 1)\n",
    "ax1.plot(x, dao_reference, \"k-\", color=deep_grey, label=\"$\\\\gamma=0$\")\n",
    "ax1.plot(x, dao_performance_1, \"k-\", label=\"$\\\\gamma=5$\")  # most asymmetry\n",
    "ax1.plot(x, dao_performance_2, \"k--\", label=\"$\\\\gamma=10$\")\n",
    "ax1.plot(x, dao_performance_3, \"k:\", label=\"$\\\\gamma=20$\")\n",
    "\n",
    "plt.xlabel('Threshold', fontweight='bold', fontsize=12)\n",
    "plt.ylabel('Performance', fontweight='bold', fontsize=12)\n",
    "# plt.xticks(x)\n",
    "handles, labels = ax1.get_legend_handles_labels()\n",
    "handles = [h[0] if isinstance(h, container.ErrorbarContainer) else h for h in handles]\n",
    "plt.legend(frameon=False, ncol=1, fontsize=12)\n",
    "plt.savefig(data_folder + r\"\\Performance_across_threshold_incentive.png\", transparent=True, dpi=300)\n",
    "plt.show()"
   ],
   "metadata": {
    "collapsed": false,
    "ExecuteTime": {
     "end_time": "2023-06-10T07:39:17.713165600Z",
     "start_time": "2023-06-10T07:39:17.037887100Z"
    }
   }
  },
  {
   "cell_type": "code",
   "execution_count": null,
   "outputs": [],
   "source": [],
   "metadata": {
    "collapsed": false
   }
  }
 ],
 "metadata": {
  "kernelspec": {
   "display_name": "Python 3",
   "language": "python",
   "name": "python3"
  },
  "language_info": {
   "codemirror_mode": {
    "name": "ipython",
    "version": 2
   },
   "file_extension": ".py",
   "mimetype": "text/x-python",
   "name": "python",
   "nbconvert_exporter": "python",
   "pygments_lexer": "ipython2",
   "version": "2.7.6"
  }
 },
 "nbformat": 4,
 "nbformat_minor": 0
}

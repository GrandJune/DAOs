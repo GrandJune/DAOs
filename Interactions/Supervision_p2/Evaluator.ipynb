{
 "cells": [
  {
   "cell_type": "code",
   "metadata": {
    "collapsed": true,
    "ExecuteTime": {
     "end_time": "2024-04-10T13:58:08.686901Z",
     "start_time": "2024-04-10T13:58:08.674864Z"
    }
   },
   "source": [
    "import matplotlib.pyplot as plt\n",
    "import pickle\n",
    "import numpy as np\n",
    "legend_properties = {'weight':'bold'}"
   ],
   "outputs": [],
   "execution_count": 10
  },
  {
   "cell_type": "code",
   "source": [
    "data_folder = r\"E:\\data\\dao-0310-23\\V4_4\\Supervision_p2_3\"\n",
    "hierarchy_performance_file_1 = data_folder + r\"\\hierarchy_performance_across_p2_1\"\n",
    "superior_performance_file_1 = data_folder + r\"\\superior_performance_across_p2_1\"\n",
    "hierarchy_diversity_file_1 = data_folder + r\"\\hierarchy_diversity_across_p2_1\"\n",
    "hierarchy_variance_file_1 = data_folder + r\"\\hierarchy_variance_across_p2_1\"\n",
    "\n",
    "hierarchy_performance_file_2 = data_folder + r\"\\hierarchy_performance_across_p2_2\"\n",
    "superior_performance_file_2 = data_folder + r\"\\superior_performance_across_p2_2\"\n",
    "hierarchy_diversity_file_2 = data_folder + r\"\\hierarchy_diversity_across_p2_2\"\n",
    "hierarchy_variance_file_2 = data_folder + r\"\\hierarchy_variance_across_p2_2\"\n",
    "\n",
    "with open(hierarchy_performance_file_1, 'rb') as infile:\n",
    "    hierarchy_performance_1 = pickle.load(infile)\n",
    "with open(hierarchy_diversity_file_1, 'rb') as infile:\n",
    "    hierarchy_diversity_1 = pickle.load(infile)\n",
    "with open(hierarchy_performance_file_2, 'rb') as infile:\n",
    "    hierarchy_performance_2 = pickle.load(infile)\n",
    "with open(hierarchy_diversity_file_2, 'rb') as infile:\n",
    "    hierarchy_diversity_2 = pickle.load(infile)\n",
    "\n",
    "hierarchy_performance = np.hstack((hierarchy_performance_1, hierarchy_performance_2))\n",
    "hierarchy_diversity = np.hstack((hierarchy_diversity_1, hierarchy_diversity_2))\n",
    "# add some reference line\n",
    "dao_performance_file = \"E:\\data\\dao-0310-23\\V4_3\\Threshold\\dao_performance_across_threshold\"\n",
    "with open(dao_performance_file, 'rb') as infile:\n",
    "    dao_performance = pickle.load(infile)\n",
    "\n",
    "print(max(dao_performance), min(dao_performance))\n",
    "print()"
   ],
   "metadata": {
    "collapsed": false,
    "ExecuteTime": {
     "end_time": "2024-04-10T14:20:06.010732Z",
     "start_time": "2024-04-10T14:20:05.952112Z"
    }
   },
   "outputs": [
    {
     "name": "stdout",
     "output_type": "stream",
     "text": [
      "0.7910285714285717 0.5690901587301586\n",
      "\n"
     ]
    }
   ],
   "execution_count": 19
  },
  {
   "cell_type": "code",
   "source": [
    "# Define more colors\n",
    "# NUS two colors\n",
    "nus_blue = \"#003D7C\"\n",
    "nus_orange = \"#EF7C00\"\n",
    "# Nature three colors\n",
    "nature_orange = \"#F16C23\"\n",
    "nature_blue = \"#2B6A99\"\n",
    "nature_green = \"#1B7C3D\"\n",
    "# Morandi six colors\n",
    "morandi_blue = \"#046586\"\n",
    "morandi_green =  \"#28A9A1\"\n",
    "morandi_yellow = \"#C9A77C\"\n",
    "morandi_orange = \"#F4A016\"\n",
    "morandi_pink = \"#F6BBC6\"\n",
    "morandi_red = \"#E71F19\"\n",
    "morandi_purple = \"#B08BEB\"\n",
    "# Others\n",
    "shallow_grey = \"#D3D4D3\"\n",
    "deep_grey = \"#A6ABB6\""
   ],
   "metadata": {
    "collapsed": false,
    "ExecuteTime": {
     "end_time": "2024-04-10T14:20:08.204829Z",
     "start_time": "2024-04-10T14:20:08.188151Z"
    }
   },
   "outputs": [],
   "execution_count": 20
  },
  {
   "cell_type": "code",
   "source": [
    "# # Performance\n",
    "# x =  np.arange(0.1, 1.0, 0.1)\n",
    "# # print(hierarchy_performance)\n",
    "# # plt.plot(x, hierarchy_percentile_10, \"k--\", label=\"10th Percentile\")\n",
    "# plt.plot(x, hierarchy_performance, \"k-\", label=\"Hierarchy\")\n",
    "# # plt.plot(x, hierarchy_percentile_90, \"k-.\", label=\"90th Percentile\")\n",
    "# plt.xlabel('$p_1$', fontweight='bold', fontsize=10)\n",
    "# plt.ylabel('Diversity', fontweight='bold', fontsize=10)\n",
    "# # plt.xticks(x)\n",
    "# plt.legend(frameon=False, ncol=1, fontsize=10)\n",
    "# plt.savefig(data_folder + r\"\\Supervision_performance.png\", transparent=False, dpi=300)\n",
    "# plt.show()\n",
    "# plt.clf()"
   ],
   "metadata": {
    "collapsed": false,
    "ExecuteTime": {
     "end_time": "2024-04-10T14:20:08.898281Z",
     "start_time": "2024-04-10T14:20:08.894313Z"
    }
   },
   "outputs": [],
   "execution_count": 21
  },
  {
   "cell_type": "code",
   "source": [
    "# # Diversity\n",
    "# x =  np.arange(0.1, 1.0, 0.1)\n",
    "# legend_properties = {'weight':'bold'}\n",
    "# plt.plot(x, hierarchy_diversity, \"k-\", label=\"Hierarchy\")\n",
    "# plt.xlabel('Time', fontweight='bold', fontsize=12)\n",
    "# plt.ylabel('Diversity', fontweight='bold', fontsize=12)\n",
    "# # plt.xticks(x)\n",
    "# plt.legend(frameon=False, ncol=1, fontsize=12, prop=legend_properties)\n",
    "# plt.savefig(data_folder + r\"\\Supervision_diversity.png\", transparent=False, dpi=300)\n",
    "# plt.show()\n",
    "# plt.clf()"
   ],
   "metadata": {
    "collapsed": false,
    "ExecuteTime": {
     "end_time": "2024-04-10T13:58:12.000306Z",
     "start_time": "2024-04-10T13:58:11.984280Z"
    }
   },
   "outputs": [],
   "execution_count": 14
  },
  {
   "cell_type": "code",
   "source": [
    "# Twin  across p_1 (learning from code); p_2 = \n",
    "x =  [0.05, 0.1, 0.15, 0.2, 0.25, 0.3, 0.35, 0.4, 0.45, 0.5, 0.55, 0.6, 0.65, 0.7, 0.75, 0.8, 0.85, 0.9, 0.95]\n",
    "nusblue = \"#003D7C\"\n",
    "nusorange = \"#EF7C00\"\n",
    "legend_properties = {'weight':'bold'}\n",
    "\n",
    "fig,ax1 = plt.subplots()\n",
    "ax1.set_xlabel(\"Learning From the Code ($p_1$)\", fontweight='bold', fontsize = 12)\n",
    "ax1.set_ylabel(\"Performance\", fontweight='bold', color=\"black\", fontsize=12)\n",
    "\n",
    "ax2=ax1.twinx()\n",
    "ax2.set_ylabel(\"Diversity\", fontweight='bold', color=\"black\", fontsize=12)\n",
    "\n",
    "ax2.spines['left'].set_color(nature_orange) # left y-axis\n",
    "ax1.yaxis.label.set_color(nature_orange) # left y-axis labels\n",
    "ax1.tick_params(axis='y', colors=nature_orange) # left y-axis params\n",
    "ax2.spines['right'].set_color(nature_blue) # right y-axis\n",
    "ax2.yaxis.label.set_color(nature_blue)  # right y-axis labels\n",
    "ax2.tick_params(axis='y', colors=nature_blue) # right y-axis params\n",
    "\n",
    "ax2.spines[\"left\"].set_linewidth(1.5)\n",
    "ax2.spines[\"right\"].set_linewidth(1.5)\n",
    "ax2.spines[\"top\"].set_linewidth(1.5)\n",
    "ax2.spines[\"bottom\"].set_linewidth(1.5)\n",
    "\n",
    "ax2.set_xlim([0.1, 0.9])\n",
    "ax1.set_ylim([0.64, 0.80])\n",
    "ax2.set_ylim([0.30, 0.38])\n",
    "max_dao = max(dao_performance[:21])\n",
    "min_dao = min(dao_performance[:21])\n",
    "print(\"DAO range: \", max_dao, min_dao)\n",
    "# rect = patches.Rectangle((-0.1, 0.5*(max_dao + min_dao)), 1, max_dao-0.5*(max_dao + min_dao), linewidth=1, edgecolor=shallow_grey, facecolor=shallow_grey)\n",
    "# ax1.add_patch(rect)\n",
    "# ax1.text(x=0.5, y=0.72, s=r\"DAO performance with $\\theta$ in [0.4, 0.6]\", horizontalalignment='center', fontsize=12, fontweight='bold')\n",
    "\n",
    "line_1 = ax1.plot(x, hierarchy_performance, \"-\", color=nature_orange, label=\"Performance\")\n",
    "line_2 = ax2.plot(x, hierarchy_diversity, \"-\", color= nature_blue, label=\"Diversity\")\n",
    "\n",
    "lines_1 = line_1 + line_2\n",
    "labs_1 = [l.get_label() for l in lines_1]\n",
    "ax1.legend(lines_1, labs_1, frameon=False, loc=(0.65, 0.70), fontsize=12,  ncol=1, prop=legend_properties)\n",
    "\n",
    "# lines_2 = line_2\n",
    "# labs_2 = [l.get_label() for l in lines_2]\n",
    "# ax2.legend(lines_2, labs_2, frameon=False, fontsize=12, loc=(0, 1.05),  ncol=3, prop=legend_properties)\n",
    "\n",
    "# add the reference line of naive DAO\n",
    "reference_value = dao_performance[10]\n",
    "print(\"theta=0.5: \", reference_value)\n",
    "line_3 = ax1.axhline(y=reference_value, color=deep_grey, linestyle='--')  # theta=0.5\n",
    "ax1.annotate('DAO at $\\\\theta=0.5$', xy=(250, 130), xycoords='figure points')\n",
    "\n",
    "# Find the point on the line where y equals a certain value (i.e., DAO performance)\n",
    "x_vals = x\n",
    "y_vals = hierarchy_performance\n",
    "y_value = reference_value\n",
    "x_intersect = None\n",
    "for i in range(len(x_vals)-1):\n",
    "    if min(y_vals[i], y_vals[i+1]) <= y_value <= max(y_vals[i], y_vals[i+1]):\n",
    "        x_intersect = x_vals[i] + (y_value - y_vals[i]) * (x_vals[i+1] - x_vals[i]) / (y_vals[i+1] - y_vals[i])\n",
    "        break\n",
    "print(x_intersect, y_value)\n",
    "# Plot the intersection point\n",
    "if x_intersect is not None:\n",
    "    ax1.plot(x_intersect, y_value, \"ro\")\n",
    "    arrow = ax1.annotate('({0}, {1})'.format('%.2f'%x_intersect, '%.3f'%y_value), xy=(x_intersect, y_value), xytext=(x_intersect-0.08, y_value-0.03),  textcoords='data', arrowprops=dict(arrowstyle=\"->\", facecolor='black'))\n",
    "plt.savefig(data_folder + r\"\\p1_performance_diversity.png\", transparent=True, dpi=300, bbox_inches='tight')\n",
    "plt.show()\n",
    "plt.clf()"
   ],
   "metadata": {
    "collapsed": false,
    "ExecuteTime": {
     "end_time": "2024-04-10T14:20:11.893890Z",
     "start_time": "2024-04-10T14:20:11.287878Z"
    }
   },
   "outputs": [
    {
     "name": "stdout",
     "output_type": "stream",
     "text": [
      "DAO range:  0.7910285714285717 0.6753898412698411\n",
      "theta=0.5:  0.7156895238095237\n",
      "None 0.7156895238095237\n"
     ]
    },
    {
     "data": {
      "text/plain": [
       "<Figure size 432x288 with 2 Axes>"
      ],
      "image/png": "[encoded data removed]"
     },
     "metadata": {},
     "output_type": "display_data"
    },
    {
     "data": {
      "text/plain": [
       "<Figure size 432x288 with 0 Axes>"
      ]
     },
     "metadata": {},
     "output_type": "display_data"
    }
   ],
   "execution_count": 22
  },
  {
   "metadata": {},
   "cell_type": "code",
   "outputs": [],
   "execution_count": null,
   "source": ""
  }
 ],
 "metadata": {
  "kernelspec": {
   "display_name": "Python 3",
   "language": "python",
   "name": "python3"
  },
  "language_info": {
   "codemirror_mode": {
    "name": "ipython",
    "version": 2
   },
   "file_extension": ".py",
   "mimetype": "text/x-python",
   "name": "python",
   "nbconvert_exporter": "python",
   "pygments_lexer": "ipython2",
   "version": "2.7.6"
  }
 },
 "nbformat": 4,
 "nbformat_minor": 0
}
